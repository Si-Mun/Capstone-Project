{
  "cells": [
    {
      "attachments": {},
      "cell_type": "markdown",
      "metadata": {
        "colab_type": "text",
        "id": "view-in-github"
      },
      "source": [
        "<a href=\"https://colab.research.google.com/github/Si-Mun/Machine-Learning/blob/main/Build%20Model.ipynb\" target=\"_parent\"><img src=\"https://colab.research.google.com/assets/colab-badge.svg\" alt=\"Open In Colab\"/></a>"
      ]
    },
    {
      "attachments": {},
      "cell_type": "markdown",
      "metadata": {
        "id": "P25UnDhgTMG3"
      },
      "source": [
        "# Import and Preprocess Data"
      ]
    },
    {
      "cell_type": "code",
      "execution_count": null,
      "metadata": {
        "id": "pwsQB5qyGbQT"
      },
      "outputs": [],
      "source": [
        "from tensorflow.keras.optimizers import RMSprop\n",
        "import os\n",
        "import zipfile\n",
        "import random\n",
        "import shutil\n",
        "import numpy as np\n",
        "import tensorflow as tf\n",
        "from tensorflow.keras.callbacks import EarlyStopping\n",
        "from tensorflow.keras.callbacks import Callback\n",
        "from tensorflow.keras.preprocessing.image import ImageDataGenerator\n",
        "from shutil import copyfile\n",
        "import matplotlib.pyplot as plt\n",
        "from tensorflow.keras import layers\n",
        "from tensorflow.keras import Model\n",
        "from sklearn.utils.class_weight import compute_class_weight"
      ]
    },
    {
      "cell_type": "code",
      "execution_count": null,
      "metadata": {
        "colab": {
          "base_uri": "https://localhost:8080/"
        },
        "id": "fHc7GgQ2AhC_",
        "outputId": "47d8782f-5f63-489c-bb9b-bc445e251eab"
      },
      "outputs": [
        {
          "name": "stdout",
          "output_type": "stream",
          "text": [
            "Downloading...\n",
            "From: https://drive.google.com/uc?id=1tpvQ4P3t0MWGUr43Kq3B397zvC8mxU63\n",
            "To: /content/photos_batch2.zip\n",
            "100% 452M/452M [00:09<00:00, 47.9MB/s]\n"
          ]
        }
      ],
      "source": [
        "!gdown 1tpvQ4P3t0MWGUr43Kq3B397zvC8mxU63"
      ]
    },
    {
      "cell_type": "code",
      "execution_count": null,
      "metadata": {
        "colab": {
          "base_uri": "https://localhost:8080/"
        },
        "id": "bgMXyIUKr6ou",
        "outputId": "2981a9f4-44f9-4361-f06b-fcf7e6e50097"
      },
      "outputs": [
        {
          "name": "stdout",
          "output_type": "stream",
          "text": [
            "Downloading...\n",
            "From: https://drive.google.com/uc?id=1OEF0KJoBXJdQNP_SPBAnHW_xfh8rvv5-\n",
            "To: /content/Salinan photos_revised.zip\n",
            "100% 410M/410M [00:08<00:00, 51.0MB/s]\n"
          ]
        }
      ],
      "source": [
        "!gdown 1OEF0KJoBXJdQNP_SPBAnHW_xfh8rvv5-"
      ]
    },
    {
      "cell_type": "code",
      "execution_count": null,
      "metadata": {
        "id": "tp9VbYeer7t7"
      },
      "outputs": [],
      "source": [
        "local_zip = '/content/Salinan photos_revised.zip'\n",
        "zip_ref   = zipfile.ZipFile(local_zip, 'r')\n",
        "zip_ref.extractall('/tmp')\n",
        "zip_ref.close()"
      ]
    },
    {
      "cell_type": "code",
      "execution_count": null,
      "metadata": {
        "id": "MCFMa0ulHvhe"
      },
      "outputs": [],
      "source": [
        "local_zip = '/content/photos_batch2.zip'\n",
        "zip_ref   = zipfile.ZipFile(local_zip, 'r')\n",
        "zip_ref.extractall('/tmp')\n",
        "zip_ref.close()"
      ]
    },
    {
      "cell_type": "code",
      "execution_count": null,
      "metadata": {
        "id": "wg_AhgZCGbQW"
      },
      "outputs": [],
      "source": [
        "path_ori = '/tmp/photos'"
      ]
    },
    {
      "cell_type": "code",
      "execution_count": null,
      "metadata": {
        "id": "nFJkjaV8GbQW"
      },
      "outputs": [],
      "source": [
        "source_path_cap = os.path.join(path_ori, 'cap')\n",
        "source_path_cookset = os.path.join(path_ori, 'cooking set hike')\n",
        "source_path_medis = os.path.join(path_ori, 'first aid kit')\n",
        "source_path_topi = os.path.join(path_ori, 'hat')\n",
        "source_path_headlamp = os.path.join(path_ori, 'headlamp climbing')\n",
        "source_path_pisau = os.path.join(path_ori, 'knife')\n",
        "source_path_jashujan = os.path.join(path_ori, 'raincoat')\n",
        "source_path_pole = os.path.join(path_ori, 'trekking pole')\n",
        "source_path_flashlight = os.path.join(path_ori, 'flashlight')\n",
        "source_path_jacket = os.path.join(path_ori, 'jackets')\n",
        "source_path_backpack = os.path.join(path_ori, 'carrier bag')\n",
        "source_path_matras = os.path.join(path_ori, 'matras camping')\n",
        "source_path_sandal = os.path.join(path_ori, 'outdoors sandals')\n",
        "source_path_gas = os.path.join(path_ori, 'portable gas')\n",
        "source_path_stove = os.path.join(path_ori, 'portable stove')\n",
        "source_path_shoes = os.path.join(path_ori, 'shoes')\n",
        "source_path_sleep = os.path.join(path_ori, 'sleeping bag')\n",
        "source_path_trousers = os.path.join(path_ori, 'trousers')"
      ]
    },
    {
      "cell_type": "code",
      "execution_count": null,
      "metadata": {
        "colab": {
          "base_uri": "https://localhost:8080/"
        },
        "id": "bm0BUqkRGbQX",
        "outputId": "f2922eba-a01a-4115-fb44-1d326742ecab"
      },
      "outputs": [
        {
          "name": "stdout",
          "output_type": "stream",
          "text": [
            "There are 430 images of Tracking Pole.\n",
            "There are 512 images of Gelas Plastik.\n"
          ]
        }
      ],
      "source": [
        "print(f\"There are {len(os.listdir(source_path_pole))} images of Tracking Pole.\")\n",
        "print(f\"There are {len(os.listdir(source_path_gelas))} images of Gelas Plastik.\")"
      ]
    },
    {
      "cell_type": "code",
      "execution_count": null,
      "metadata": {
        "id": "Y9cQL2uWGbQY"
      },
      "outputs": [],
      "source": [
        "root_dir = '/tmp/capstone'\n",
        "\n",
        "# Empty directory to prevent FileExistsError is the function is run several times\n",
        "if os.path.exists(root_dir):\n",
        "  shutil.rmtree(root_dir)\n",
        "\n",
        "# GRADED FUNCTION: create_train_val_dirs\n",
        "def create_train_val_dirs(root_path):\n",
        "  \"\"\"\n",
        "  Creates directories for the train and test sets\n",
        "\n",
        "  Args:\n",
        "    root_path (string) - the base directory path to create subdirectories from\n",
        "\n",
        "  Returns:\n",
        "    None\n",
        "  \"\"\"\n",
        "\n",
        "  ### START CODE HERE\n",
        "\n",
        "  # HINT:\n",
        "  # Use os.makedirs to create your directories with intermediate subdirectories\n",
        "  # Don't hardcode the paths. Use os.path.join to append the new directories to the root_path parameter\n",
        "\n",
        "  rootie = os.makedirs(root_path)\n",
        "  train_dir = os.path.join(root_path, 'training')\n",
        "  validation_dir = os.path.join(root_path, 'validation')\n",
        "  os.makedirs(train_dir)\n",
        "  os.makedirs(validation_dir)\n",
        "  train_cookset_dir = os.path.join(train_dir, 'cooking set hike')\n",
        "  train_aidkit_dir = os.path.join(train_dir, 'first aid kit')\n",
        "  train_hat_dir = os.path.join(train_dir, 'hat')\n",
        "  train_headlamp_dir = os.path.join(train_dir, 'headlamp climbing')\n",
        "  train_knife_dir = os.path.join(train_dir, 'knife')\n",
        "  train_raincoat_dir = os.path.join(train_dir, 'raincoat')\n",
        "  train_pole_dir = os.path.join(train_dir, 'trekking pole')\n",
        "  train_flash_dir = os.path.join(train_dir, 'flashlight')\n",
        "  train_jacket_dir = os.path.join(train_dir, 'jaket')\n",
        "  train_backpack_dir = os.path.join(train_dir, 'carrier bag')\n",
        "  train_matras_dir = os.path.join(train_dir, 'matras camping')\n",
        "  train_sandal_dir = os.path.join(train_dir, 'outdoor footwear')\n",
        "  train_stove_dir = os.path.join(train_dir, 'portable stove')\n",
        "  train_sleep_dir = os.path.join(train_dir, 'sleeping bag')\n",
        "  train_trousers_dir = os.path.join(train_dir, 'trousers')\n",
        "  os.makedirs(train_flash_dir)\n",
        "  os.makedirs(train_jacket_dir)\n",
        "  os.makedirs(train_backpack_dir)\n",
        "  os.makedirs(train_matras_dir)\n",
        "  os.makedirs(train_sandal_dir)\n",
        "  os.makedirs(train_stove_dir)\n",
        "  os.makedirs(train_sleep_dir)\n",
        "  os.makedirs(train_trousers_dir)\n",
        "  os.makedirs(train_aidkit_dir)\n",
        "  os.makedirs(train_cookset_dir)\n",
        "  os.makedirs(train_hat_dir)\n",
        "  os.makedirs(train_headlamp_dir)\n",
        "  os.makedirs(train_knife_dir)\n",
        "  os.makedirs(train_pole_dir)\n",
        "  os.makedirs(train_raincoat_dir)\n",
        "  #Directory with validation hike equipment pictures\n",
        "  val_cookset_dir = os.path.join(validation_dir, 'cooking set hike')\n",
        "  val_aidkit_dir = os.path.join(validation_dir, 'first aid kit')\n",
        "  val_hat_dir = os.path.join(validation_dir, 'hat')\n",
        "  val_headlamp_dir = os.path.join(validation_dir, 'headlamp climbing')\n",
        "  val_knife_dir = os.path.join(validation_dir, 'knife')\n",
        "  val_raincoat_dir = os.path.join(validation_dir, 'raincoat')\n",
        "  val_pole_dir = os.path.join(validation_dir, 'trekking pole')\n",
        "  validation_flash_dir = os.path.join(validation_dir, 'flashlight')\n",
        "  validation_jacket_dir = os.path.join(validation_dir, 'jaket')\n",
        "  validation_backpack_dir = os.path.join(validation_dir, 'carrier bag')\n",
        "  validation_matras_dir = os.path.join(validation_dir, 'matras camping')\n",
        "  validation_footwear_dir = os.path.join(validation_dir, 'outdoor footwear')\n",
        "  validation_stove_dir = os.path.join(validation_dir, 'portable stove')\n",
        "  validation_sleep_dir = os.path.join(validation_dir, 'sleeping bag')\n",
        "  validation_trousers_dir = os.path.join(validation_dir, 'trousers')\n",
        "  os.makedirs(validation_flash_dir)\n",
        "  os.makedirs(validation_jacket_dir)\n",
        "  os.makedirs(validation_backpack_dir)\n",
        "  os.makedirs(validation_matras_dir)\n",
        "  os.makedirs(validation_footwear_dir)\n",
        "  os.makedirs(validation_stove_dir)\n",
        "  os.makedirs(validation_sleep_dir)\n",
        "  os.makedirs(validation_trousers_dir)\n",
        "  os.makedirs(val_aidkit_dir)\n",
        "  os.makedirs(val_cookset_dir)\n",
        "  os.makedirs(val_hat_dir)\n",
        "  os.makedirs(val_headlamp_dir)\n",
        "  os.makedirs(val_knife_dir)\n",
        "  os.makedirs(val_pole_dir)\n",
        "  os.makedirs(val_raincoat_dir)\n",
        "\n",
        "try:\n",
        "  create_train_val_dirs(root_path=root_dir)\n",
        "except FileExistsError:\n",
        "  print(\"You should not be seeing this since the upper directory is removed beforehand\")"
      ]
    },
    {
      "cell_type": "code",
      "execution_count": null,
      "metadata": {
        "colab": {
          "base_uri": "https://localhost:8080/"
        },
        "id": "2sOP4bTQGbQb",
        "outputId": "67eafe9a-7a0b-487b-e7fc-b217e39a5122"
      },
      "outputs": [
        {
          "name": "stdout",
          "output_type": "stream",
          "text": [
            "/tmp/capstone/validation\n",
            "/tmp/capstone/training\n",
            "/tmp/capstone/validation/jaket\n",
            "/tmp/capstone/validation/trash bag\n",
            "/tmp/capstone/validation/cap\n",
            "/tmp/capstone/validation/gelas plastik\n",
            "/tmp/capstone/validation/matras camping\n",
            "/tmp/capstone/validation/sleeping bag\n",
            "/tmp/capstone/validation/trousers\n",
            "/tmp/capstone/validation/first aid kit\n",
            "/tmp/capstone/validation/outdoor sandals\n",
            "/tmp/capstone/validation/socks\n",
            "/tmp/capstone/validation/carrier bag\n",
            "/tmp/capstone/validation/tent bag\n",
            "/tmp/capstone/validation/powerbank\n",
            "/tmp/capstone/validation/botol air\n",
            "/tmp/capstone/validation/hat\n",
            "/tmp/capstone/validation/t-shirt\n",
            "/tmp/capstone/validation/lampu tenda\n",
            "/tmp/capstone/validation/flashlight\n",
            "/tmp/capstone/validation/towel\n",
            "/tmp/capstone/validation/headlamp climbing\n",
            "/tmp/capstone/validation/cooking set hike\n",
            "/tmp/capstone/validation/portable gas\n",
            "/tmp/capstone/validation/raincoat\n",
            "/tmp/capstone/validation/knife\n",
            "/tmp/capstone/validation/sarung tangan\n",
            "/tmp/capstone/validation/baterai\n",
            "/tmp/capstone/validation/trekking pole\n",
            "/tmp/capstone/validation/portable stove\n",
            "/tmp/capstone/validation/shoes\n",
            "/tmp/capstone/training/jaket\n",
            "/tmp/capstone/training/trash bag\n",
            "/tmp/capstone/training/cap\n",
            "/tmp/capstone/training/gelas plastik\n",
            "/tmp/capstone/training/matras camping\n",
            "/tmp/capstone/training/sleeping bag\n",
            "/tmp/capstone/training/trousers\n",
            "/tmp/capstone/training/first aid kit\n",
            "/tmp/capstone/training/outdoor sandals\n",
            "/tmp/capstone/training/socks\n",
            "/tmp/capstone/training/carrier bag\n",
            "/tmp/capstone/training/tent bag\n",
            "/tmp/capstone/training/powerbank\n",
            "/tmp/capstone/training/botol air\n",
            "/tmp/capstone/training/hat\n",
            "/tmp/capstone/training/t-shirt\n",
            "/tmp/capstone/training/lampu tenda\n",
            "/tmp/capstone/training/flashlight\n",
            "/tmp/capstone/training/towel\n",
            "/tmp/capstone/training/headlamp climbing\n",
            "/tmp/capstone/training/cooking set hike\n",
            "/tmp/capstone/training/portable gas\n",
            "/tmp/capstone/training/raincoat\n",
            "/tmp/capstone/training/knife\n",
            "/tmp/capstone/training/sarung tangan\n",
            "/tmp/capstone/training/baterai\n",
            "/tmp/capstone/training/trekking pole\n",
            "/tmp/capstone/training/portable stove\n",
            "/tmp/capstone/training/shoes\n"
          ]
        }
      ],
      "source": [
        "for rootdir, dirs, files in os.walk(root_dir):\n",
        "    for subdir in dirs:\n",
        "        print(os.path.join(rootdir, subdir))"
      ]
    },
    {
      "cell_type": "code",
      "execution_count": null,
      "metadata": {
        "id": "YBMOWM8HGbQe"
      },
      "outputs": [],
      "source": [
        "def split_data(SOURCE_DIR, TRAINING_DIR, VALIDATION_DIR, SPLIT_SIZE):\n",
        "  \"\"\"\n",
        "  Splits the data into train and test sets\n",
        "  \n",
        "  Args:\n",
        "    SOURCE_DIR (string): directory path containing the images\n",
        "    TRAINING_DIR (string): directory path to be used for training\n",
        "    VALIDATION_DIR (string): directory path to be used for validation\n",
        "    SPLIT_SIZE (float): proportion of the dataset to be used for training\n",
        "    \n",
        "  Returns:\n",
        "    None\n",
        "  \"\"\"\n",
        "  ### START CODE HERE\n",
        "  allFileNames = os.listdir(SOURCE_DIR)\n",
        "  valdiFile=[]\n",
        "  for i in allFileNames:\n",
        "    sizem = os.path.getsize(os.path.join(SOURCE_DIR, i))\n",
        "    if sizem > 0:\n",
        "      valdiFile.append(i)\n",
        "    else:\n",
        "      print(\"filename is zero length, so ignoring.\")\n",
        "  testi=random.sample(valdiFile, len(valdiFile))\n",
        "  split = int(SPLIT_SIZE * len(valdiFile))\n",
        "  trains = testi[:split]\n",
        "  valids= testi[split:]\n",
        "  for file_name in trains:\n",
        "    copyfile(os.path.join(SOURCE_DIR, file_name), os.path.join(TRAINING_DIR, file_name))\n",
        "  for file_name in valids:\n",
        "    copyfile(os.path.join(SOURCE_DIR, file_name), os.path.join(VALIDATION_DIR, file_name))"
      ]
    },
    {
      "cell_type": "code",
      "execution_count": null,
      "metadata": {
        "colab": {
          "base_uri": "https://localhost:8080/"
        },
        "id": "4RDKR5CxGbQf",
        "outputId": "9c577272-0ade-491b-d668-b10289966b60"
      },
      "outputs": [
        {
          "name": "stdout",
          "output_type": "stream",
          "text": [
            "There are 521 images of outdoors sandals for training\n",
            "There are 301 images of trash bag for training\n",
            "There are 179 images of cap for training\n",
            "There are 512 images of gelas plastik for training\n",
            "There are 536 images of matras camping for training\n",
            "There are 1221 images of sleeping bag for training\n",
            "There are 536 images of trousers for training\n",
            "There are 260 images of first aid kit for training\n",
            "There are 271 images of socks for training\n",
            "There are 238 images of carrier bag for training\n",
            "There are 284 images of tent bag for training\n",
            "There are 644 images of powerbank for training\n",
            "There are 1298 images of botol air for training\n",
            "There are 571 images of batu baterai for training\n",
            "There are 167 images of hat for training\n",
            "There are 486 images of jackets for training\n",
            "There are 537 images of t-shirt for training\n",
            "There are 636 images of lampu tenda for training\n",
            "There are 651 images of flashlight for training\n",
            "There are 231 images of towel for training\n",
            "There are 379 images of headlamp climbing for training\n",
            "There are 526 images of cooking set hike for training\n",
            "There are 484 images of portable gas for training\n",
            "There are 318 images of raincoat for training\n",
            "There are 313 images of knife for training\n",
            "There are 893 images of sarung tangan for training\n",
            "There are 430 images of trekking pole for training\n",
            "There are 457 images of portable stove for training\n",
            "There are 1474 images of shoes for training\n"
          ]
        }
      ],
      "source": [
        "cdir=os.listdir(path_ori)\n",
        "for i in cdir:\n",
        "    #print(len(os.listdir(path_ori+'//'+i)))\n",
        "    print(f\"There are {len(os.listdir(path_ori+'//'+i))} images of {i} for training\")"
      ]
    },
    {
      "cell_type": "code",
      "execution_count": null,
      "metadata": {
        "colab": {
          "base_uri": "https://localhost:8080/"
        },
        "id": "QN8SDLnIGbQg",
        "outputId": "a21d58a4-1681-4615-9978-e9248dcdf1ba"
      },
      "outputs": [
        {
          "name": "stdout",
          "output_type": "stream",
          "text": [
            "\n",
            "\n",
            "Original Baterai's directory has 571 images\n",
            "Original Cap's directory has 179 images\n",
            "\n",
            "There are 437 images of jaket for training\n",
            "There are 270 images of trash bag for training\n",
            "There are 161 images of cap for training\n",
            "There are 460 images of gelas plastik for training\n",
            "There are 482 images of matras camping for training\n",
            "There are 1098 images of sleeping bag for training\n",
            "There are 482 images of trousers for training\n",
            "There are 234 images of first aid kit for training\n",
            "There are 468 images of outdoor sandals for training\n",
            "There are 243 images of socks for training\n",
            "There are 214 images of carrier bag for training\n",
            "There are 255 images of tent bag for training\n",
            "There are 579 images of powerbank for training\n",
            "There are 1168 images of botol air for training\n",
            "There are 150 images of hat for training\n",
            "There are 483 images of t-shirt for training\n",
            "There are 572 images of lampu tenda for training\n",
            "There are 585 images of flashlight for training\n",
            "There are 207 images of towel for training\n",
            "There are 341 images of headlamp climbing for training\n",
            "There are 473 images of cooking set hike for training\n",
            "There are 435 images of portable gas for training\n",
            "There are 286 images of raincoat for training\n",
            "There are 281 images of knife for training\n",
            "There are 803 images of sarung tangan for training\n",
            "There are 513 images of baterai for training\n",
            "There are 387 images of trekking pole for training\n",
            "There are 411 images of portable stove for training\n",
            "There are 1326 images of shoes for training\n",
            "There are 49 images of jaket for validation\n",
            "There are 31 images of trash bag for validation\n",
            "There are 18 images of cap for validation\n",
            "There are 52 images of gelas plastik for validation\n",
            "There are 54 images of matras camping for validation\n",
            "There are 123 images of sleeping bag for validation\n",
            "There are 54 images of trousers for validation\n",
            "There are 26 images of first aid kit for validation\n",
            "There are 53 images of outdoor sandals for validation\n",
            "There are 28 images of socks for validation\n",
            "There are 24 images of carrier bag for validation\n",
            "There are 29 images of tent bag for validation\n",
            "There are 65 images of powerbank for validation\n",
            "There are 130 images of botol air for validation\n",
            "There are 17 images of hat for validation\n",
            "There are 54 images of t-shirt for validation\n",
            "There are 64 images of lampu tenda for validation\n",
            "There are 66 images of flashlight for validation\n",
            "There are 24 images of towel for validation\n",
            "There are 38 images of headlamp climbing for validation\n",
            "There are 53 images of cooking set hike for validation\n",
            "There are 49 images of portable gas for validation\n",
            "There are 32 images of raincoat for validation\n",
            "There are 32 images of knife for validation\n",
            "There are 90 images of sarung tangan for validation\n",
            "There are 58 images of baterai for validation\n",
            "There are 43 images of trekking pole for validation\n",
            "There are 46 images of portable stove for validation\n",
            "There are 148 images of shoes for validation\n"
          ]
        }
      ],
      "source": [
        "CAP_SOURCE_DIR ='/tmp/photos/cap'\n",
        "COOK_SOURCE_DIR ='/tmp/photos/cooking set hike'\n",
        "AIDKIT_SOURCE_DIR ='/tmp/photos/first aid kit'\n",
        "HAT_SOURCE_DIR ='/tmp/photos/hat'\n",
        "HEADLAMP_SOURCE_DIR ='/tmp/photos/headlamp climbing'\n",
        "KNIFE_SOURCE_DIR ='/tmp/photos/knife'\n",
        "RAIN_SOURCE_DIR ='/tmp/photos/raincoat'\n",
        "POLE_SOURCE_DIR ='/tmp/photos/trekking pole'\n",
        "FLASH_SOURCE_DIR ='/tmp/photos/flashlight'\n",
        "JACKET_SOURCE_DIR ='/tmp/photos/jackets'\n",
        "BACKPACK_SOURCE_DIR ='/tmp/photos/carrier bag'\n",
        "MATRAS_SOURCE_DIR ='/tmp/photos/matras camping'\n",
        "SANDAL_SOURCE_DIR ='/tmp/photos/outdoors sandals'\n",
        "GAS_SOURCE_DIR ='/tmp/photos/portable gas'\n",
        "STOVE_SOURCE_DIR ='/tmp/photos/portable stove'\n",
        "SHOES_SOURCE_DIR ='/tmp/photos/shoes'\n",
        "SLEEP_SOURCE_DIR ='/tmp/photos/sleeping bag'\n",
        "TROUSERS_SOURCE_DIR ='/tmp/photos/trousers'\n",
        "\n",
        "TRAINING_DIR = '/tmp/capstone/training'\n",
        "VALIDATION_DIR = '/tmp/capstone/validation'\n",
        "\n",
        "TRAINING_COOK_DIR = os.path.join(TRAINING_DIR, \"cooking set hike/\")\n",
        "VALIDATION_COOK_DIR = os.path.join(VALIDATION_DIR, \"cooking set hike/\")\n",
        "\n",
        "TRAINING_AIDKIT_DIR = os.path.join(TRAINING_DIR, \"first aid kit/\")\n",
        "VALIDATION_AIDKIT_DIR = os.path.join(VALIDATION_DIR, \"first aid kit/\")\n",
        "\n",
        "TRAINING_HAT_dir = os.path.join(TRAINING_DIR, 'hat/')\n",
        "VALIDATION_HAT_dir = os.path.join(VALIDATION_DIR, 'hat/')\n",
        "\n",
        "TRAINING_HEADLAMP_dir = os.path.join(TRAINING_DIR, 'headlamp climbing/')\n",
        "VALIDATION_HEADLAMP_dir = os.path.join(VALIDATION_DIR, 'headlamp climbing/')\n",
        "\n",
        "TRAINING_KNIFE_dir = os.path.join(TRAINING_DIR, 'knife/')\n",
        "VALIDATION_KNIFE_dir = os.path.join(VALIDATION_DIR, 'knife/')\n",
        "\n",
        "TRAINING_RAIN_dir = os.path.join(TRAINING_DIR, 'raincoat/')\n",
        "VALIDATION_RAIN_dir = os.path.join(VALIDATION_DIR, 'raincoat/')\n",
        "\n",
        "TRAINING_POLE_dir = os.path.join(TRAINING_DIR, 'trekking pole/')\n",
        "VALIDATION_POLE_dir = os.path.join(VALIDATION_DIR, 'trekking pole/')\n",
        "\n",
        "TRAINING_FLASHS_DIR = os.path.join(TRAINING_DIR, \"flashlight/\")\n",
        "VALIDATION_FLASHS_DIR = os.path.join(VALIDATION_DIR, \"flashlight/\")\n",
        "\n",
        "TRAINING_JACKET_DIR = os.path.join(TRAINING_DIR, \"jaket/\")\n",
        "VALIDATION_JACKET_DIR = os.path.join(VALIDATION_DIR, \"jaket/\")\n",
        "\n",
        "TRAINING_backpack_dir = os.path.join(TRAINING_DIR, 'carrier bag/')\n",
        "VALIDATION_backpack_dir = os.path.join(VALIDATION_DIR, 'carrier bag/')\n",
        "\n",
        "TRAINING_matras_dir = os.path.join(TRAINING_DIR, 'matras camping/')\n",
        "VALIDATION_matras_dir = os.path.join(VALIDATION_DIR, 'matras camping/')\n",
        "\n",
        "TRAINING_sandal_dir = os.path.join(TRAINING_DIR, 'outdoor footwear/')\n",
        "VALIDATION_sandal_dir = os.path.join(VALIDATION_DIR, 'outdoor footwear/')\n",
        "\n",
        "TRAINING_stove_dir = os.path.join(TRAINING_DIR, 'portable stove/')\n",
        "VALIDATION_stove_dir = os.path.join(VALIDATION_DIR, 'portable stove/')\n",
        "\n",
        "TRAINING_sleep_dir = os.path.join(TRAINING_DIR, 'sleeping bag/')\n",
        "VALIDATION_sleep_dir = os.path.join(VALIDATION_DIR, 'sleeping bag/')\n",
        "\n",
        "TRAINING_trousers_dir = os.path.join(TRAINING_DIR, 'trousers/')\n",
        "VALIDATION_trousers_dir = os.path.join(VALIDATION_DIR, 'trousers/')\n",
        "\n",
        "# Empty directories in case you run this cell multiple times\n",
        "if len(os.listdir(TRAINING_COOK_DIR)) > 0:\n",
        "  for file in os.scandir(TRAINING_COOK_DIR):\n",
        "    os.remove(file.path)\n",
        "if len(os.listdir(TRAINING_AIDKIT_DIR)) > 0:\n",
        "  for file in os.scandir(TRAINING_AIDKIT_DIR):\n",
        "    os.remove(file.path)\n",
        "if len(os.listdir(TRAINING_HAT_dir)) > 0:\n",
        "  for file in os.scandir(TRAINING_HAT_dir):\n",
        "    os.remove(file.path)\n",
        "if len(os.listdir(TRAINING_HEADLAMP_dir)) > 0:\n",
        "  for file in os.scandir(TRAINING_HEADLAMP_dir):\n",
        "    os.remove(file.path)\n",
        "if len(os.listdir(TRAINING_KNIFE_dir)) > 0:\n",
        "  for file in os.scandir(TRAINING_KNIFE_dir):\n",
        "    os.remove(file.path)\n",
        "if len(os.listdir(TRAINING_RAIN_dir)) > 0:\n",
        "  for file in os.scandir(TRAINING_RAIN_dir):\n",
        "    os.remove(file.path)\n",
        "if len(os.listdir(TRAINING_POLE_dir)) > 0:\n",
        "  for file in os.scandir(TRAINING_POLE_dir):\n",
        "    os.remove(file.path)\n",
        "if len(os.listdir(TRAINING_FLASHS_DIR)) > 0:\n",
        "  for file in os.scandir(TRAINING_FLASHS_DIR):\n",
        "    os.remove(file.path)\n",
        "if len(os.listdir(TRAINING_JACKET_DIR)) > 0:\n",
        "  for file in os.scandir(TRAINING_JACKET_DIR):\n",
        "    os.remove(file.path)\n",
        "if len(os.listdir(TRAINING_backpack_dir)) > 0:\n",
        "  for file in os.scandir(TRAINING_backpack_dir):\n",
        "    os.remove(file.path)\n",
        "if len(os.listdir(TRAINING_matras_dir)) > 0:\n",
        "  for file in os.scandir(TRAINING_matras_dir):\n",
        "    os.remove(file.path)\n",
        "if len(os.listdir(TRAINING_sandal_dir)) > 0:\n",
        "  for file in os.scandir(TRAINING_sandal_dir):\n",
        "    os.remove(file.path)\n",
        "if len(os.listdir(TRAINING_sleep_dir)) > 0:\n",
        "  for file in os.scandir(TRAINING_sleep_dir):\n",
        "    os.remove(file.path)\n",
        "if len(os.listdir(TRAINING_trousers_dir)) > 0:\n",
        "  for file in os.scandir(TRAINING_trousers_dir):\n",
        "    os.remove(file.path)\n",
        "if len(os.listdir(TRAINING_stove_dir)) > 0:\n",
        "  for file in os.scandir(TRAINING_stove_dir):\n",
        "    os.remove(file.path)\n",
        "if len(os.listdir(VALIDATION_COOK_DIR)) > 0:\n",
        "  for file in os.scandir(VALIDATION_COOK_DIR):\n",
        "    os.remove(file.path)\n",
        "if len(os.listdir(VALIDATION_AIDKIT_DIR)) > 0:\n",
        "  for file in os.scandir(VALIDATION_AIDKIT_DIR):\n",
        "    os.remove(file.path)\n",
        "if len(os.listdir(VALIDATION_HAT_dir)) > 0:\n",
        "  for file in os.scandir(VALIDATION_HAT_dir):\n",
        "    os.remove(file.path)\n",
        "if len(os.listdir(VALIDATION_HEADLAMP_dir)) > 0:\n",
        "  for file in os.scandir(VALIDATION_HEADLAMP_dir):\n",
        "    os.remove(file.path)\n",
        "if len(os.listdir(VALIDATION_KNIFE_dir)) > 0:\n",
        "  for file in os.scandir(VALIDATION_KNIFE_dir):\n",
        "    os.remove(file.path)\n",
        "if len(os.listdir(VALIDATION_RAIN_dir)) > 0:\n",
        "  for file in os.scandir(VALIDATION_RAIN_dir):\n",
        "    os.remove(file.path)\n",
        "if len(os.listdir(VALIDATION_POLE_dir)) > 0:\n",
        "  for file in os.scandir(VALIDATION_POLE_dir):\n",
        "    os.remove(file.path)\n",
        "if len(os.listdir(VALIDATION_FLASHS_DIR)) > 0:\n",
        "  for file in os.scandir(VALIDATION_FLASHS_DIR):\n",
        "    os.remove(file.path)\n",
        "if len(os.listdir(VALIDATION_JACKET_DIR)) > 0:\n",
        "  for file in os.scandir(VALIDATION_JACKET_DIR):\n",
        "    os.remove(file.path)\n",
        "if len(os.listdir(VALIDATION_backpack_dir)) > 0:\n",
        "  for file in os.scandir(VALIDATION_backpack_dir):\n",
        "    os.remove(file.path)\n",
        "if len(os.listdir(VALIDATION_matras_dir)) > 0:\n",
        "  for file in os.scandir(VALIDATION_matras_dir):\n",
        "    os.remove(file.path)\n",
        "if len(os.listdir(VALIDATION_sandal_dir)) > 0:\n",
        "  for file in os.scandir(VALIDATION_sandal_dir):\n",
        "    os.remove(file.path)\n",
        "if len(os.listdir(VALIDATION_stove_dir)) > 0:\n",
        "  for file in os.scandir(VALIDATION_stove_dir):\n",
        "    os.remove(file.path)\n",
        "if len(os.listdir(VALIDATION_sleep_dir)) > 0:\n",
        "  for file in os.scandir(VALIDATION_sleep_dir):\n",
        "    os.remove(file.path)\n",
        "if len(os.listdir(VALIDATION_trousers_dir)) > 0:\n",
        "  for file in os.scandir(VALIDATION_trousers_dir):\n",
        "    os.remove(file.path)\n",
        "\n",
        "# Define proportion of images used for training\n",
        "split_size = .9\n",
        "\n",
        "# Run the function\n",
        "# NOTE: Messages about zero length images should be printed out\n",
        "# split_data(BATERAI_SOURCE_DIR, TRAINING_BATERAI_DIR, VALIDATION_BATERAI_DIR, split_size)\n",
        "split_data(CAP_SOURCE_DIR, TRAINING_HAT_dir, VALIDATION_HAT_dir, split_size)\n",
        "split_data(COOK_SOURCE_DIR, TRAINING_COOK_DIR, VALIDATION_COOK_DIR, split_size)\n",
        "split_data(AIDKIT_SOURCE_DIR, TRAINING_AIDKIT_DIR, VALIDATION_AIDKIT_DIR, split_size)\n",
        "split_data(HAT_SOURCE_DIR, TRAINING_HAT_dir, VALIDATION_HAT_dir, split_size)\n",
        "split_data(HEADLAMP_SOURCE_DIR, TRAINING_HEADLAMP_dir, VALIDATION_HEADLAMP_dir, split_size)\n",
        "split_data(KNIFE_SOURCE_DIR, TRAINING_KNIFE_dir, VALIDATION_KNIFE_dir, split_size)\n",
        "split_data(RAIN_SOURCE_DIR, TRAINING_RAIN_dir, VALIDATION_RAIN_dir, split_size)\n",
        "split_data(POLE_SOURCE_DIR, TRAINING_POLE_dir, VALIDATION_POLE_dir, split_size)\n",
        "split_data(FLASH_SOURCE_DIR, TRAINING_FLASHS_DIR, VALIDATION_FLASHS_DIR, split_size)\n",
        "split_data(JACKET_SOURCE_DIR, TRAINING_JACKET_DIR, VALIDATION_JACKET_DIR, split_size)\n",
        "split_data(BACKPACK_SOURCE_DIR, TRAINING_backpack_dir, VALIDATION_backpack_dir, split_size)\n",
        "split_data(MATRAS_SOURCE_DIR, TRAINING_matras_dir, VALIDATION_matras_dir, split_size)\n",
        "split_data(SANDAL_SOURCE_DIR, TRAINING_sandal_dir, VALIDATION_sandal_dir, split_size)\n",
        "split_data(GAS_SOURCE_DIR, TRAINING_stove_dir, VALIDATION_stove_dir, split_size)\n",
        "split_data(STOVE_SOURCE_DIR, TRAINING_stove_dir, VALIDATION_stove_dir, split_size)\n",
        "split_data(SHOES_SOURCE_DIR, TRAINING_sandal_dir, VALIDATION_sandal_dir, split_size)\n",
        "split_data(SLEEP_SOURCE_DIR, TRAINING_sleep_dir, VALIDATION_sleep_dir, split_size)\n",
        "split_data(TROUSERS_SOURCE_DIR, TRAINING_trousers_dir, VALIDATION_trousers_dir, split_size)\n",
        "\n",
        "# Your function should perform copies rather than moving images so original directories should contain unchanged images\n",
        "print(f\"\\n\\nOriginal Flashlight's directory has {len(os.listdir(FLASH_SOURCE_DIR))} images\")\n",
        "print(f\"Original Cap's directory has {len(os.listdir(CAP_SOURCE_DIR))} images\\n\")\n",
        "\n",
        "# Training and validation splits. Check that the number of images matches the expected output.\n",
        "faris = os.listdir(TRAINING_DIR)\n",
        "kuni = os.listdir(VALIDATION_DIR)\n",
        "for i in faris:\n",
        "  print(f\"There are {len(os.listdir(TRAINING_DIR+'//'+i))} images of {i} for training\")\n",
        "\n",
        "for j in kuni:\n",
        "   print(f\"There are {len(os.listdir(VALIDATION_DIR+'//'+j))} images of {j} for validation\")"
      ]
    },
    {
      "cell_type": "code",
      "execution_count": null,
      "metadata": {
        "id": "QQBk_fJCGbQk"
      },
      "outputs": [],
      "source": [
        "# GRADED FUNCTION: train_val_generators\n",
        "def train_val_generators(TRAINING_DIR, VALIDATION_DIR):\n",
        "  \"\"\"\n",
        "  Creates the training and validation data generators\n",
        "  \n",
        "  Args:\n",
        "    TRAINING_DIR (string): directory path containing the training images\n",
        "    VALIDATION_DIR (string): directory path containing the testing/validation images\n",
        "    \n",
        "  Returns:\n",
        "    train_generator, validation_generator - tuple containing the generators\n",
        "  \"\"\"\n",
        "  ### START CODE HERE\n",
        "  train_datagen = ImageDataGenerator(\n",
        "    rotation_range=30,\n",
        "    rescale=1./255,\n",
        "    shear_range=0.2,\n",
        "    zoom_range=0.2,\n",
        "    horizontal_flip=True,\n",
        "    width_shift_range=0.1,\n",
        "    height_shift_range=0.1,\n",
        "    brightness_range=[0.8, 1.2])\n",
        "\n",
        "  train_generator = train_datagen.flow_from_directory(directory=TRAINING_DIR,\n",
        "                                                      batch_size=64,\n",
        "                                                      target_size=(256, 256))\n",
        "\n",
        "  validation_datagen = ImageDataGenerator(rescale=1/255)\n",
        "\n",
        "  validation_generator = validation_datagen.flow_from_directory(directory=VALIDATION_DIR,\n",
        "                                                                batch_size=25,\n",
        "                                                                target_size=(256, 256))\n",
        "  ### END CODE HERE\n",
        "  return train_generator, validation_generator"
      ]
    },
    {
      "cell_type": "code",
      "execution_count": null,
      "metadata": {
        "colab": {
          "base_uri": "https://localhost:8080/"
        },
        "id": "bFfl_z8VGbQl",
        "outputId": "cb4cfe72-ad5b-4a54-beeb-55b3738a4927"
      },
      "outputs": [
        {
          "name": "stdout",
          "output_type": "stream",
          "text": [
            "Found 12297 images belonging to 29 classes.\n",
            "Found 1372 images belonging to 29 classes.\n"
          ]
        }
      ],
      "source": [
        "train_generator, validation_generator = train_val_generators(TRAINING_DIR, VALIDATION_DIR)"
      ]
    },
    {
      "cell_type": "code",
      "execution_count": null,
      "metadata": {
        "id": "c2DX9yDGX_4q"
      },
      "outputs": [],
      "source": [
        "y_train = train_generator.classes"
      ]
    },
    {
      "cell_type": "code",
      "execution_count": null,
      "metadata": {
        "id": "Rw-KSk0EYIg0"
      },
      "outputs": [],
      "source": [
        "class_weight = compute_class_weight(class_weight='balanced',\n",
        "                                    classes=np.unique(y_train),\n",
        "                                    y=y_train)\n",
        "class_weight = 1/class_weight\n",
        "\n",
        "weight = {i : class_weight[i] for i in range(29)}"
      ]
    },
    {
      "cell_type": "code",
      "execution_count": null,
      "metadata": {
        "id": "a-3rYg9WrUaf"
      },
      "outputs": [],
      "source": [
        "class myCallback(tf.keras.callbacks.Callback):\n",
        "  def on_epoch_end(self, epoch, logs={}):\n",
        "    if(logs.get('accuracy')>0.999):\n",
        "      print(\"\\nReached 99.9% accuracy so cancelling training!\")\n",
        "      self.model.stop_training = True"
      ]
    },
    {
      "cell_type": "code",
      "execution_count": null,
      "metadata": {
        "id": "B3M0IC-FdNTm"
      },
      "outputs": [],
      "source": [
        "early_stopping = EarlyStopping(patience=5)\n",
        "\n",
        "class LearningRateScheduler(Callback):\n",
        "    def __init__(self, schedule):\n",
        "        super(LearningRateScheduler, self).__init__()\n",
        "        self.schedule = schedule\n",
        "\n",
        "    def on_epoch_begin(self, epoch, logs=None):\n",
        "        if not hasattr(self.model.optimizer, 'lr'):\n",
        "            raise ValueError('Optimizer must have a \"lr\" attribute.')\n",
        "        lr = float(tf.keras.backend.get_value(self.model.optimizer.lr))\n",
        "        scheduled_lr = self.schedule(epoch, lr)\n",
        "        tf.keras.backend.set_value(self.model.optimizer.lr, scheduled_lr)\n",
        "        print(f'\\nLearning rate for epoch {epoch+1} is set to {scheduled_lr}')\n",
        "\n",
        "def learning_rate_schedule(epoch, lr):\n",
        "    if epoch < 4:\n",
        "        return lr  # Keep the initial learning rate for the first 4 epochs\n",
        "    else:\n",
        "        return lr * tf.math.exp(-0.1)  # Reduce the learning rate by a factor of 10 every 1 epoch\n",
        "\n",
        "lr_scheduler = LearningRateScheduler(learning_rate_schedule)"
      ]
    },
    {
      "attachments": {},
      "cell_type": "markdown",
      "metadata": {
        "id": "ohZ1pjdsTeS2"
      },
      "source": [
        "# Model InceptionV3"
      ]
    },
    {
      "cell_type": "code",
      "execution_count": null,
      "metadata": {
        "id": "rX1gaCwMp2il"
      },
      "outputs": [],
      "source": [
        "from tensorflow.keras.applications.inception_v3 import InceptionV3"
      ]
    },
    {
      "cell_type": "code",
      "execution_count": null,
      "metadata": {
        "id": "yNuBZ1-sqEGy"
      },
      "outputs": [],
      "source": [
        "def create_pre_trained_model(local_weights_file):\n",
        "  \"\"\"\n",
        "  Initializes an InceptionV3 model.\n",
        "  \n",
        "  Args:\n",
        "    local_weights_file (string): path pointing to a pretrained weights H5 file\n",
        "    \n",
        "  Returns:\n",
        "    pre_trained_model: the initialized InceptionV3 model\n",
        "  \"\"\"\n",
        "  ### START CODE HERE\n",
        "  pre_trained_model = InceptionV3(input_shape = (256, 256, 3), \n",
        "                                include_top = False, \n",
        "                                weights = None) \n",
        "\n",
        "  pre_trained_model.load_weights(local_weights_file)\n",
        "\n",
        "  # Make all the layers in the pre-trained model non-trainable\n",
        "  for layer in pre_trained_model.layers:\n",
        "    layer.trainable = False\n",
        "\n",
        "  ### END CODE HERE\n",
        "\n",
        "  return pre_trained_model"
      ]
    },
    {
      "cell_type": "code",
      "execution_count": null,
      "metadata": {
        "colab": {
          "base_uri": "https://localhost:8080/"
        },
        "id": "MHD_loxzqUHw",
        "outputId": "487707b4-9102-4ccf-e4cd-809662f75369"
      },
      "outputs": [
        {
          "name": "stdout",
          "output_type": "stream",
          "text": [
            "--2023-06-04 06:10:21--  https://storage.googleapis.com/mledu-datasets/inception_v3_weights_tf_dim_ordering_tf_kernels_notop.h5\n",
            "Resolving storage.googleapis.com (storage.googleapis.com)... 142.251.120.128, 142.251.161.128, 74.125.126.128, ...\n",
            "Connecting to storage.googleapis.com (storage.googleapis.com)|142.251.120.128|:443... connected.\n",
            "HTTP request sent, awaiting response... 200 OK\n",
            "Length: 87910968 (84M) [application/x-hdf]\n",
            "Saving to: ‘/tmp/inception_v3_weights_tf_dim_ordering_tf_kernels_notop.h5’\n",
            "\n",
            "/tmp/inception_v3_w 100%[===================>]  83.84M  59.6MB/s    in 1.4s    \n",
            "\n",
            "2023-06-04 06:10:22 (59.6 MB/s) - ‘/tmp/inception_v3_weights_tf_dim_ordering_tf_kernels_notop.h5’ saved [87910968/87910968]\n",
            "\n"
          ]
        }
      ],
      "source": [
        "!wget --no-check-certificate \\\n",
        "    https://storage.googleapis.com/mledu-datasets/inception_v3_weights_tf_dim_ordering_tf_kernels_notop.h5 \\\n",
        "    -O /tmp/inception_v3_weights_tf_dim_ordering_tf_kernels_notop.h5\n",
        "local_weights_file = '/tmp/inception_v3_weights_tf_dim_ordering_tf_kernels_notop.h5'"
      ]
    },
    {
      "cell_type": "code",
      "execution_count": null,
      "metadata": {
        "colab": {
          "base_uri": "https://localhost:8080/"
        },
        "id": "hbKJyv65qL7C",
        "outputId": "4452548f-8702-4733-f69b-5be696f089ea"
      },
      "outputs": [
        {
          "name": "stdout",
          "output_type": "stream",
          "text": [
            "Model: \"inception_v3\"\n",
            "__________________________________________________________________________________________________\n",
            " Layer (type)                   Output Shape         Param #     Connected to                     \n",
            "==================================================================================================\n",
            " input_1 (InputLayer)           [(None, 256, 256, 3  0           []                               \n",
            "                                )]                                                                \n",
            "                                                                                                  \n",
            " conv2d (Conv2D)                (None, 127, 127, 32  864         ['input_1[0][0]']                \n",
            "                                )                                                                 \n",
            "                                                                                                  \n",
            " batch_normalization (BatchNorm  (None, 127, 127, 32  96         ['conv2d[0][0]']                 \n",
            " alization)                     )                                                                 \n",
            "                                                                                                  \n",
            " activation (Activation)        (None, 127, 127, 32  0           ['batch_normalization[0][0]']    \n",
            "                                )                                                                 \n",
            "                                                                                                  \n",
            " conv2d_1 (Conv2D)              (None, 125, 125, 32  9216        ['activation[0][0]']             \n",
            "                                )                                                                 \n",
            "                                                                                                  \n",
            " batch_normalization_1 (BatchNo  (None, 125, 125, 32  96         ['conv2d_1[0][0]']               \n",
            " rmalization)                   )                                                                 \n",
            "                                                                                                  \n",
            " activation_1 (Activation)      (None, 125, 125, 32  0           ['batch_normalization_1[0][0]']  \n",
            "                                )                                                                 \n",
            "                                                                                                  \n",
            " conv2d_2 (Conv2D)              (None, 125, 125, 64  18432       ['activation_1[0][0]']           \n",
            "                                )                                                                 \n",
            "                                                                                                  \n",
            " batch_normalization_2 (BatchNo  (None, 125, 125, 64  192        ['conv2d_2[0][0]']               \n",
            " rmalization)                   )                                                                 \n",
            "                                                                                                  \n",
            " activation_2 (Activation)      (None, 125, 125, 64  0           ['batch_normalization_2[0][0]']  \n",
            "                                )                                                                 \n",
            "                                                                                                  \n",
            " max_pooling2d (MaxPooling2D)   (None, 62, 62, 64)   0           ['activation_2[0][0]']           \n",
            "                                                                                                  \n",
            " conv2d_3 (Conv2D)              (None, 62, 62, 80)   5120        ['max_pooling2d[0][0]']          \n",
            "                                                                                                  \n",
            " batch_normalization_3 (BatchNo  (None, 62, 62, 80)  240         ['conv2d_3[0][0]']               \n",
            " rmalization)                                                                                     \n",
            "                                                                                                  \n",
            " activation_3 (Activation)      (None, 62, 62, 80)   0           ['batch_normalization_3[0][0]']  \n",
            "                                                                                                  \n",
            " conv2d_4 (Conv2D)              (None, 60, 60, 192)  138240      ['activation_3[0][0]']           \n",
            "                                                                                                  \n",
            " batch_normalization_4 (BatchNo  (None, 60, 60, 192)  576        ['conv2d_4[0][0]']               \n",
            " rmalization)                                                                                     \n",
            "                                                                                                  \n",
            " activation_4 (Activation)      (None, 60, 60, 192)  0           ['batch_normalization_4[0][0]']  \n",
            "                                                                                                  \n",
            " max_pooling2d_1 (MaxPooling2D)  (None, 29, 29, 192)  0          ['activation_4[0][0]']           \n",
            "                                                                                                  \n",
            " conv2d_8 (Conv2D)              (None, 29, 29, 64)   12288       ['max_pooling2d_1[0][0]']        \n",
            "                                                                                                  \n",
            " batch_normalization_8 (BatchNo  (None, 29, 29, 64)  192         ['conv2d_8[0][0]']               \n",
            " rmalization)                                                                                     \n",
            "                                                                                                  \n",
            " activation_8 (Activation)      (None, 29, 29, 64)   0           ['batch_normalization_8[0][0]']  \n",
            "                                                                                                  \n",
            " conv2d_6 (Conv2D)              (None, 29, 29, 48)   9216        ['max_pooling2d_1[0][0]']        \n",
            "                                                                                                  \n",
            " conv2d_9 (Conv2D)              (None, 29, 29, 96)   55296       ['activation_8[0][0]']           \n",
            "                                                                                                  \n",
            " batch_normalization_6 (BatchNo  (None, 29, 29, 48)  144         ['conv2d_6[0][0]']               \n",
            " rmalization)                                                                                     \n",
            "                                                                                                  \n",
            " batch_normalization_9 (BatchNo  (None, 29, 29, 96)  288         ['conv2d_9[0][0]']               \n",
            " rmalization)                                                                                     \n",
            "                                                                                                  \n",
            " activation_6 (Activation)      (None, 29, 29, 48)   0           ['batch_normalization_6[0][0]']  \n",
            "                                                                                                  \n",
            " activation_9 (Activation)      (None, 29, 29, 96)   0           ['batch_normalization_9[0][0]']  \n",
            "                                                                                                  \n",
            " average_pooling2d (AveragePool  (None, 29, 29, 192)  0          ['max_pooling2d_1[0][0]']        \n",
            " ing2D)                                                                                           \n",
            "                                                                                                  \n",
            " conv2d_5 (Conv2D)              (None, 29, 29, 64)   12288       ['max_pooling2d_1[0][0]']        \n",
            "                                                                                                  \n",
            " conv2d_7 (Conv2D)              (None, 29, 29, 64)   76800       ['activation_6[0][0]']           \n",
            "                                                                                                  \n",
            " conv2d_10 (Conv2D)             (None, 29, 29, 96)   82944       ['activation_9[0][0]']           \n",
            "                                                                                                  \n",
            " conv2d_11 (Conv2D)             (None, 29, 29, 32)   6144        ['average_pooling2d[0][0]']      \n",
            "                                                                                                  \n",
            " batch_normalization_5 (BatchNo  (None, 29, 29, 64)  192         ['conv2d_5[0][0]']               \n",
            " rmalization)                                                                                     \n",
            "                                                                                                  \n",
            " batch_normalization_7 (BatchNo  (None, 29, 29, 64)  192         ['conv2d_7[0][0]']               \n",
            " rmalization)                                                                                     \n",
            "                                                                                                  \n",
            " batch_normalization_10 (BatchN  (None, 29, 29, 96)  288         ['conv2d_10[0][0]']              \n",
            " ormalization)                                                                                    \n",
            "                                                                                                  \n",
            " batch_normalization_11 (BatchN  (None, 29, 29, 32)  96          ['conv2d_11[0][0]']              \n",
            " ormalization)                                                                                    \n",
            "                                                                                                  \n",
            " activation_5 (Activation)      (None, 29, 29, 64)   0           ['batch_normalization_5[0][0]']  \n",
            "                                                                                                  \n",
            " activation_7 (Activation)      (None, 29, 29, 64)   0           ['batch_normalization_7[0][0]']  \n",
            "                                                                                                  \n",
            " activation_10 (Activation)     (None, 29, 29, 96)   0           ['batch_normalization_10[0][0]'] \n",
            "                                                                                                  \n",
            " activation_11 (Activation)     (None, 29, 29, 32)   0           ['batch_normalization_11[0][0]'] \n",
            "                                                                                                  \n",
            " mixed0 (Concatenate)           (None, 29, 29, 256)  0           ['activation_5[0][0]',           \n",
            "                                                                  'activation_7[0][0]',           \n",
            "                                                                  'activation_10[0][0]',          \n",
            "                                                                  'activation_11[0][0]']          \n",
            "                                                                                                  \n",
            " conv2d_15 (Conv2D)             (None, 29, 29, 64)   16384       ['mixed0[0][0]']                 \n",
            "                                                                                                  \n",
            " batch_normalization_15 (BatchN  (None, 29, 29, 64)  192         ['conv2d_15[0][0]']              \n",
            " ormalization)                                                                                    \n",
            "                                                                                                  \n",
            " activation_15 (Activation)     (None, 29, 29, 64)   0           ['batch_normalization_15[0][0]'] \n",
            "                                                                                                  \n",
            " conv2d_13 (Conv2D)             (None, 29, 29, 48)   12288       ['mixed0[0][0]']                 \n",
            "                                                                                                  \n",
            " conv2d_16 (Conv2D)             (None, 29, 29, 96)   55296       ['activation_15[0][0]']          \n",
            "                                                                                                  \n",
            " batch_normalization_13 (BatchN  (None, 29, 29, 48)  144         ['conv2d_13[0][0]']              \n",
            " ormalization)                                                                                    \n",
            "                                                                                                  \n",
            " batch_normalization_16 (BatchN  (None, 29, 29, 96)  288         ['conv2d_16[0][0]']              \n",
            " ormalization)                                                                                    \n",
            "                                                                                                  \n",
            " activation_13 (Activation)     (None, 29, 29, 48)   0           ['batch_normalization_13[0][0]'] \n",
            "                                                                                                  \n",
            " activation_16 (Activation)     (None, 29, 29, 96)   0           ['batch_normalization_16[0][0]'] \n",
            "                                                                                                  \n",
            " average_pooling2d_1 (AveragePo  (None, 29, 29, 256)  0          ['mixed0[0][0]']                 \n",
            " oling2D)                                                                                         \n",
            "                                                                                                  \n",
            " conv2d_12 (Conv2D)             (None, 29, 29, 64)   16384       ['mixed0[0][0]']                 \n",
            "                                                                                                  \n",
            " conv2d_14 (Conv2D)             (None, 29, 29, 64)   76800       ['activation_13[0][0]']          \n",
            "                                                                                                  \n",
            " conv2d_17 (Conv2D)             (None, 29, 29, 96)   82944       ['activation_16[0][0]']          \n",
            "                                                                                                  \n",
            " conv2d_18 (Conv2D)             (None, 29, 29, 64)   16384       ['average_pooling2d_1[0][0]']    \n",
            "                                                                                                  \n",
            " batch_normalization_12 (BatchN  (None, 29, 29, 64)  192         ['conv2d_12[0][0]']              \n",
            " ormalization)                                                                                    \n",
            "                                                                                                  \n",
            " batch_normalization_14 (BatchN  (None, 29, 29, 64)  192         ['conv2d_14[0][0]']              \n",
            " ormalization)                                                                                    \n",
            "                                                                                                  \n",
            " batch_normalization_17 (BatchN  (None, 29, 29, 96)  288         ['conv2d_17[0][0]']              \n",
            " ormalization)                                                                                    \n",
            "                                                                                                  \n",
            " batch_normalization_18 (BatchN  (None, 29, 29, 64)  192         ['conv2d_18[0][0]']              \n",
            " ormalization)                                                                                    \n",
            "                                                                                                  \n",
            " activation_12 (Activation)     (None, 29, 29, 64)   0           ['batch_normalization_12[0][0]'] \n",
            "                                                                                                  \n",
            " activation_14 (Activation)     (None, 29, 29, 64)   0           ['batch_normalization_14[0][0]'] \n",
            "                                                                                                  \n",
            " activation_17 (Activation)     (None, 29, 29, 96)   0           ['batch_normalization_17[0][0]'] \n",
            "                                                                                                  \n",
            " activation_18 (Activation)     (None, 29, 29, 64)   0           ['batch_normalization_18[0][0]'] \n",
            "                                                                                                  \n",
            " mixed1 (Concatenate)           (None, 29, 29, 288)  0           ['activation_12[0][0]',          \n",
            "                                                                  'activation_14[0][0]',          \n",
            "                                                                  'activation_17[0][0]',          \n",
            "                                                                  'activation_18[0][0]']          \n",
            "                                                                                                  \n",
            " conv2d_22 (Conv2D)             (None, 29, 29, 64)   18432       ['mixed1[0][0]']                 \n",
            "                                                                                                  \n",
            " batch_normalization_22 (BatchN  (None, 29, 29, 64)  192         ['conv2d_22[0][0]']              \n",
            " ormalization)                                                                                    \n",
            "                                                                                                  \n",
            " activation_22 (Activation)     (None, 29, 29, 64)   0           ['batch_normalization_22[0][0]'] \n",
            "                                                                                                  \n",
            " conv2d_20 (Conv2D)             (None, 29, 29, 48)   13824       ['mixed1[0][0]']                 \n",
            "                                                                                                  \n",
            " conv2d_23 (Conv2D)             (None, 29, 29, 96)   55296       ['activation_22[0][0]']          \n",
            "                                                                                                  \n",
            " batch_normalization_20 (BatchN  (None, 29, 29, 48)  144         ['conv2d_20[0][0]']              \n",
            " ormalization)                                                                                    \n",
            "                                                                                                  \n",
            " batch_normalization_23 (BatchN  (None, 29, 29, 96)  288         ['conv2d_23[0][0]']              \n",
            " ormalization)                                                                                    \n",
            "                                                                                                  \n",
            " activation_20 (Activation)     (None, 29, 29, 48)   0           ['batch_normalization_20[0][0]'] \n",
            "                                                                                                  \n",
            " activation_23 (Activation)     (None, 29, 29, 96)   0           ['batch_normalization_23[0][0]'] \n",
            "                                                                                                  \n",
            " average_pooling2d_2 (AveragePo  (None, 29, 29, 288)  0          ['mixed1[0][0]']                 \n",
            " oling2D)                                                                                         \n",
            "                                                                                                  \n",
            " conv2d_19 (Conv2D)             (None, 29, 29, 64)   18432       ['mixed1[0][0]']                 \n",
            "                                                                                                  \n",
            " conv2d_21 (Conv2D)             (None, 29, 29, 64)   76800       ['activation_20[0][0]']          \n",
            "                                                                                                  \n",
            " conv2d_24 (Conv2D)             (None, 29, 29, 96)   82944       ['activation_23[0][0]']          \n",
            "                                                                                                  \n",
            " conv2d_25 (Conv2D)             (None, 29, 29, 64)   18432       ['average_pooling2d_2[0][0]']    \n",
            "                                                                                                  \n",
            " batch_normalization_19 (BatchN  (None, 29, 29, 64)  192         ['conv2d_19[0][0]']              \n",
            " ormalization)                                                                                    \n",
            "                                                                                                  \n",
            " batch_normalization_21 (BatchN  (None, 29, 29, 64)  192         ['conv2d_21[0][0]']              \n",
            " ormalization)                                                                                    \n",
            "                                                                                                  \n",
            " batch_normalization_24 (BatchN  (None, 29, 29, 96)  288         ['conv2d_24[0][0]']              \n",
            " ormalization)                                                                                    \n",
            "                                                                                                  \n",
            " batch_normalization_25 (BatchN  (None, 29, 29, 64)  192         ['conv2d_25[0][0]']              \n",
            " ormalization)                                                                                    \n",
            "                                                                                                  \n",
            " activation_19 (Activation)     (None, 29, 29, 64)   0           ['batch_normalization_19[0][0]'] \n",
            "                                                                                                  \n",
            " activation_21 (Activation)     (None, 29, 29, 64)   0           ['batch_normalization_21[0][0]'] \n",
            "                                                                                                  \n",
            " activation_24 (Activation)     (None, 29, 29, 96)   0           ['batch_normalization_24[0][0]'] \n",
            "                                                                                                  \n",
            " activation_25 (Activation)     (None, 29, 29, 64)   0           ['batch_normalization_25[0][0]'] \n",
            "                                                                                                  \n",
            " mixed2 (Concatenate)           (None, 29, 29, 288)  0           ['activation_19[0][0]',          \n",
            "                                                                  'activation_21[0][0]',          \n",
            "                                                                  'activation_24[0][0]',          \n",
            "                                                                  'activation_25[0][0]']          \n",
            "                                                                                                  \n",
            " conv2d_27 (Conv2D)             (None, 29, 29, 64)   18432       ['mixed2[0][0]']                 \n",
            "                                                                                                  \n",
            " batch_normalization_27 (BatchN  (None, 29, 29, 64)  192         ['conv2d_27[0][0]']              \n",
            " ormalization)                                                                                    \n",
            "                                                                                                  \n",
            " activation_27 (Activation)     (None, 29, 29, 64)   0           ['batch_normalization_27[0][0]'] \n",
            "                                                                                                  \n",
            " conv2d_28 (Conv2D)             (None, 29, 29, 96)   55296       ['activation_27[0][0]']          \n",
            "                                                                                                  \n",
            " batch_normalization_28 (BatchN  (None, 29, 29, 96)  288         ['conv2d_28[0][0]']              \n",
            " ormalization)                                                                                    \n",
            "                                                                                                  \n",
            " activation_28 (Activation)     (None, 29, 29, 96)   0           ['batch_normalization_28[0][0]'] \n",
            "                                                                                                  \n",
            " conv2d_26 (Conv2D)             (None, 14, 14, 384)  995328      ['mixed2[0][0]']                 \n",
            "                                                                                                  \n",
            " conv2d_29 (Conv2D)             (None, 14, 14, 96)   82944       ['activation_28[0][0]']          \n",
            "                                                                                                  \n",
            " batch_normalization_26 (BatchN  (None, 14, 14, 384)  1152       ['conv2d_26[0][0]']              \n",
            " ormalization)                                                                                    \n",
            "                                                                                                  \n",
            " batch_normalization_29 (BatchN  (None, 14, 14, 96)  288         ['conv2d_29[0][0]']              \n",
            " ormalization)                                                                                    \n",
            "                                                                                                  \n",
            " activation_26 (Activation)     (None, 14, 14, 384)  0           ['batch_normalization_26[0][0]'] \n",
            "                                                                                                  \n",
            " activation_29 (Activation)     (None, 14, 14, 96)   0           ['batch_normalization_29[0][0]'] \n",
            "                                                                                                  \n",
            " max_pooling2d_2 (MaxPooling2D)  (None, 14, 14, 288)  0          ['mixed2[0][0]']                 \n",
            "                                                                                                  \n",
            " mixed3 (Concatenate)           (None, 14, 14, 768)  0           ['activation_26[0][0]',          \n",
            "                                                                  'activation_29[0][0]',          \n",
            "                                                                  'max_pooling2d_2[0][0]']        \n",
            "                                                                                                  \n",
            " conv2d_34 (Conv2D)             (None, 14, 14, 128)  98304       ['mixed3[0][0]']                 \n",
            "                                                                                                  \n",
            " batch_normalization_34 (BatchN  (None, 14, 14, 128)  384        ['conv2d_34[0][0]']              \n",
            " ormalization)                                                                                    \n",
            "                                                                                                  \n",
            " activation_34 (Activation)     (None, 14, 14, 128)  0           ['batch_normalization_34[0][0]'] \n",
            "                                                                                                  \n",
            " conv2d_35 (Conv2D)             (None, 14, 14, 128)  114688      ['activation_34[0][0]']          \n",
            "                                                                                                  \n",
            " batch_normalization_35 (BatchN  (None, 14, 14, 128)  384        ['conv2d_35[0][0]']              \n",
            " ormalization)                                                                                    \n",
            "                                                                                                  \n",
            " activation_35 (Activation)     (None, 14, 14, 128)  0           ['batch_normalization_35[0][0]'] \n",
            "                                                                                                  \n",
            " conv2d_31 (Conv2D)             (None, 14, 14, 128)  98304       ['mixed3[0][0]']                 \n",
            "                                                                                                  \n",
            " conv2d_36 (Conv2D)             (None, 14, 14, 128)  114688      ['activation_35[0][0]']          \n",
            "                                                                                                  \n",
            " batch_normalization_31 (BatchN  (None, 14, 14, 128)  384        ['conv2d_31[0][0]']              \n",
            " ormalization)                                                                                    \n",
            "                                                                                                  \n",
            " batch_normalization_36 (BatchN  (None, 14, 14, 128)  384        ['conv2d_36[0][0]']              \n",
            " ormalization)                                                                                    \n",
            "                                                                                                  \n",
            " activation_31 (Activation)     (None, 14, 14, 128)  0           ['batch_normalization_31[0][0]'] \n",
            "                                                                                                  \n",
            " activation_36 (Activation)     (None, 14, 14, 128)  0           ['batch_normalization_36[0][0]'] \n",
            "                                                                                                  \n",
            " conv2d_32 (Conv2D)             (None, 14, 14, 128)  114688      ['activation_31[0][0]']          \n",
            "                                                                                                  \n",
            " conv2d_37 (Conv2D)             (None, 14, 14, 128)  114688      ['activation_36[0][0]']          \n",
            "                                                                                                  \n",
            " batch_normalization_32 (BatchN  (None, 14, 14, 128)  384        ['conv2d_32[0][0]']              \n",
            " ormalization)                                                                                    \n",
            "                                                                                                  \n",
            " batch_normalization_37 (BatchN  (None, 14, 14, 128)  384        ['conv2d_37[0][0]']              \n",
            " ormalization)                                                                                    \n",
            "                                                                                                  \n",
            " activation_32 (Activation)     (None, 14, 14, 128)  0           ['batch_normalization_32[0][0]'] \n",
            "                                                                                                  \n",
            " activation_37 (Activation)     (None, 14, 14, 128)  0           ['batch_normalization_37[0][0]'] \n",
            "                                                                                                  \n",
            " average_pooling2d_3 (AveragePo  (None, 14, 14, 768)  0          ['mixed3[0][0]']                 \n",
            " oling2D)                                                                                         \n",
            "                                                                                                  \n",
            " conv2d_30 (Conv2D)             (None, 14, 14, 192)  147456      ['mixed3[0][0]']                 \n",
            "                                                                                                  \n",
            " conv2d_33 (Conv2D)             (None, 14, 14, 192)  172032      ['activation_32[0][0]']          \n",
            "                                                                                                  \n",
            " conv2d_38 (Conv2D)             (None, 14, 14, 192)  172032      ['activation_37[0][0]']          \n",
            "                                                                                                  \n",
            " conv2d_39 (Conv2D)             (None, 14, 14, 192)  147456      ['average_pooling2d_3[0][0]']    \n",
            "                                                                                                  \n",
            " batch_normalization_30 (BatchN  (None, 14, 14, 192)  576        ['conv2d_30[0][0]']              \n",
            " ormalization)                                                                                    \n",
            "                                                                                                  \n",
            " batch_normalization_33 (BatchN  (None, 14, 14, 192)  576        ['conv2d_33[0][0]']              \n",
            " ormalization)                                                                                    \n",
            "                                                                                                  \n",
            " batch_normalization_38 (BatchN  (None, 14, 14, 192)  576        ['conv2d_38[0][0]']              \n",
            " ormalization)                                                                                    \n",
            "                                                                                                  \n",
            " batch_normalization_39 (BatchN  (None, 14, 14, 192)  576        ['conv2d_39[0][0]']              \n",
            " ormalization)                                                                                    \n",
            "                                                                                                  \n",
            " activation_30 (Activation)     (None, 14, 14, 192)  0           ['batch_normalization_30[0][0]'] \n",
            "                                                                                                  \n",
            " activation_33 (Activation)     (None, 14, 14, 192)  0           ['batch_normalization_33[0][0]'] \n",
            "                                                                                                  \n",
            " activation_38 (Activation)     (None, 14, 14, 192)  0           ['batch_normalization_38[0][0]'] \n",
            "                                                                                                  \n",
            " activation_39 (Activation)     (None, 14, 14, 192)  0           ['batch_normalization_39[0][0]'] \n",
            "                                                                                                  \n",
            " mixed4 (Concatenate)           (None, 14, 14, 768)  0           ['activation_30[0][0]',          \n",
            "                                                                  'activation_33[0][0]',          \n",
            "                                                                  'activation_38[0][0]',          \n",
            "                                                                  'activation_39[0][0]']          \n",
            "                                                                                                  \n",
            " conv2d_44 (Conv2D)             (None, 14, 14, 160)  122880      ['mixed4[0][0]']                 \n",
            "                                                                                                  \n",
            " batch_normalization_44 (BatchN  (None, 14, 14, 160)  480        ['conv2d_44[0][0]']              \n",
            " ormalization)                                                                                    \n",
            "                                                                                                  \n",
            " activation_44 (Activation)     (None, 14, 14, 160)  0           ['batch_normalization_44[0][0]'] \n",
            "                                                                                                  \n",
            " conv2d_45 (Conv2D)             (None, 14, 14, 160)  179200      ['activation_44[0][0]']          \n",
            "                                                                                                  \n",
            " batch_normalization_45 (BatchN  (None, 14, 14, 160)  480        ['conv2d_45[0][0]']              \n",
            " ormalization)                                                                                    \n",
            "                                                                                                  \n",
            " activation_45 (Activation)     (None, 14, 14, 160)  0           ['batch_normalization_45[0][0]'] \n",
            "                                                                                                  \n",
            " conv2d_41 (Conv2D)             (None, 14, 14, 160)  122880      ['mixed4[0][0]']                 \n",
            "                                                                                                  \n",
            " conv2d_46 (Conv2D)             (None, 14, 14, 160)  179200      ['activation_45[0][0]']          \n",
            "                                                                                                  \n",
            " batch_normalization_41 (BatchN  (None, 14, 14, 160)  480        ['conv2d_41[0][0]']              \n",
            " ormalization)                                                                                    \n",
            "                                                                                                  \n",
            " batch_normalization_46 (BatchN  (None, 14, 14, 160)  480        ['conv2d_46[0][0]']              \n",
            " ormalization)                                                                                    \n",
            "                                                                                                  \n",
            " activation_41 (Activation)     (None, 14, 14, 160)  0           ['batch_normalization_41[0][0]'] \n",
            "                                                                                                  \n",
            " activation_46 (Activation)     (None, 14, 14, 160)  0           ['batch_normalization_46[0][0]'] \n",
            "                                                                                                  \n",
            " conv2d_42 (Conv2D)             (None, 14, 14, 160)  179200      ['activation_41[0][0]']          \n",
            "                                                                                                  \n",
            " conv2d_47 (Conv2D)             (None, 14, 14, 160)  179200      ['activation_46[0][0]']          \n",
            "                                                                                                  \n",
            " batch_normalization_42 (BatchN  (None, 14, 14, 160)  480        ['conv2d_42[0][0]']              \n",
            " ormalization)                                                                                    \n",
            "                                                                                                  \n",
            " batch_normalization_47 (BatchN  (None, 14, 14, 160)  480        ['conv2d_47[0][0]']              \n",
            " ormalization)                                                                                    \n",
            "                                                                                                  \n",
            " activation_42 (Activation)     (None, 14, 14, 160)  0           ['batch_normalization_42[0][0]'] \n",
            "                                                                                                  \n",
            " activation_47 (Activation)     (None, 14, 14, 160)  0           ['batch_normalization_47[0][0]'] \n",
            "                                                                                                  \n",
            " average_pooling2d_4 (AveragePo  (None, 14, 14, 768)  0          ['mixed4[0][0]']                 \n",
            " oling2D)                                                                                         \n",
            "                                                                                                  \n",
            " conv2d_40 (Conv2D)             (None, 14, 14, 192)  147456      ['mixed4[0][0]']                 \n",
            "                                                                                                  \n",
            " conv2d_43 (Conv2D)             (None, 14, 14, 192)  215040      ['activation_42[0][0]']          \n",
            "                                                                                                  \n",
            " conv2d_48 (Conv2D)             (None, 14, 14, 192)  215040      ['activation_47[0][0]']          \n",
            "                                                                                                  \n",
            " conv2d_49 (Conv2D)             (None, 14, 14, 192)  147456      ['average_pooling2d_4[0][0]']    \n",
            "                                                                                                  \n",
            " batch_normalization_40 (BatchN  (None, 14, 14, 192)  576        ['conv2d_40[0][0]']              \n",
            " ormalization)                                                                                    \n",
            "                                                                                                  \n",
            " batch_normalization_43 (BatchN  (None, 14, 14, 192)  576        ['conv2d_43[0][0]']              \n",
            " ormalization)                                                                                    \n",
            "                                                                                                  \n",
            " batch_normalization_48 (BatchN  (None, 14, 14, 192)  576        ['conv2d_48[0][0]']              \n",
            " ormalization)                                                                                    \n",
            "                                                                                                  \n",
            " batch_normalization_49 (BatchN  (None, 14, 14, 192)  576        ['conv2d_49[0][0]']              \n",
            " ormalization)                                                                                    \n",
            "                                                                                                  \n",
            " activation_40 (Activation)     (None, 14, 14, 192)  0           ['batch_normalization_40[0][0]'] \n",
            "                                                                                                  \n",
            " activation_43 (Activation)     (None, 14, 14, 192)  0           ['batch_normalization_43[0][0]'] \n",
            "                                                                                                  \n",
            " activation_48 (Activation)     (None, 14, 14, 192)  0           ['batch_normalization_48[0][0]'] \n",
            "                                                                                                  \n",
            " activation_49 (Activation)     (None, 14, 14, 192)  0           ['batch_normalization_49[0][0]'] \n",
            "                                                                                                  \n",
            " mixed5 (Concatenate)           (None, 14, 14, 768)  0           ['activation_40[0][0]',          \n",
            "                                                                  'activation_43[0][0]',          \n",
            "                                                                  'activation_48[0][0]',          \n",
            "                                                                  'activation_49[0][0]']          \n",
            "                                                                                                  \n",
            " conv2d_54 (Conv2D)             (None, 14, 14, 160)  122880      ['mixed5[0][0]']                 \n",
            "                                                                                                  \n",
            " batch_normalization_54 (BatchN  (None, 14, 14, 160)  480        ['conv2d_54[0][0]']              \n",
            " ormalization)                                                                                    \n",
            "                                                                                                  \n",
            " activation_54 (Activation)     (None, 14, 14, 160)  0           ['batch_normalization_54[0][0]'] \n",
            "                                                                                                  \n",
            " conv2d_55 (Conv2D)             (None, 14, 14, 160)  179200      ['activation_54[0][0]']          \n",
            "                                                                                                  \n",
            " batch_normalization_55 (BatchN  (None, 14, 14, 160)  480        ['conv2d_55[0][0]']              \n",
            " ormalization)                                                                                    \n",
            "                                                                                                  \n",
            " activation_55 (Activation)     (None, 14, 14, 160)  0           ['batch_normalization_55[0][0]'] \n",
            "                                                                                                  \n",
            " conv2d_51 (Conv2D)             (None, 14, 14, 160)  122880      ['mixed5[0][0]']                 \n",
            "                                                                                                  \n",
            " conv2d_56 (Conv2D)             (None, 14, 14, 160)  179200      ['activation_55[0][0]']          \n",
            "                                                                                                  \n",
            " batch_normalization_51 (BatchN  (None, 14, 14, 160)  480        ['conv2d_51[0][0]']              \n",
            " ormalization)                                                                                    \n",
            "                                                                                                  \n",
            " batch_normalization_56 (BatchN  (None, 14, 14, 160)  480        ['conv2d_56[0][0]']              \n",
            " ormalization)                                                                                    \n",
            "                                                                                                  \n",
            " activation_51 (Activation)     (None, 14, 14, 160)  0           ['batch_normalization_51[0][0]'] \n",
            "                                                                                                  \n",
            " activation_56 (Activation)     (None, 14, 14, 160)  0           ['batch_normalization_56[0][0]'] \n",
            "                                                                                                  \n",
            " conv2d_52 (Conv2D)             (None, 14, 14, 160)  179200      ['activation_51[0][0]']          \n",
            "                                                                                                  \n",
            " conv2d_57 (Conv2D)             (None, 14, 14, 160)  179200      ['activation_56[0][0]']          \n",
            "                                                                                                  \n",
            " batch_normalization_52 (BatchN  (None, 14, 14, 160)  480        ['conv2d_52[0][0]']              \n",
            " ormalization)                                                                                    \n",
            "                                                                                                  \n",
            " batch_normalization_57 (BatchN  (None, 14, 14, 160)  480        ['conv2d_57[0][0]']              \n",
            " ormalization)                                                                                    \n",
            "                                                                                                  \n",
            " activation_52 (Activation)     (None, 14, 14, 160)  0           ['batch_normalization_52[0][0]'] \n",
            "                                                                                                  \n",
            " activation_57 (Activation)     (None, 14, 14, 160)  0           ['batch_normalization_57[0][0]'] \n",
            "                                                                                                  \n",
            " average_pooling2d_5 (AveragePo  (None, 14, 14, 768)  0          ['mixed5[0][0]']                 \n",
            " oling2D)                                                                                         \n",
            "                                                                                                  \n",
            " conv2d_50 (Conv2D)             (None, 14, 14, 192)  147456      ['mixed5[0][0]']                 \n",
            "                                                                                                  \n",
            " conv2d_53 (Conv2D)             (None, 14, 14, 192)  215040      ['activation_52[0][0]']          \n",
            "                                                                                                  \n",
            " conv2d_58 (Conv2D)             (None, 14, 14, 192)  215040      ['activation_57[0][0]']          \n",
            "                                                                                                  \n",
            " conv2d_59 (Conv2D)             (None, 14, 14, 192)  147456      ['average_pooling2d_5[0][0]']    \n",
            "                                                                                                  \n",
            " batch_normalization_50 (BatchN  (None, 14, 14, 192)  576        ['conv2d_50[0][0]']              \n",
            " ormalization)                                                                                    \n",
            "                                                                                                  \n",
            " batch_normalization_53 (BatchN  (None, 14, 14, 192)  576        ['conv2d_53[0][0]']              \n",
            " ormalization)                                                                                    \n",
            "                                                                                                  \n",
            " batch_normalization_58 (BatchN  (None, 14, 14, 192)  576        ['conv2d_58[0][0]']              \n",
            " ormalization)                                                                                    \n",
            "                                                                                                  \n",
            " batch_normalization_59 (BatchN  (None, 14, 14, 192)  576        ['conv2d_59[0][0]']              \n",
            " ormalization)                                                                                    \n",
            "                                                                                                  \n",
            " activation_50 (Activation)     (None, 14, 14, 192)  0           ['batch_normalization_50[0][0]'] \n",
            "                                                                                                  \n",
            " activation_53 (Activation)     (None, 14, 14, 192)  0           ['batch_normalization_53[0][0]'] \n",
            "                                                                                                  \n",
            " activation_58 (Activation)     (None, 14, 14, 192)  0           ['batch_normalization_58[0][0]'] \n",
            "                                                                                                  \n",
            " activation_59 (Activation)     (None, 14, 14, 192)  0           ['batch_normalization_59[0][0]'] \n",
            "                                                                                                  \n",
            " mixed6 (Concatenate)           (None, 14, 14, 768)  0           ['activation_50[0][0]',          \n",
            "                                                                  'activation_53[0][0]',          \n",
            "                                                                  'activation_58[0][0]',          \n",
            "                                                                  'activation_59[0][0]']          \n",
            "                                                                                                  \n",
            " conv2d_64 (Conv2D)             (None, 14, 14, 192)  147456      ['mixed6[0][0]']                 \n",
            "                                                                                                  \n",
            " batch_normalization_64 (BatchN  (None, 14, 14, 192)  576        ['conv2d_64[0][0]']              \n",
            " ormalization)                                                                                    \n",
            "                                                                                                  \n",
            " activation_64 (Activation)     (None, 14, 14, 192)  0           ['batch_normalization_64[0][0]'] \n",
            "                                                                                                  \n",
            " conv2d_65 (Conv2D)             (None, 14, 14, 192)  258048      ['activation_64[0][0]']          \n",
            "                                                                                                  \n",
            " batch_normalization_65 (BatchN  (None, 14, 14, 192)  576        ['conv2d_65[0][0]']              \n",
            " ormalization)                                                                                    \n",
            "                                                                                                  \n",
            " activation_65 (Activation)     (None, 14, 14, 192)  0           ['batch_normalization_65[0][0]'] \n",
            "                                                                                                  \n",
            " conv2d_61 (Conv2D)             (None, 14, 14, 192)  147456      ['mixed6[0][0]']                 \n",
            "                                                                                                  \n",
            " conv2d_66 (Conv2D)             (None, 14, 14, 192)  258048      ['activation_65[0][0]']          \n",
            "                                                                                                  \n",
            " batch_normalization_61 (BatchN  (None, 14, 14, 192)  576        ['conv2d_61[0][0]']              \n",
            " ormalization)                                                                                    \n",
            "                                                                                                  \n",
            " batch_normalization_66 (BatchN  (None, 14, 14, 192)  576        ['conv2d_66[0][0]']              \n",
            " ormalization)                                                                                    \n",
            "                                                                                                  \n",
            " activation_61 (Activation)     (None, 14, 14, 192)  0           ['batch_normalization_61[0][0]'] \n",
            "                                                                                                  \n",
            " activation_66 (Activation)     (None, 14, 14, 192)  0           ['batch_normalization_66[0][0]'] \n",
            "                                                                                                  \n",
            " conv2d_62 (Conv2D)             (None, 14, 14, 192)  258048      ['activation_61[0][0]']          \n",
            "                                                                                                  \n",
            " conv2d_67 (Conv2D)             (None, 14, 14, 192)  258048      ['activation_66[0][0]']          \n",
            "                                                                                                  \n",
            " batch_normalization_62 (BatchN  (None, 14, 14, 192)  576        ['conv2d_62[0][0]']              \n",
            " ormalization)                                                                                    \n",
            "                                                                                                  \n",
            " batch_normalization_67 (BatchN  (None, 14, 14, 192)  576        ['conv2d_67[0][0]']              \n",
            " ormalization)                                                                                    \n",
            "                                                                                                  \n",
            " activation_62 (Activation)     (None, 14, 14, 192)  0           ['batch_normalization_62[0][0]'] \n",
            "                                                                                                  \n",
            " activation_67 (Activation)     (None, 14, 14, 192)  0           ['batch_normalization_67[0][0]'] \n",
            "                                                                                                  \n",
            " average_pooling2d_6 (AveragePo  (None, 14, 14, 768)  0          ['mixed6[0][0]']                 \n",
            " oling2D)                                                                                         \n",
            "                                                                                                  \n",
            " conv2d_60 (Conv2D)             (None, 14, 14, 192)  147456      ['mixed6[0][0]']                 \n",
            "                                                                                                  \n",
            " conv2d_63 (Conv2D)             (None, 14, 14, 192)  258048      ['activation_62[0][0]']          \n",
            "                                                                                                  \n",
            " conv2d_68 (Conv2D)             (None, 14, 14, 192)  258048      ['activation_67[0][0]']          \n",
            "                                                                                                  \n",
            " conv2d_69 (Conv2D)             (None, 14, 14, 192)  147456      ['average_pooling2d_6[0][0]']    \n",
            "                                                                                                  \n",
            " batch_normalization_60 (BatchN  (None, 14, 14, 192)  576        ['conv2d_60[0][0]']              \n",
            " ormalization)                                                                                    \n",
            "                                                                                                  \n",
            " batch_normalization_63 (BatchN  (None, 14, 14, 192)  576        ['conv2d_63[0][0]']              \n",
            " ormalization)                                                                                    \n",
            "                                                                                                  \n",
            " batch_normalization_68 (BatchN  (None, 14, 14, 192)  576        ['conv2d_68[0][0]']              \n",
            " ormalization)                                                                                    \n",
            "                                                                                                  \n",
            " batch_normalization_69 (BatchN  (None, 14, 14, 192)  576        ['conv2d_69[0][0]']              \n",
            " ormalization)                                                                                    \n",
            "                                                                                                  \n",
            " activation_60 (Activation)     (None, 14, 14, 192)  0           ['batch_normalization_60[0][0]'] \n",
            "                                                                                                  \n",
            " activation_63 (Activation)     (None, 14, 14, 192)  0           ['batch_normalization_63[0][0]'] \n",
            "                                                                                                  \n",
            " activation_68 (Activation)     (None, 14, 14, 192)  0           ['batch_normalization_68[0][0]'] \n",
            "                                                                                                  \n",
            " activation_69 (Activation)     (None, 14, 14, 192)  0           ['batch_normalization_69[0][0]'] \n",
            "                                                                                                  \n",
            " mixed7 (Concatenate)           (None, 14, 14, 768)  0           ['activation_60[0][0]',          \n",
            "                                                                  'activation_63[0][0]',          \n",
            "                                                                  'activation_68[0][0]',          \n",
            "                                                                  'activation_69[0][0]']          \n",
            "                                                                                                  \n",
            " conv2d_72 (Conv2D)             (None, 14, 14, 192)  147456      ['mixed7[0][0]']                 \n",
            "                                                                                                  \n",
            " batch_normalization_72 (BatchN  (None, 14, 14, 192)  576        ['conv2d_72[0][0]']              \n",
            " ormalization)                                                                                    \n",
            "                                                                                                  \n",
            " activation_72 (Activation)     (None, 14, 14, 192)  0           ['batch_normalization_72[0][0]'] \n",
            "                                                                                                  \n",
            " conv2d_73 (Conv2D)             (None, 14, 14, 192)  258048      ['activation_72[0][0]']          \n",
            "                                                                                                  \n",
            " batch_normalization_73 (BatchN  (None, 14, 14, 192)  576        ['conv2d_73[0][0]']              \n",
            " ormalization)                                                                                    \n",
            "                                                                                                  \n",
            " activation_73 (Activation)     (None, 14, 14, 192)  0           ['batch_normalization_73[0][0]'] \n",
            "                                                                                                  \n",
            " conv2d_70 (Conv2D)             (None, 14, 14, 192)  147456      ['mixed7[0][0]']                 \n",
            "                                                                                                  \n",
            " conv2d_74 (Conv2D)             (None, 14, 14, 192)  258048      ['activation_73[0][0]']          \n",
            "                                                                                                  \n",
            " batch_normalization_70 (BatchN  (None, 14, 14, 192)  576        ['conv2d_70[0][0]']              \n",
            " ormalization)                                                                                    \n",
            "                                                                                                  \n",
            " batch_normalization_74 (BatchN  (None, 14, 14, 192)  576        ['conv2d_74[0][0]']              \n",
            " ormalization)                                                                                    \n",
            "                                                                                                  \n",
            " activation_70 (Activation)     (None, 14, 14, 192)  0           ['batch_normalization_70[0][0]'] \n",
            "                                                                                                  \n",
            " activation_74 (Activation)     (None, 14, 14, 192)  0           ['batch_normalization_74[0][0]'] \n",
            "                                                                                                  \n",
            " conv2d_71 (Conv2D)             (None, 6, 6, 320)    552960      ['activation_70[0][0]']          \n",
            "                                                                                                  \n",
            " conv2d_75 (Conv2D)             (None, 6, 6, 192)    331776      ['activation_74[0][0]']          \n",
            "                                                                                                  \n",
            " batch_normalization_71 (BatchN  (None, 6, 6, 320)   960         ['conv2d_71[0][0]']              \n",
            " ormalization)                                                                                    \n",
            "                                                                                                  \n",
            " batch_normalization_75 (BatchN  (None, 6, 6, 192)   576         ['conv2d_75[0][0]']              \n",
            " ormalization)                                                                                    \n",
            "                                                                                                  \n",
            " activation_71 (Activation)     (None, 6, 6, 320)    0           ['batch_normalization_71[0][0]'] \n",
            "                                                                                                  \n",
            " activation_75 (Activation)     (None, 6, 6, 192)    0           ['batch_normalization_75[0][0]'] \n",
            "                                                                                                  \n",
            " max_pooling2d_3 (MaxPooling2D)  (None, 6, 6, 768)   0           ['mixed7[0][0]']                 \n",
            "                                                                                                  \n",
            " mixed8 (Concatenate)           (None, 6, 6, 1280)   0           ['activation_71[0][0]',          \n",
            "                                                                  'activation_75[0][0]',          \n",
            "                                                                  'max_pooling2d_3[0][0]']        \n",
            "                                                                                                  \n",
            " conv2d_80 (Conv2D)             (None, 6, 6, 448)    573440      ['mixed8[0][0]']                 \n",
            "                                                                                                  \n",
            " batch_normalization_80 (BatchN  (None, 6, 6, 448)   1344        ['conv2d_80[0][0]']              \n",
            " ormalization)                                                                                    \n",
            "                                                                                                  \n",
            " activation_80 (Activation)     (None, 6, 6, 448)    0           ['batch_normalization_80[0][0]'] \n",
            "                                                                                                  \n",
            " conv2d_77 (Conv2D)             (None, 6, 6, 384)    491520      ['mixed8[0][0]']                 \n",
            "                                                                                                  \n",
            " conv2d_81 (Conv2D)             (None, 6, 6, 384)    1548288     ['activation_80[0][0]']          \n",
            "                                                                                                  \n",
            " batch_normalization_77 (BatchN  (None, 6, 6, 384)   1152        ['conv2d_77[0][0]']              \n",
            " ormalization)                                                                                    \n",
            "                                                                                                  \n",
            " batch_normalization_81 (BatchN  (None, 6, 6, 384)   1152        ['conv2d_81[0][0]']              \n",
            " ormalization)                                                                                    \n",
            "                                                                                                  \n",
            " activation_77 (Activation)     (None, 6, 6, 384)    0           ['batch_normalization_77[0][0]'] \n",
            "                                                                                                  \n",
            " activation_81 (Activation)     (None, 6, 6, 384)    0           ['batch_normalization_81[0][0]'] \n",
            "                                                                                                  \n",
            " conv2d_78 (Conv2D)             (None, 6, 6, 384)    442368      ['activation_77[0][0]']          \n",
            "                                                                                                  \n",
            " conv2d_79 (Conv2D)             (None, 6, 6, 384)    442368      ['activation_77[0][0]']          \n",
            "                                                                                                  \n",
            " conv2d_82 (Conv2D)             (None, 6, 6, 384)    442368      ['activation_81[0][0]']          \n",
            "                                                                                                  \n",
            " conv2d_83 (Conv2D)             (None, 6, 6, 384)    442368      ['activation_81[0][0]']          \n",
            "                                                                                                  \n",
            " average_pooling2d_7 (AveragePo  (None, 6, 6, 1280)  0           ['mixed8[0][0]']                 \n",
            " oling2D)                                                                                         \n",
            "                                                                                                  \n",
            " conv2d_76 (Conv2D)             (None, 6, 6, 320)    409600      ['mixed8[0][0]']                 \n",
            "                                                                                                  \n",
            " batch_normalization_78 (BatchN  (None, 6, 6, 384)   1152        ['conv2d_78[0][0]']              \n",
            " ormalization)                                                                                    \n",
            "                                                                                                  \n",
            " batch_normalization_79 (BatchN  (None, 6, 6, 384)   1152        ['conv2d_79[0][0]']              \n",
            " ormalization)                                                                                    \n",
            "                                                                                                  \n",
            " batch_normalization_82 (BatchN  (None, 6, 6, 384)   1152        ['conv2d_82[0][0]']              \n",
            " ormalization)                                                                                    \n",
            "                                                                                                  \n",
            " batch_normalization_83 (BatchN  (None, 6, 6, 384)   1152        ['conv2d_83[0][0]']              \n",
            " ormalization)                                                                                    \n",
            "                                                                                                  \n",
            " conv2d_84 (Conv2D)             (None, 6, 6, 192)    245760      ['average_pooling2d_7[0][0]']    \n",
            "                                                                                                  \n",
            " batch_normalization_76 (BatchN  (None, 6, 6, 320)   960         ['conv2d_76[0][0]']              \n",
            " ormalization)                                                                                    \n",
            "                                                                                                  \n",
            " activation_78 (Activation)     (None, 6, 6, 384)    0           ['batch_normalization_78[0][0]'] \n",
            "                                                                                                  \n",
            " activation_79 (Activation)     (None, 6, 6, 384)    0           ['batch_normalization_79[0][0]'] \n",
            "                                                                                                  \n",
            " activation_82 (Activation)     (None, 6, 6, 384)    0           ['batch_normalization_82[0][0]'] \n",
            "                                                                                                  \n",
            " activation_83 (Activation)     (None, 6, 6, 384)    0           ['batch_normalization_83[0][0]'] \n",
            "                                                                                                  \n",
            " batch_normalization_84 (BatchN  (None, 6, 6, 192)   576         ['conv2d_84[0][0]']              \n",
            " ormalization)                                                                                    \n",
            "                                                                                                  \n",
            " activation_76 (Activation)     (None, 6, 6, 320)    0           ['batch_normalization_76[0][0]'] \n",
            "                                                                                                  \n",
            " mixed9_0 (Concatenate)         (None, 6, 6, 768)    0           ['activation_78[0][0]',          \n",
            "                                                                  'activation_79[0][0]']          \n",
            "                                                                                                  \n",
            " concatenate (Concatenate)      (None, 6, 6, 768)    0           ['activation_82[0][0]',          \n",
            "                                                                  'activation_83[0][0]']          \n",
            "                                                                                                  \n",
            " activation_84 (Activation)     (None, 6, 6, 192)    0           ['batch_normalization_84[0][0]'] \n",
            "                                                                                                  \n",
            " mixed9 (Concatenate)           (None, 6, 6, 2048)   0           ['activation_76[0][0]',          \n",
            "                                                                  'mixed9_0[0][0]',               \n",
            "                                                                  'concatenate[0][0]',            \n",
            "                                                                  'activation_84[0][0]']          \n",
            "                                                                                                  \n",
            " conv2d_89 (Conv2D)             (None, 6, 6, 448)    917504      ['mixed9[0][0]']                 \n",
            "                                                                                                  \n",
            " batch_normalization_89 (BatchN  (None, 6, 6, 448)   1344        ['conv2d_89[0][0]']              \n",
            " ormalization)                                                                                    \n",
            "                                                                                                  \n",
            " activation_89 (Activation)     (None, 6, 6, 448)    0           ['batch_normalization_89[0][0]'] \n",
            "                                                                                                  \n",
            " conv2d_86 (Conv2D)             (None, 6, 6, 384)    786432      ['mixed9[0][0]']                 \n",
            "                                                                                                  \n",
            " conv2d_90 (Conv2D)             (None, 6, 6, 384)    1548288     ['activation_89[0][0]']          \n",
            "                                                                                                  \n",
            " batch_normalization_86 (BatchN  (None, 6, 6, 384)   1152        ['conv2d_86[0][0]']              \n",
            " ormalization)                                                                                    \n",
            "                                                                                                  \n",
            " batch_normalization_90 (BatchN  (None, 6, 6, 384)   1152        ['conv2d_90[0][0]']              \n",
            " ormalization)                                                                                    \n",
            "                                                                                                  \n",
            " activation_86 (Activation)     (None, 6, 6, 384)    0           ['batch_normalization_86[0][0]'] \n",
            "                                                                                                  \n",
            " activation_90 (Activation)     (None, 6, 6, 384)    0           ['batch_normalization_90[0][0]'] \n",
            "                                                                                                  \n",
            " conv2d_87 (Conv2D)             (None, 6, 6, 384)    442368      ['activation_86[0][0]']          \n",
            "                                                                                                  \n",
            " conv2d_88 (Conv2D)             (None, 6, 6, 384)    442368      ['activation_86[0][0]']          \n",
            "                                                                                                  \n",
            " conv2d_91 (Conv2D)             (None, 6, 6, 384)    442368      ['activation_90[0][0]']          \n",
            "                                                                                                  \n",
            " conv2d_92 (Conv2D)             (None, 6, 6, 384)    442368      ['activation_90[0][0]']          \n",
            "                                                                                                  \n",
            " average_pooling2d_8 (AveragePo  (None, 6, 6, 2048)  0           ['mixed9[0][0]']                 \n",
            " oling2D)                                                                                         \n",
            "                                                                                                  \n",
            " conv2d_85 (Conv2D)             (None, 6, 6, 320)    655360      ['mixed9[0][0]']                 \n",
            "                                                                                                  \n",
            " batch_normalization_87 (BatchN  (None, 6, 6, 384)   1152        ['conv2d_87[0][0]']              \n",
            " ormalization)                                                                                    \n",
            "                                                                                                  \n",
            " batch_normalization_88 (BatchN  (None, 6, 6, 384)   1152        ['conv2d_88[0][0]']              \n",
            " ormalization)                                                                                    \n",
            "                                                                                                  \n",
            " batch_normalization_91 (BatchN  (None, 6, 6, 384)   1152        ['conv2d_91[0][0]']              \n",
            " ormalization)                                                                                    \n",
            "                                                                                                  \n",
            " batch_normalization_92 (BatchN  (None, 6, 6, 384)   1152        ['conv2d_92[0][0]']              \n",
            " ormalization)                                                                                    \n",
            "                                                                                                  \n",
            " conv2d_93 (Conv2D)             (None, 6, 6, 192)    393216      ['average_pooling2d_8[0][0]']    \n",
            "                                                                                                  \n",
            " batch_normalization_85 (BatchN  (None, 6, 6, 320)   960         ['conv2d_85[0][0]']              \n",
            " ormalization)                                                                                    \n",
            "                                                                                                  \n",
            " activation_87 (Activation)     (None, 6, 6, 384)    0           ['batch_normalization_87[0][0]'] \n",
            "                                                                                                  \n",
            " activation_88 (Activation)     (None, 6, 6, 384)    0           ['batch_normalization_88[0][0]'] \n",
            "                                                                                                  \n",
            " activation_91 (Activation)     (None, 6, 6, 384)    0           ['batch_normalization_91[0][0]'] \n",
            "                                                                                                  \n",
            " activation_92 (Activation)     (None, 6, 6, 384)    0           ['batch_normalization_92[0][0]'] \n",
            "                                                                                                  \n",
            " batch_normalization_93 (BatchN  (None, 6, 6, 192)   576         ['conv2d_93[0][0]']              \n",
            " ormalization)                                                                                    \n",
            "                                                                                                  \n",
            " activation_85 (Activation)     (None, 6, 6, 320)    0           ['batch_normalization_85[0][0]'] \n",
            "                                                                                                  \n",
            " mixed9_1 (Concatenate)         (None, 6, 6, 768)    0           ['activation_87[0][0]',          \n",
            "                                                                  'activation_88[0][0]']          \n",
            "                                                                                                  \n",
            " concatenate_1 (Concatenate)    (None, 6, 6, 768)    0           ['activation_91[0][0]',          \n",
            "                                                                  'activation_92[0][0]']          \n",
            "                                                                                                  \n",
            " activation_93 (Activation)     (None, 6, 6, 192)    0           ['batch_normalization_93[0][0]'] \n",
            "                                                                                                  \n",
            " mixed10 (Concatenate)          (None, 6, 6, 2048)   0           ['activation_85[0][0]',          \n",
            "                                                                  'mixed9_1[0][0]',               \n",
            "                                                                  'concatenate_1[0][0]',          \n",
            "                                                                  'activation_93[0][0]']          \n",
            "                                                                                                  \n",
            "==================================================================================================\n",
            "Total params: 21,802,784\n",
            "Trainable params: 0\n",
            "Non-trainable params: 21,802,784\n",
            "__________________________________________________________________________________________________\n"
          ]
        }
      ],
      "source": [
        "pre_trained_model = create_pre_trained_model(local_weights_file)\n",
        "\n",
        "# Print the model summary\n",
        "pre_trained_model.summary()"
      ]
    },
    {
      "cell_type": "code",
      "execution_count": null,
      "metadata": {
        "id": "D-JSjeW8yV83"
      },
      "outputs": [],
      "source": [
        "# grader-required-cell\n",
        "\n",
        "# GRADED FUNCTION: output_of_last_layer\n",
        "def output_of_last_layer(pre_trained_model):\n",
        "  \"\"\"\n",
        "  Gets the last layer output of a model\n",
        "  \n",
        "  Args:\n",
        "    pre_trained_model (tf.keras Model): model to get the last layer output from\n",
        "    \n",
        "  Returns:\n",
        "    last_output: output of the model's last layer \n",
        "  \"\"\"\n",
        "  ### START CODE HERE\n",
        "  last_desired_layer = pre_trained_model.get_layer('mixed7')\n",
        "  print('last layer output shape: ', last_desired_layer.output_shape)\n",
        "  last_output = last_desired_layer.output\n",
        "  print('last layer output: ', last_output)\n",
        "  ### END CODE HERE\n",
        "\n",
        "  return last_output"
      ]
    },
    {
      "cell_type": "code",
      "execution_count": null,
      "metadata": {
        "colab": {
          "base_uri": "https://localhost:8080/"
        },
        "id": "ZhRxBvBz134F",
        "outputId": "a27d344f-df07-4782-ab3f-57270f40f33c"
      },
      "outputs": [
        {
          "name": "stdout",
          "output_type": "stream",
          "text": [
            "last layer output shape:  (None, 14, 14, 768)\n",
            "last layer output:  KerasTensor(type_spec=TensorSpec(shape=(None, 14, 14, 768), dtype=tf.float32, name=None), name='mixed7/concat:0', description=\"created by layer 'mixed7'\")\n"
          ]
        }
      ],
      "source": [
        "last_output = output_of_last_layer(pre_trained_model)"
      ]
    },
    {
      "cell_type": "code",
      "execution_count": null,
      "metadata": {
        "id": "eC4Jw_xxGbQm"
      },
      "outputs": [],
      "source": [
        "def create_model(pre_trained_model, last_output):\n",
        "  x = layers.BatchNormalization(renorm=True)(last_output)\n",
        "  x = layers.GlobalAveragePooling2D()(x)\n",
        "  x = layers.Dense(1024, activation='relu')(x)\n",
        "  x = layers.Dropout(0.2)(x)\n",
        "  x = layers.Dense(1024, activation='relu')(x)\n",
        "  x = layers.Dropout(0.2)(x)\n",
        "  x = layers.Dense(29, activation='softmax')(x)\n",
        "  \n",
        "  # Create the complete model by using the Model class\n",
        "  model = Model(pre_trained_model.input, x)\n",
        "  \n",
        "  model.compile(optimizer=tf.keras.optimizers.Adam(1e-5),\n",
        "                loss=tf.keras.losses.CategoricalCrossentropy(from_logits=False),\n",
        "                metrics=['accuracy']) \n",
        "    \n",
        "  ### END CODE HERE  \n",
        "  return model"
      ]
    },
    {
      "cell_type": "code",
      "execution_count": null,
      "metadata": {
        "id": "UGGetJF9KXCw"
      },
      "outputs": [],
      "source": [
        "model = create_model(pre_trained_model, last_output)"
      ]
    },
    {
      "cell_type": "code",
      "execution_count": null,
      "metadata": {
        "colab": {
          "base_uri": "https://localhost:8080/"
        },
        "id": "hi9JKiBuKc6u",
        "outputId": "72084c3c-ef03-47e4-9aa3-40995a72bed9"
      },
      "outputs": [
        {
          "name": "stdout",
          "output_type": "stream",
          "text": [
            "There are 10,847,421 total parameters in this model.\n",
            "There are 1,868,317 trainable parameters in this model.\n"
          ]
        }
      ],
      "source": [
        "total_params = model.count_params()\n",
        "num_trainable_params = sum([w.shape.num_elements() for w in model.trainable_weights])\n",
        "\n",
        "print(f\"There are {total_params:,} total parameters in this model.\")\n",
        "print(f\"There are {num_trainable_params:,} trainable parameters in this model.\")"
      ]
    },
    {
      "cell_type": "code",
      "execution_count": null,
      "metadata": {
        "colab": {
          "base_uri": "https://localhost:8080/"
        },
        "id": "1Ly2A15WGbQm",
        "outputId": "7f74880c-80d0-4cb2-913b-59ea8090c590"
      },
      "outputs": [
        {
          "name": "stdout",
          "output_type": "stream",
          "text": [
            "\n",
            "Learning rate for epoch 1 is set to 1.0000000116860974e-07\n",
            "Epoch 1/20\n",
            "192/192 [==============================] - 319s 2s/step - loss: 0.4473 - accuracy: 0.8444 - val_loss: 0.3512 - val_accuracy: 0.8926\n",
            "\n",
            "Learning rate for epoch 2 is set to 1.0000000116860974e-07\n",
            "Epoch 2/20\n",
            "192/192 [==============================] - 316s 2s/step - loss: 0.4556 - accuracy: 0.8489 - val_loss: 0.3515 - val_accuracy: 0.8941\n",
            "\n",
            "Learning rate for epoch 3 is set to 1.0000000116860974e-07\n",
            "Epoch 3/20\n",
            "192/192 [==============================] - 318s 2s/step - loss: 0.4425 - accuracy: 0.8484 - val_loss: 0.3512 - val_accuracy: 0.8911\n",
            "\n",
            "Learning rate for epoch 4 is set to 1.0000000116860974e-07\n",
            "Epoch 4/20\n",
            "192/192 [==============================] - 316s 2s/step - loss: 0.4460 - accuracy: 0.8469 - val_loss: 0.3512 - val_accuracy: 0.8926\n",
            "\n",
            "Learning rate for epoch 5 is set to 1.0000000116860974e-07\n",
            "Epoch 5/20\n",
            "192/192 [==============================] - 316s 2s/step - loss: 0.4557 - accuracy: 0.8444 - val_loss: 0.3526 - val_accuracy: 0.8904\n",
            "\n",
            "Learning rate for epoch 6 is set to 9.048373783571151e-08\n",
            "Epoch 6/20\n",
            "192/192 [==============================] - 310s 2s/step - loss: 0.4518 - accuracy: 0.8436 - val_loss: 0.3510 - val_accuracy: 0.8926\n",
            "\n",
            "Learning rate for epoch 7 is set to 8.187306832496688e-08\n",
            "Epoch 7/20\n",
            "192/192 [==============================] - 317s 2s/step - loss: 0.4402 - accuracy: 0.8486 - val_loss: 0.3558 - val_accuracy: 0.8911\n",
            "\n",
            "Learning rate for epoch 8 is set to 7.408181090795551e-08\n",
            "Epoch 8/20\n",
            "192/192 [==============================] - 310s 2s/step - loss: 0.4421 - accuracy: 0.8470 - val_loss: 0.3537 - val_accuracy: 0.8896\n",
            "\n",
            "Learning rate for epoch 9 is set to 6.70319906248551e-08\n",
            "Epoch 9/20\n",
            "192/192 [==============================] - 318s 2s/step - loss: 0.4479 - accuracy: 0.8465 - val_loss: 0.3522 - val_accuracy: 0.8911\n",
            "\n",
            "Learning rate for epoch 10 is set to 6.065305058200465e-08\n",
            "Epoch 10/20\n",
            "192/192 [==============================] - 316s 2s/step - loss: 0.4433 - accuracy: 0.8488 - val_loss: 0.3504 - val_accuracy: 0.8933\n",
            "\n",
            "Learning rate for epoch 11 is set to 5.4881148514596134e-08\n",
            "Epoch 11/20\n",
            "192/192 [==============================] - 317s 2s/step - loss: 0.4414 - accuracy: 0.8466 - val_loss: 0.3530 - val_accuracy: 0.8933\n",
            "\n",
            "Learning rate for epoch 12 is set to 4.965851374549857e-08\n",
            "Epoch 12/20\n",
            "192/192 [==============================] - 308s 2s/step - loss: 0.4423 - accuracy: 0.8486 - val_loss: 0.3542 - val_accuracy: 0.8911\n",
            "\n",
            "Learning rate for epoch 13 is set to 4.493287875106944e-08\n",
            "Epoch 13/20\n",
            "192/192 [==============================] - 306s 2s/step - loss: 0.4470 - accuracy: 0.8474 - val_loss: 0.3546 - val_accuracy: 0.8911\n",
            "\n",
            "Learning rate for epoch 14 is set to 4.065694625410288e-08\n",
            "Epoch 14/20\n",
            "192/192 [==============================] - 313s 2s/step - loss: 0.4490 - accuracy: 0.8438 - val_loss: 0.3515 - val_accuracy: 0.8919\n",
            "\n",
            "Learning rate for epoch 15 is set to 3.678792381833773e-08\n",
            "Epoch 15/20\n",
            "192/192 [==============================] - 304s 2s/step - loss: 0.4388 - accuracy: 0.8495 - val_loss: 0.3531 - val_accuracy: 0.8911\n"
          ]
        }
      ],
      "source": [
        "STEP_SIZE_TRAIN = train_generator.n//train_generator.batch_size\n",
        "STEP_SIZE_VALID = validation_generator.n//validation_generator.batch_size\n",
        "history = model.fit(train_generator,\n",
        "                    epochs=20,\n",
        "                    steps_per_epoch=STEP_SIZE_TRAIN,\n",
        "                    validation_data=validation_generator,\n",
        "                    validation_steps=STEP_SIZE_VALID,\n",
        "                    callbacks= [early_stopping, lr_scheduler],\n",
        "                    class_weight=weight)"
      ]
    },
    {
      "cell_type": "code",
      "execution_count": null,
      "metadata": {
        "colab": {
          "base_uri": "https://localhost:8080/",
          "height": 939
        },
        "id": "-2TOb3TqGbQn",
        "outputId": "e11bf975-206b-450b-a59c-00ba4eefa260"
      },
      "outputs": [
        {
          "data": {
            "image/png": "[encoded data removed]",
            "text/plain": [
              "<Figure size 640x480 with 1 Axes>"
            ]
          },
          "metadata": {},
          "output_type": "display_data"
        },
        {
          "data": {
            "text/plain": [
              "<Figure size 640x480 with 0 Axes>"
            ]
          },
          "metadata": {},
          "output_type": "display_data"
        },
        {
          "name": "stdout",
          "output_type": "stream",
          "text": [
            "\n"
          ]
        },
        {
          "data": {
            "image/png": "[encoded data removed]",
            "text/plain": [
              "<Figure size 640x480 with 1 Axes>"
            ]
          },
          "metadata": {},
          "output_type": "display_data"
        },
        {
          "data": {
            "text/plain": [
              "<Figure size 640x480 with 0 Axes>"
            ]
          },
          "metadata": {},
          "output_type": "display_data"
        }
      ],
      "source": [
        "#-----------------------------------------------------------\n",
        "# Retrieve a list of list results on training and test data\n",
        "# sets for each training epoch\n",
        "#-----------------------------------------------------------\n",
        "acc=history.history['accuracy']\n",
        "val_acc=history.history['val_accuracy']\n",
        "loss=history.history['loss']\n",
        "val_loss=history.history['val_loss']\n",
        "\n",
        "epochs=range(len(acc)) # Get number of epochs\n",
        "\n",
        "#------------------------------------------------\n",
        "# Plot training and validation accuracy per epoch\n",
        "#------------------------------------------------\n",
        "plt.plot(epochs, acc, 'r', label='Training accuracy')\n",
        "plt.plot(epochs, val_acc, 'b', label='Validation accuracy')\n",
        "plt.title('Training and validation accuracy')\n",
        "plt.legend(loc=0)\n",
        "plt.figure()\n",
        "plt.show()\n",
        "print(\"\")\n",
        "\n",
        "#------------------------------------------------\n",
        "# Plot training and validation loss per epoch\n",
        "#------------------------------------------------\n",
        "plt.plot(epochs, loss, 'r', label=\"Training Loss\")\n",
        "plt.plot(epochs, val_loss, 'b', label=\"Validation Loss\")\n",
        "plt.title('Training and Validation Loss')\n",
        "plt.legend(loc=0)\n",
        "plt.figure()\n",
        "plt.show()"
      ]
    },
    {
      "cell_type": "code",
      "execution_count": null,
      "metadata": {
        "colab": {
          "base_uri": "https://localhost:8080/"
        },
        "id": "d2o9i8B9ypin",
        "outputId": "9a955d4b-cead-4275-cb6f-2064ea6711ba"
      },
      "outputs": [
        {
          "name": "stdout",
          "output_type": "stream",
          "text": [
            " 7/56 [==>...........................] - ETA: 11s - loss: 0.3135 - accuracy: 0.9200"
          ]
        },
        {
          "name": "stderr",
          "output_type": "stream",
          "text": [
            "/usr/local/lib/python3.10/dist-packages/PIL/Image.py:975: UserWarning: Palette images with Transparency expressed in bytes should be converted to RGBA images\n",
            "  warnings.warn(\n"
          ]
        },
        {
          "name": "stdout",
          "output_type": "stream",
          "text": [
            "56/56 [==============================] - 21s 210ms/step - loss: 0.3492 - accuracy: 0.8970\n",
            "Validation loss: 0.3492\n",
            "Validation accuracy: 0.8970\n"
          ]
        }
      ],
      "source": [
        "validation_loss, validation_accuracy = model.evaluate(validation_generator)\n",
        "print(f\"Validation loss: {validation_loss:.4f}\")\n",
        "print(f\"Validation accuracy: {validation_accuracy:.4f}\")"
      ]
    },
    {
      "cell_type": "code",
      "execution_count": null,
      "metadata": {
        "id": "vnFdXmX2OwSR"
      },
      "outputs": [],
      "source": [
        "model.save('/content/Capstone_ModelV2_5.h5')"
      ]
    },
    {
      "cell_type": "code",
      "execution_count": null,
      "metadata": {
        "colab": {
          "base_uri": "https://localhost:8080/"
        },
        "id": "naWuty3wDm_x",
        "outputId": "d43d4664-b2a3-43ed-9632-a2d411dfc940"
      },
      "outputs": [
        {
          "name": "stderr",
          "output_type": "stream",
          "text": [
            "WARNING:absl:Found untraced functions such as _jit_compiled_convolution_op, _jit_compiled_convolution_op, _jit_compiled_convolution_op, _jit_compiled_convolution_op, _jit_compiled_convolution_op while saving (showing 5 of 70). These functions will not be directly callable after loading.\n"
          ]
        }
      ],
      "source": [
        "model.save('My_Model')"
      ]
    },
    {
      "cell_type": "code",
      "execution_count": null,
      "metadata": {
        "colab": {
          "base_uri": "https://localhost:8080/"
        },
        "id": "U7YTh3amD7e9",
        "outputId": "e3d4bcde-f1f9-4368-9e21-6fa95bb97953"
      },
      "outputs": [
        {
          "name": "stdout",
          "output_type": "stream",
          "text": [
            "  adding: content/My_Model/ (stored 0%)\n",
            "  adding: content/My_Model/keras_metadata.pb (deflated 96%)\n",
            "  adding: content/My_Model/assets/ (stored 0%)\n",
            "  adding: content/My_Model/fingerprint.pb (stored 0%)\n",
            "  adding: content/My_Model/variables/ (stored 0%)\n",
            "  adding: content/My_Model/variables/variables.index (deflated 78%)\n",
            "  adding: content/My_Model/variables/variables.data-00000-of-00001 (deflated 9%)\n",
            "  adding: content/My_Model/saved_model.pb (deflated 92%)\n"
          ]
        }
      ],
      "source": [
        "!zip -r /content/drive/MyDrive/model_capstonev2.zip /content/My_Model"
      ]
    },
    {
      "cell_type": "code",
      "execution_count": null,
      "metadata": {
        "colab": {
          "base_uri": "https://localhost:8080/",
          "height": 34
        },
        "id": "ka8p1_JgEDdG",
        "outputId": "f156cfdb-1be1-49b2-99fb-4ae7aafd6788"
      },
      "outputs": [
        {
          "data": {
            "application/javascript": "\n    async function download(id, filename, size) {\n      if (!google.colab.kernel.accessAllowed) {\n        return;\n      }\n      const div = document.createElement('div');\n      const label = document.createElement('label');\n      label.textContent = `Downloading \"${filename}\": `;\n      div.appendChild(label);\n      const progress = document.createElement('progress');\n      progress.max = size;\n      div.appendChild(progress);\n      document.body.appendChild(div);\n\n      const buffers = [];\n      let downloaded = 0;\n\n      const channel = await google.colab.kernel.comms.open(id);\n      // Send a message to notify the kernel that we're ready.\n      channel.send({})\n\n      for await (const message of channel.messages) {\n        // Send a message to notify the kernel that we're ready.\n        channel.send({})\n        if (message.buffers) {\n          for (const buffer of message.buffers) {\n            buffers.push(buffer);\n            downloaded += buffer.byteLength;\n            progress.value = downloaded;\n          }\n        }\n      }\n      const blob = new Blob(buffers, {type: 'application/binary'});\n      const a = document.createElement('a');\n      a.href = window.URL.createObjectURL(blob);\n      a.download = filename;\n      div.appendChild(a);\n      a.click();\n      div.remove();\n    }\n  ",
            "text/plain": [
              "<IPython.core.display.Javascript object>"
            ]
          },
          "metadata": {},
          "output_type": "display_data"
        },
        {
          "data": {
            "application/javascript": "download(\"download_df2155ea-201b-4c5e-bf22-dd4e8fb4ec31\", \"file.zip\", 1792199911)",
            "text/plain": [
              "<IPython.core.display.Javascript object>"
            ]
          },
          "metadata": {},
          "output_type": "display_data"
        }
      ],
      "source": [
        "from google.colab import files\n",
        "files.download(\"/content/file.zip\")"
      ]
    },
    {
      "attachments": {},
      "cell_type": "markdown",
      "metadata": {
        "id": "Hqzu99lGNOxl"
      },
      "source": [
        "# Testing"
      ]
    },
    {
      "cell_type": "code",
      "execution_count": null,
      "metadata": {
        "colab": {
          "base_uri": "https://localhost:8080/"
        },
        "id": "fzt6YcHhGbQn",
        "outputId": "e7f9ccc8-cf57-402b-f71f-31f98b2471c2"
      },
      "outputs": [
        {
          "name": "stdout",
          "output_type": "stream",
          "text": [
            "Label Mappings for classes present in the training and validation datasets\n",
            "\n",
            "0 : baterai\n",
            "1 : botol air\n",
            "2 : cap\n",
            "3 : carrier bag\n",
            "4 : cooking set hike\n",
            "5 : first aid kit\n",
            "6 : flashlight\n",
            "7 : gelas plastik\n",
            "8 : hat\n",
            "9 : headlamp climbing\n",
            "10 : jaket\n",
            "11 : knife\n",
            "12 : lampu tenda\n",
            "13 : matras camping\n",
            "14 : outdoor sandals\n",
            "15 : portable gas\n",
            "16 : portable stove\n",
            "17 : powerbank\n",
            "18 : raincoat\n",
            "19 : sarung tangan\n",
            "20 : shoes\n",
            "21 : sleeping bag\n",
            "22 : socks\n",
            "23 : t-shirt\n",
            "24 : tent bag\n",
            "25 : towel\n",
            "26 : trash bag\n",
            "27 : trekking pole\n",
            "28 : trousers\n"
          ]
        }
      ],
      "source": [
        "labels = {value: key for key, value in train_generator.class_indices.items()}\n",
        "\n",
        "print(\"Label Mappings for classes present in the training and validation datasets\\n\")\n",
        "for key, value in labels.items():\n",
        "    print(f\"{key} : {value}\")"
      ]
    },
    {
      "cell_type": "code",
      "execution_count": null,
      "metadata": {
        "colab": {
          "base_uri": "https://localhost:8080/",
          "height": 560
        },
        "id": "MDxAVHP9GbQn",
        "outputId": "65af8986-cfd2-45d0-eba7-76b077dd846f"
      },
      "outputs": [
        {
          "data": {
            "text/html": [
              "\n",
              "     <input type=\"file\" id=\"files-048e5c26-4c51-4d0f-a09c-054517f78f38\" name=\"files[]\" multiple disabled\n",
              "        style=\"border:none\" />\n",
              "     <output id=\"result-048e5c26-4c51-4d0f-a09c-054517f78f38\">\n",
              "      Upload widget is only available when the cell has been executed in the\n",
              "      current browser session. Please rerun this cell to enable.\n",
              "      </output>\n",
              "      <script>// Copyright 2017 Google LLC\n",
              "//\n",
              "// Licensed under the Apache License, Version 2.0 (the \"License\");\n",
              "// you may not use this file except in compliance with the License.\n",
              "// You may obtain a copy of the License at\n",
              "//\n",
              "//      http://www.apache.org/licenses/LICENSE-2.0\n",
              "//\n",
              "// Unless required by applicable law or agreed to in writing, software\n",
              "// distributed under the License is distributed on an \"AS IS\" BASIS,\n",
              "// WITHOUT WARRANTIES OR CONDITIONS OF ANY KIND, either express or implied.\n",
              "// See the License for the specific language governing permissions and\n",
              "// limitations under the License.\n",
              "\n",
              "/**\n",
              " * @fileoverview Helpers for google.colab Python module.\n",
              " */\n",
              "(function(scope) {\n",
              "function span(text, styleAttributes = {}) {\n",
              "  const element = document.createElement('span');\n",
              "  element.textContent = text;\n",
              "  for (const key of Object.keys(styleAttributes)) {\n",
              "    element.style[key] = styleAttributes[key];\n",
              "  }\n",
              "  return element;\n",
              "}\n",
              "\n",
              "// Max number of bytes which will be uploaded at a time.\n",
              "const MAX_PAYLOAD_SIZE = 100 * 1024;\n",
              "\n",
              "function _uploadFiles(inputId, outputId) {\n",
              "  const steps = uploadFilesStep(inputId, outputId);\n",
              "  const outputElement = document.getElementById(outputId);\n",
              "  // Cache steps on the outputElement to make it available for the next call\n",
              "  // to uploadFilesContinue from Python.\n",
              "  outputElement.steps = steps;\n",
              "\n",
              "  return _uploadFilesContinue(outputId);\n",
              "}\n",
              "\n",
              "// This is roughly an async generator (not supported in the browser yet),\n",
              "// where there are multiple asynchronous steps and the Python side is going\n",
              "// to poll for completion of each step.\n",
              "// This uses a Promise to block the python side on completion of each step,\n",
              "// then passes the result of the previous step as the input to the next step.\n",
              "function _uploadFilesContinue(outputId) {\n",
              "  const outputElement = document.getElementById(outputId);\n",
              "  const steps = outputElement.steps;\n",
              "\n",
              "  const next = steps.next(outputElement.lastPromiseValue);\n",
              "  return Promise.resolve(next.value.promise).then((value) => {\n",
              "    // Cache the last promise value to make it available to the next\n",
              "    // step of the generator.\n",
              "    outputElement.lastPromiseValue = value;\n",
              "    return next.value.response;\n",
              "  });\n",
              "}\n",
              "\n",
              "/**\n",
              " * Generator function which is called between each async step of the upload\n",
              " * process.\n",
              " * @param {string} inputId Element ID of the input file picker element.\n",
              " * @param {string} outputId Element ID of the output display.\n",
              " * @return {!Iterable<!Object>} Iterable of next steps.\n",
              " */\n",
              "function* uploadFilesStep(inputId, outputId) {\n",
              "  const inputElement = document.getElementById(inputId);\n",
              "  inputElement.disabled = false;\n",
              "\n",
              "  const outputElement = document.getElementById(outputId);\n",
              "  outputElement.innerHTML = '';\n",
              "\n",
              "  const pickedPromise = new Promise((resolve) => {\n",
              "    inputElement.addEventListener('change', (e) => {\n",
              "      resolve(e.target.files);\n",
              "    });\n",
              "  });\n",
              "\n",
              "  const cancel = document.createElement('button');\n",
              "  inputElement.parentElement.appendChild(cancel);\n",
              "  cancel.textContent = 'Cancel upload';\n",
              "  const cancelPromise = new Promise((resolve) => {\n",
              "    cancel.onclick = () => {\n",
              "      resolve(null);\n",
              "    };\n",
              "  });\n",
              "\n",
              "  // Wait for the user to pick the files.\n",
              "  const files = yield {\n",
              "    promise: Promise.race([pickedPromise, cancelPromise]),\n",
              "    response: {\n",
              "      action: 'starting',\n",
              "    }\n",
              "  };\n",
              "\n",
              "  cancel.remove();\n",
              "\n",
              "  // Disable the input element since further picks are not allowed.\n",
              "  inputElement.disabled = true;\n",
              "\n",
              "  if (!files) {\n",
              "    return {\n",
              "      response: {\n",
              "        action: 'complete',\n",
              "      }\n",
              "    };\n",
              "  }\n",
              "\n",
              "  for (const file of files) {\n",
              "    const li = document.createElement('li');\n",
              "    li.append(span(file.name, {fontWeight: 'bold'}));\n",
              "    li.append(span(\n",
              "        `(${file.type || 'n/a'}) - ${file.size} bytes, ` +\n",
              "        `last modified: ${\n",
              "            file.lastModifiedDate ? file.lastModifiedDate.toLocaleDateString() :\n",
              "                                    'n/a'} - `));\n",
              "    const percent = span('0% done');\n",
              "    li.appendChild(percent);\n",
              "\n",
              "    outputElement.appendChild(li);\n",
              "\n",
              "    const fileDataPromise = new Promise((resolve) => {\n",
              "      const reader = new FileReader();\n",
              "      reader.onload = (e) => {\n",
              "        resolve(e.target.result);\n",
              "      };\n",
              "      reader.readAsArrayBuffer(file);\n",
              "    });\n",
              "    // Wait for the data to be ready.\n",
              "    let fileData = yield {\n",
              "      promise: fileDataPromise,\n",
              "      response: {\n",
              "        action: 'continue',\n",
              "      }\n",
              "    };\n",
              "\n",
              "    // Use a chunked sending to avoid message size limits. See b/62115660.\n",
              "    let position = 0;\n",
              "    do {\n",
              "      const length = Math.min(fileData.byteLength - position, MAX_PAYLOAD_SIZE);\n",
              "      const chunk = new Uint8Array(fileData, position, length);\n",
              "      position += length;\n",
              "\n",
              "      const base64 = btoa(String.fromCharCode.apply(null, chunk));\n",
              "      yield {\n",
              "        response: {\n",
              "          action: 'append',\n",
              "          file: file.name,\n",
              "          data: base64,\n",
              "        },\n",
              "      };\n",
              "\n",
              "      let percentDone = fileData.byteLength === 0 ?\n",
              "          100 :\n",
              "          Math.round((position / fileData.byteLength) * 100);\n",
              "      percent.textContent = `${percentDone}% done`;\n",
              "\n",
              "    } while (position < fileData.byteLength);\n",
              "  }\n",
              "\n",
              "  // All done.\n",
              "  yield {\n",
              "    response: {\n",
              "      action: 'complete',\n",
              "    }\n",
              "  };\n",
              "}\n",
              "\n",
              "scope.google = scope.google || {};\n",
              "scope.google.colab = scope.google.colab || {};\n",
              "scope.google.colab._files = {\n",
              "  _uploadFiles,\n",
              "  _uploadFilesContinue,\n",
              "};\n",
              "})(self);\n",
              "</script> "
            ],
            "text/plain": [
              "<IPython.core.display.HTML object>"
            ]
          },
          "metadata": {},
          "output_type": "display_data"
        },
        {
          "name": "stdout",
          "output_type": "stream",
          "text": [
            "Saving first aid kit.jpg to first aid kit (1).jpg\n",
            "Saving gelas.png to gelas (1).png\n",
            "Saving gunting.jpg to gunting.jpg\n",
            "Saving headlamp.jpg to headlamp (1).jpg\n",
            "Saving knife.jpg to knife (1).jpg\n",
            "Saving lampu tenda.jpg to lampu tenda (1).jpg\n",
            "Saving outdoorssandals25.jpeg to outdoorssandals25 (1).jpeg\n",
            "Saving outdoorssandals26.jpeg to outdoorssandals26 (1).jpeg\n",
            "Saving outdoorssandals27.jpeg to outdoorssandals27 (1).jpeg\n",
            "Saving sandal.jpg to sandal (1).jpg\n",
            "Saving shoes.jpg to shoes (1).jpg\n",
            "Saving shoes1.jpg to shoes1 (1).jpg\n",
            "Saving shoes2.jpg to shoes2 (1).jpg\n",
            "Saving shoes3.jpg to shoes3 (1).jpg\n",
            "Saving trash bag.jpg to trash bag (1).jpg\n"
          ]
        }
      ],
      "source": [
        "from tensorflow.keras.preprocessing.image import load_img, img_to_array\n",
        "import numpy as np\n",
        "from google.colab import files\n",
        "TESTDI = uploaded=files.upload()\n",
        "IMG_SIZE = 256\n"
      ]
    },
    {
      "cell_type": "code",
      "execution_count": null,
      "metadata": {
        "colab": {
          "base_uri": "https://localhost:8080/"
        },
        "id": "GYXbJ32GGbQo",
        "outputId": "36808fd3-1d73-4915-d65d-28a2ae0f413f"
      },
      "outputs": [
        {
          "name": "stdout",
          "output_type": "stream",
          "text": [
            "1/1 [==============================] - 0s 36ms/step\n",
            "file /content/first aid kit.jpg adalah first aid kit \n",
            "1/1 [==============================] - 0s 40ms/step\n",
            "file /content/gelas.png adalah gelas plastik \n",
            "1/1 [==============================] - 0s 35ms/step\n",
            "file /content/gunting.jpg adalah knife \n",
            "1/1 [==============================] - 0s 34ms/step\n",
            "file /content/headlamp.jpg adalah headlamp climbing \n",
            "1/1 [==============================] - 0s 35ms/step\n",
            "file /content/knife.jpg adalah knife \n",
            "1/1 [==============================] - 0s 22ms/step\n",
            "file /content/lampu tenda.jpg adalah lampu tenda \n",
            "1/1 [==============================] - 0s 22ms/step\n",
            "file /content/outdoorssandals25.jpeg adalah outdoor sandals \n",
            "1/1 [==============================] - 0s 24ms/step\n",
            "file /content/outdoorssandals26.jpeg adalah outdoor sandals \n",
            "1/1 [==============================] - 0s 23ms/step\n",
            "file /content/outdoorssandals27.jpeg adalah shoes \n",
            "1/1 [==============================] - 0s 24ms/step\n",
            "file /content/sandal.jpg adalah shoes \n",
            "1/1 [==============================] - 0s 25ms/step\n",
            "file /content/shoes.jpg adalah shoes \n",
            "1/1 [==============================] - 0s 27ms/step\n",
            "file /content/shoes1.jpg adalah shoes \n",
            "1/1 [==============================] - 0s 22ms/step\n",
            "file /content/shoes2.jpg adalah shoes \n",
            "1/1 [==============================] - 0s 23ms/step\n",
            "file /content/shoes3.jpg adalah shoes \n",
            "1/1 [==============================] - 0s 29ms/step\n",
            "file /content/trash bag.jpg adalah trash bag \n"
          ]
        }
      ],
      "source": [
        "for her in TESTDI:\n",
        "    pathi='/content/'+ her\n",
        "    img=load_img(pathi, target_size=(256, 256))\n",
        "    x=img_to_array(img)\n",
        "    x /= 255\n",
        "    x=np.expand_dims(x, axis=0)\n",
        "    images = np.vstack([x])\n",
        "    classes = model.predict(images, batch_size=10)\n",
        "    predicted_label = labels[np.argmax(classes[0])]\n",
        "    print(f\"file {pathi} adalah {predicted_label} \")\n",
        "    \n",
        "  \n"
      ]
    },
    {
      "cell_type": "code",
      "execution_count": null,
      "metadata": {
        "colab": {
          "base_uri": "https://localhost:8080/",
          "height": 1000
        },
        "id": "IZokUkoHJ4hQ",
        "outputId": "04d99d3d-2dcc-41bc-eefe-68db250bee3b"
      },
      "outputs": [
        {
          "ename": "IndexError",
          "evalue": "ignored",
          "output_type": "error",
          "traceback": [
            "\u001b[0;31m---------------------------------------------------------------------------\u001b[0m",
            "\u001b[0;31mIndexError\u001b[0m                                Traceback (most recent call last)",
            "\u001b[0;32m<ipython-input-63-adca8e5bc35a>\u001b[0m in \u001b[0;36m<cell line: 4>\u001b[0;34m()\u001b[0m\n\u001b[1;32m      5\u001b[0m     \u001b[0;32mfor\u001b[0m \u001b[0mj\u001b[0m \u001b[0;32min\u001b[0m \u001b[0mrange\u001b[0m\u001b[0;34m(\u001b[0m\u001b[0;36m5\u001b[0m\u001b[0;34m)\u001b[0m\u001b[0;34m:\u001b[0m\u001b[0;34m\u001b[0m\u001b[0;34m\u001b[0m\u001b[0m\n\u001b[1;32m      6\u001b[0m         \u001b[0max\u001b[0m\u001b[0;34m[\u001b[0m\u001b[0mi\u001b[0m\u001b[0;34m,\u001b[0m \u001b[0mj\u001b[0m\u001b[0;34m]\u001b[0m\u001b[0;34m.\u001b[0m\u001b[0mset_title\u001b[0m\u001b[0;34m(\u001b[0m\u001b[0;34mf\"{predicted_label}\"\u001b[0m\u001b[0;34m)\u001b[0m\u001b[0;34m\u001b[0m\u001b[0;34m\u001b[0m\u001b[0m\n\u001b[0;32m----> 7\u001b[0;31m         \u001b[0max\u001b[0m\u001b[0;34m[\u001b[0m\u001b[0mi\u001b[0m\u001b[0;34m,\u001b[0m \u001b[0mj\u001b[0m\u001b[0;34m]\u001b[0m\u001b[0;34m.\u001b[0m\u001b[0mimshow\u001b[0m\u001b[0;34m(\u001b[0m\u001b[0mimages\u001b[0m\u001b[0;34m[\u001b[0m\u001b[0mj\u001b[0m\u001b[0;34m]\u001b[0m\u001b[0;34m)\u001b[0m\u001b[0;34m\u001b[0m\u001b[0;34m\u001b[0m\u001b[0m\n\u001b[0m\u001b[1;32m      8\u001b[0m         \u001b[0max\u001b[0m\u001b[0;34m[\u001b[0m\u001b[0mi\u001b[0m\u001b[0;34m,\u001b[0m \u001b[0mj\u001b[0m\u001b[0;34m]\u001b[0m\u001b[0;34m.\u001b[0m\u001b[0maxis\u001b[0m\u001b[0;34m(\u001b[0m\u001b[0;34m\"off\"\u001b[0m\u001b[0;34m)\u001b[0m\u001b[0;34m\u001b[0m\u001b[0;34m\u001b[0m\u001b[0m\n\u001b[1;32m      9\u001b[0m         \u001b[0midx\u001b[0m \u001b[0;34m+=\u001b[0m \u001b[0;36m1\u001b[0m\u001b[0;34m\u001b[0m\u001b[0;34m\u001b[0m\u001b[0m\n",
            "\u001b[0;31mIndexError\u001b[0m: index 1 is out of bounds for axis 0 with size 1"
          ]
        },
        {
          "data": {
            "image/png": "[encoded data removed]",
            "text/plain": [
              "<Figure size 1200x1000 with 10 Axes>"
            ]
          },
          "metadata": {},
          "output_type": "display_data"
        }
      ],
      "source": [
        "fig, ax = plt.subplots(nrows=2, ncols=5, figsize=(12, 10))\n",
        "idx = 0\n",
        "\n",
        "for i in range(2):  \n",
        "    for j in range(5):\n",
        "        ax[i, j].set_title(f\"{predicted_label}\")\n",
        "        ax[i, j].imshow(images[j])\n",
        "        ax[i, j].axis(\"off\")\n",
        "        idx += 1\n",
        "\n",
        "plt.tight_layout()\n",
        "plt.suptitle(\"Test Dataset Predictions\", fontsize=20)\n",
        "plt.show()"
      ]
    },
    {
      "cell_type": "code",
      "execution_count": null,
      "metadata": {
        "id": "uLOi4AyNGbQo"
      },
      "outputs": [],
      "source": [
        "filesi=os.listdir(source_path_flashlight)"
      ]
    },
    {
      "attachments": {},
      "cell_type": "markdown",
      "metadata": {
        "id": "RFFmRbbVLJBs"
      },
      "source": [
        "# Load InceptionV3 Saved Model"
      ]
    },
    {
      "cell_type": "code",
      "execution_count": null,
      "metadata": {
        "colab": {
          "base_uri": "https://localhost:8080/"
        },
        "id": "f5Gafyvadj3Z",
        "outputId": "6ba2661b-2e15-49e3-ab98-37dfa7eea82f"
      },
      "outputs": [
        {
          "name": "stdout",
          "output_type": "stream",
          "text": [
            "Downloading...\n",
            "From: https://drive.google.com/uc?id=1hp4pS3W4RbIR_H9OBNVz6nHB8Iz1GXL5\n",
            "To: /content/Capstone_Model.h5\n",
            "100% 1.96G/1.96G [00:45<00:00, 42.7MB/s]\n"
          ]
        }
      ],
      "source": [
        "# layer.trainable=True\n",
        "# location drive/u/2\n",
        "!gdown 1hp4pS3W4RbIR_H9OBNVz6nHB8Iz1GXL5"
      ]
    },
    {
      "cell_type": "code",
      "execution_count": null,
      "metadata": {
        "colab": {
          "base_uri": "https://localhost:8080/"
        },
        "id": "X8Y3Kf0NQDNf",
        "outputId": "3803fe62-7241-481b-ce71-3e612d95660c"
      },
      "outputs": [
        {
          "name": "stdout",
          "output_type": "stream",
          "text": [
            "Downloading...\n",
            "From: https://drive.google.com/uc?id=1jrBy-GF-vsVuCcT9q8U9p0W9IfKNtja5\n",
            "To: /content/Capstone_Model.h5\n",
            "100% 1.89G/1.89G [00:31<00:00, 60.7MB/s]\n"
          ]
        }
      ],
      "source": [
        "# layer.trainable=False\n",
        "!gdown 1jrBy-GF-vsVuCcT9q8U9p0W9IfKNtja5"
      ]
    },
    {
      "cell_type": "code",
      "execution_count": null,
      "metadata": {
        "colab": {
          "base_uri": "https://localhost:8080/"
        },
        "id": "leKrPtqW6MkT",
        "outputId": "e5ae9d67-7b44-48d0-9699-edada2207d3d"
      },
      "outputs": [
        {
          "name": "stdout",
          "output_type": "stream",
          "text": [
            "Downloading...\n",
            "From: https://drive.google.com/uc?id=13HsTYnHr7Fw4CuUOcrc7NfpsWi6orZlI\n",
            "To: /content/Capstone_Model.h5\n",
            "100% 40.4M/40.4M [00:00<00:00, 73.9MB/s]\n"
          ]
        }
      ],
      "source": [
        "# layer.trainable = False with new combination layer\n",
        "!gdown 13HsTYnHr7Fw4CuUOcrc7NfpsWi6orZlI"
      ]
    },
    {
      "cell_type": "code",
      "execution_count": null,
      "metadata": {
        "colab": {
          "base_uri": "https://localhost:8080/"
        },
        "id": "MkmTaF8cZPui",
        "outputId": "b92f0652-e20b-4bc0-e15b-b242ff255ce7"
      },
      "outputs": [
        {
          "name": "stdout",
          "output_type": "stream",
          "text": [
            "Downloading...\n",
            "From: https://drive.google.com/uc?id=1IBC2vIF9gxGlX1CmY68QP5tzpix7ROuw\n",
            "To: /content/Capstone_ModelV2_3.h5\n",
            "100% 59.0M/59.0M [00:01<00:00, 45.8MB/s]\n"
          ]
        }
      ],
      "source": [
        "# model2 ver 2\n",
        "# !gdown 17ZhmQ8aByco8teS49OdrqIrZEV8hezcT\n",
        "\n",
        "# model ver 2.1\n",
        "# !gdown 1PDkMWyJUfZ3PGaheXiMVaApLNnoKIKVQ\n",
        "\n",
        "# model ver 2.2\n",
        "# !gdown 1P1cAdEMi0w5pZPL4zTEAXlaQx5PHfqYB\n",
        "\n",
        "# model vcer 2.3\n",
        "!gdown 1IBC2vIF9gxGlX1CmY68QP5tzpix7ROuw"
      ]
    },
    {
      "cell_type": "code",
      "execution_count": null,
      "metadata": {
        "id": "X2DAIO2ILfDP"
      },
      "outputs": [],
      "source": [
        "model_path = '/content/Capstone_ModelV2_3.h5'"
      ]
    },
    {
      "cell_type": "code",
      "execution_count": null,
      "metadata": {
        "id": "Oid8mA14Lv_C"
      },
      "outputs": [],
      "source": [
        "loaded_model = tf.keras.models.load_model(model_path)"
      ]
    },
    {
      "cell_type": "code",
      "execution_count": null,
      "metadata": {
        "id": "ti6LX9j46lxO"
      },
      "outputs": [],
      "source": [
        "loaded_model.compile(optimizer=tf.keras.optimizers.Adam(),\n",
        "                loss=tf.keras.losses.CategoricalCrossentropy(from_logits=False),\n",
        "                metrics=['accuracy'])"
      ]
    },
    {
      "cell_type": "code",
      "execution_count": null,
      "metadata": {
        "colab": {
          "base_uri": "https://localhost:8080/"
        },
        "id": "_VltiUeF6YBS",
        "outputId": "0a2b9aa0-75a8-4c52-96e6-9e70f8047c68"
      },
      "outputs": [
        {
          "name": "stdout",
          "output_type": "stream",
          "text": [
            "Epoch 1/10\n",
            "106/492 [=====>........................] - ETA: 3:30 - loss: 0.8846 - accuracy: 0.7460"
          ]
        }
      ],
      "source": [
        "history = loaded_model.fit(train_generator,\n",
        "                    epochs=10,\n",
        "                    steps_per_epoch=len(train_generator),\n",
        "                    validation_data=validation_generator,\n",
        "                    validation_steps=int(0.15*len(validation_generator)),\n",
        "                    callbacks= [my_callback],\n",
        "                    class_weight=weight)"
      ]
    },
    {
      "cell_type": "code",
      "execution_count": null,
      "metadata": {
        "id": "L66rnrY8XM6L"
      },
      "outputs": [],
      "source": [
        "loaded_model.save('/content/drive/MyDrive/Capstone_Modelv3.h5')"
      ]
    },
    {
      "cell_type": "code",
      "execution_count": null,
      "metadata": {
        "colab": {
          "base_uri": "https://localhost:8080/"
        },
        "id": "aeozel4iNnsH",
        "outputId": "50df1cd9-1443-42a3-d616-149669191884"
      },
      "outputs": [
        {
          "name": "stdout",
          "output_type": "stream",
          "text": [
            " 25/492 [>.............................] - ETA: 3:49 - loss: 0.1773 - accuracy: 0.9488"
          ]
        },
        {
          "name": "stderr",
          "output_type": "stream",
          "text": [
            "/usr/local/lib/python3.10/dist-packages/PIL/Image.py:975: UserWarning: Palette images with Transparency expressed in bytes should be converted to RGBA images\n",
            "  warnings.warn(\n"
          ]
        },
        {
          "name": "stdout",
          "output_type": "stream",
          "text": [
            "492/492 [==============================] - 270s 531ms/step - loss: 0.1386 - accuracy: 0.9583\n"
          ]
        },
        {
          "data": {
            "text/plain": [
              "[0.13862411677837372, 0.9582892656326294]"
            ]
          },
          "execution_count": 23,
          "metadata": {},
          "output_type": "execute_result"
        }
      ],
      "source": [
        "loaded_modelmodel.evaluate(train_generator)"
      ]
    },
    {
      "cell_type": "code",
      "execution_count": null,
      "metadata": {
        "colab": {
          "base_uri": "https://localhost:8080/"
        },
        "id": "_iTpdbLGQlvY",
        "outputId": "99c043a9-d416-4a87-b5c0-095825ea7af8"
      },
      "outputs": [
        {
          "name": "stdout",
          "output_type": "stream",
          "text": [
            "55/55 [==============================] - 13s 234ms/step - loss: 0.1067 - accuracy: 0.9672\n"
          ]
        },
        {
          "data": {
            "text/plain": [
              "[0.10669269412755966, 0.9671533107757568]"
            ]
          },
          "execution_count": 24,
          "metadata": {},
          "output_type": "execute_result"
        }
      ],
      "source": [
        "loaded_model.evaluate(validation_generator)"
      ]
    },
    {
      "cell_type": "code",
      "execution_count": null,
      "metadata": {
        "colab": {
          "base_uri": "https://localhost:8080/"
        },
        "id": "slaJWzuO4c1H",
        "outputId": "0701e2f5-e5f7-4fb3-8efc-94bcf0df7458"
      },
      "outputs": [
        {
          "name": "stdout",
          "output_type": "stream",
          "text": [
            "Label Mappings for classes present in the training and validation datasets\n",
            "\n",
            "0 : baterai\n",
            "1 : botol air\n",
            "2 : cap\n",
            "3 : carrier bag\n",
            "4 : cooking set hike\n",
            "5 : first aid kit\n",
            "6 : flashlight\n",
            "7 : gelas plastik\n",
            "8 : hat\n",
            "9 : headlamp climbing\n",
            "10 : jaket\n",
            "11 : knife\n",
            "12 : lampu tenda\n",
            "13 : matras camping\n",
            "14 : outdoor sandals\n",
            "15 : portable gas\n",
            "16 : portable stove\n",
            "17 : powerbank\n",
            "18 : raincoat\n",
            "19 : sarung tangan\n",
            "20 : shoes\n",
            "21 : sleeping bag\n",
            "22 : socks\n",
            "23 : t-shirt\n",
            "24 : tent bag\n",
            "25 : towel\n",
            "26 : trash bag\n",
            "27 : trekking pole\n",
            "28 : trousers\n"
          ]
        }
      ],
      "source": [
        "labels = {value: key for key, value in train_generator.class_indices.items()}\n",
        "\n",
        "print(\"Label Mappings for classes present in the training and validation datasets\\n\")\n",
        "for key, value in labels.items():\n",
        "    print(f\"{key} : {value}\")"
      ]
    },
    {
      "cell_type": "code",
      "execution_count": null,
      "metadata": {
        "colab": {
          "base_uri": "https://localhost:8080/",
          "height": 247
        },
        "id": "IC2eZCtex1ba",
        "outputId": "021bea6d-d535-43d2-cf4d-da80b9dddd49"
      },
      "outputs": [
        {
          "data": {
            "text/html": [
              "\n",
              "     <input type=\"file\" id=\"files-006c444f-a8f9-42b5-aca7-f0e940733375\" name=\"files[]\" multiple disabled\n",
              "        style=\"border:none\" />\n",
              "     <output id=\"result-006c444f-a8f9-42b5-aca7-f0e940733375\">\n",
              "      Upload widget is only available when the cell has been executed in the\n",
              "      current browser session. Please rerun this cell to enable.\n",
              "      </output>\n",
              "      <script>// Copyright 2017 Google LLC\n",
              "//\n",
              "// Licensed under the Apache License, Version 2.0 (the \"License\");\n",
              "// you may not use this file except in compliance with the License.\n",
              "// You may obtain a copy of the License at\n",
              "//\n",
              "//      http://www.apache.org/licenses/LICENSE-2.0\n",
              "//\n",
              "// Unless required by applicable law or agreed to in writing, software\n",
              "// distributed under the License is distributed on an \"AS IS\" BASIS,\n",
              "// WITHOUT WARRANTIES OR CONDITIONS OF ANY KIND, either express or implied.\n",
              "// See the License for the specific language governing permissions and\n",
              "// limitations under the License.\n",
              "\n",
              "/**\n",
              " * @fileoverview Helpers for google.colab Python module.\n",
              " */\n",
              "(function(scope) {\n",
              "function span(text, styleAttributes = {}) {\n",
              "  const element = document.createElement('span');\n",
              "  element.textContent = text;\n",
              "  for (const key of Object.keys(styleAttributes)) {\n",
              "    element.style[key] = styleAttributes[key];\n",
              "  }\n",
              "  return element;\n",
              "}\n",
              "\n",
              "// Max number of bytes which will be uploaded at a time.\n",
              "const MAX_PAYLOAD_SIZE = 100 * 1024;\n",
              "\n",
              "function _uploadFiles(inputId, outputId) {\n",
              "  const steps = uploadFilesStep(inputId, outputId);\n",
              "  const outputElement = document.getElementById(outputId);\n",
              "  // Cache steps on the outputElement to make it available for the next call\n",
              "  // to uploadFilesContinue from Python.\n",
              "  outputElement.steps = steps;\n",
              "\n",
              "  return _uploadFilesContinue(outputId);\n",
              "}\n",
              "\n",
              "// This is roughly an async generator (not supported in the browser yet),\n",
              "// where there are multiple asynchronous steps and the Python side is going\n",
              "// to poll for completion of each step.\n",
              "// This uses a Promise to block the python side on completion of each step,\n",
              "// then passes the result of the previous step as the input to the next step.\n",
              "function _uploadFilesContinue(outputId) {\n",
              "  const outputElement = document.getElementById(outputId);\n",
              "  const steps = outputElement.steps;\n",
              "\n",
              "  const next = steps.next(outputElement.lastPromiseValue);\n",
              "  return Promise.resolve(next.value.promise).then((value) => {\n",
              "    // Cache the last promise value to make it available to the next\n",
              "    // step of the generator.\n",
              "    outputElement.lastPromiseValue = value;\n",
              "    return next.value.response;\n",
              "  });\n",
              "}\n",
              "\n",
              "/**\n",
              " * Generator function which is called between each async step of the upload\n",
              " * process.\n",
              " * @param {string} inputId Element ID of the input file picker element.\n",
              " * @param {string} outputId Element ID of the output display.\n",
              " * @return {!Iterable<!Object>} Iterable of next steps.\n",
              " */\n",
              "function* uploadFilesStep(inputId, outputId) {\n",
              "  const inputElement = document.getElementById(inputId);\n",
              "  inputElement.disabled = false;\n",
              "\n",
              "  const outputElement = document.getElementById(outputId);\n",
              "  outputElement.innerHTML = '';\n",
              "\n",
              "  const pickedPromise = new Promise((resolve) => {\n",
              "    inputElement.addEventListener('change', (e) => {\n",
              "      resolve(e.target.files);\n",
              "    });\n",
              "  });\n",
              "\n",
              "  const cancel = document.createElement('button');\n",
              "  inputElement.parentElement.appendChild(cancel);\n",
              "  cancel.textContent = 'Cancel upload';\n",
              "  const cancelPromise = new Promise((resolve) => {\n",
              "    cancel.onclick = () => {\n",
              "      resolve(null);\n",
              "    };\n",
              "  });\n",
              "\n",
              "  // Wait for the user to pick the files.\n",
              "  const files = yield {\n",
              "    promise: Promise.race([pickedPromise, cancelPromise]),\n",
              "    response: {\n",
              "      action: 'starting',\n",
              "    }\n",
              "  };\n",
              "\n",
              "  cancel.remove();\n",
              "\n",
              "  // Disable the input element since further picks are not allowed.\n",
              "  inputElement.disabled = true;\n",
              "\n",
              "  if (!files) {\n",
              "    return {\n",
              "      response: {\n",
              "        action: 'complete',\n",
              "      }\n",
              "    };\n",
              "  }\n",
              "\n",
              "  for (const file of files) {\n",
              "    const li = document.createElement('li');\n",
              "    li.append(span(file.name, {fontWeight: 'bold'}));\n",
              "    li.append(span(\n",
              "        `(${file.type || 'n/a'}) - ${file.size} bytes, ` +\n",
              "        `last modified: ${\n",
              "            file.lastModifiedDate ? file.lastModifiedDate.toLocaleDateString() :\n",
              "                                    'n/a'} - `));\n",
              "    const percent = span('0% done');\n",
              "    li.appendChild(percent);\n",
              "\n",
              "    outputElement.appendChild(li);\n",
              "\n",
              "    const fileDataPromise = new Promise((resolve) => {\n",
              "      const reader = new FileReader();\n",
              "      reader.onload = (e) => {\n",
              "        resolve(e.target.result);\n",
              "      };\n",
              "      reader.readAsArrayBuffer(file);\n",
              "    });\n",
              "    // Wait for the data to be ready.\n",
              "    let fileData = yield {\n",
              "      promise: fileDataPromise,\n",
              "      response: {\n",
              "        action: 'continue',\n",
              "      }\n",
              "    };\n",
              "\n",
              "    // Use a chunked sending to avoid message size limits. See b/62115660.\n",
              "    let position = 0;\n",
              "    do {\n",
              "      const length = Math.min(fileData.byteLength - position, MAX_PAYLOAD_SIZE);\n",
              "      const chunk = new Uint8Array(fileData, position, length);\n",
              "      position += length;\n",
              "\n",
              "      const base64 = btoa(String.fromCharCode.apply(null, chunk));\n",
              "      yield {\n",
              "        response: {\n",
              "          action: 'append',\n",
              "          file: file.name,\n",
              "          data: base64,\n",
              "        },\n",
              "      };\n",
              "\n",
              "      let percentDone = fileData.byteLength === 0 ?\n",
              "          100 :\n",
              "          Math.round((position / fileData.byteLength) * 100);\n",
              "      percent.textContent = `${percentDone}% done`;\n",
              "\n",
              "    } while (position < fileData.byteLength);\n",
              "  }\n",
              "\n",
              "  // All done.\n",
              "  yield {\n",
              "    response: {\n",
              "      action: 'complete',\n",
              "    }\n",
              "  };\n",
              "}\n",
              "\n",
              "scope.google = scope.google || {};\n",
              "scope.google.colab = scope.google.colab || {};\n",
              "scope.google.colab._files = {\n",
              "  _uploadFiles,\n",
              "  _uploadFilesContinue,\n",
              "};\n",
              "})(self);\n",
              "</script> "
            ],
            "text/plain": [
              "<IPython.core.display.HTML object>"
            ]
          },
          "metadata": {},
          "output_type": "display_data"
        },
        {
          "name": "stdout",
          "output_type": "stream",
          "text": [
            "Saving first aid kit.jpg to first aid kit.jpg\n",
            "Saving gelas.png to gelas.png\n",
            "Saving headlamp.jpg to headlamp.jpg\n",
            "Saving knife.jpg to knife.jpg\n",
            "Saving lampu tenda.jpg to lampu tenda.jpg\n",
            "Saving trash bag.jpg to trash bag.jpg\n"
          ]
        }
      ],
      "source": [
        "from tensorflow.keras.preprocessing.image import load_img, img_to_array\n",
        "import numpy as np\n",
        "from google.colab import files\n",
        "TESTDI = uploaded=files.upload()\n",
        "IMG_SIZE = 256"
      ]
    },
    {
      "cell_type": "code",
      "execution_count": null,
      "metadata": {
        "colab": {
          "base_uri": "https://localhost:8080/"
        },
        "id": "-qWQvP_xC6qX",
        "outputId": "985ef4e7-6c69-42c1-bb6e-72b9448e0999"
      },
      "outputs": [
        {
          "name": "stdout",
          "output_type": "stream",
          "text": [
            "1/1 [==============================] - 0s 44ms/step\n",
            "file /content/first aid kit.jpg adalah first aid kit \n",
            "1/1 [==============================] - 0s 41ms/step\n",
            "file /content/gelas.png adalah gelas plastik \n",
            "1/1 [==============================] - 0s 52ms/step\n",
            "file /content/headlamp.jpg adalah headlamp climbing \n",
            "1/1 [==============================] - 0s 45ms/step\n",
            "file /content/knife.jpg adalah knife \n",
            "1/1 [==============================] - 0s 47ms/step\n",
            "file /content/lampu tenda.jpg adalah lampu tenda \n",
            "1/1 [==============================] - 0s 43ms/step\n",
            "file /content/trash bag.jpg adalah trash bag \n"
          ]
        }
      ],
      "source": [
        "for her in TESTDI:\n",
        "    pathi='/content/'+ her\n",
        "    img=load_img(pathi, target_size=(256, 256))\n",
        "    x=img_to_array(img)\n",
        "    x /= 255\n",
        "    x=np.expand_dims(x, axis=0)\n",
        "    images = np.vstack([x])\n",
        "    classes = loaded_model.predict(images, batch_size=10)\n",
        "    predicted_label = labels[np.argmax(classes[0])]\n",
        "    print(f\"file {pathi} adalah {predicted_label} \")"
      ]
    }
  ],
  "metadata": {
    "accelerator": "GPU",
    "colab": {
      "gpuType": "T4",
      "include_colab_link": true,
      "provenance": []
    },
    "gpuClass": "standard",
    "kernelspec": {
      "display_name": "base",
      "language": "python",
      "name": "python3"
    },
    "language_info": {
      "codemirror_mode": {
        "name": "ipython",
        "version": 3
      },
      "file_extension": ".py",
      "mimetype": "text/x-python",
      "name": "python",
      "nbconvert_exporter": "python",
      "pygments_lexer": "ipython3",
      "version": "3.8.8"
    },
    "orig_nbformat": 4
  },
  "nbformat": 4,
  "nbformat_minor": 0
}
