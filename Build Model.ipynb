{
  "cells": [
    {
      "cell_type": "markdown",
      "metadata": {
        "id": "view-in-github",
        "colab_type": "text"
      },
      "source": [
        "<a href=\"https://colab.research.google.com/github/Si-Mun/Machine-Learning/blob/main/Build%20Model.ipynb\" target=\"_parent\"><img src=\"https://colab.research.google.com/assets/colab-badge.svg\" alt=\"Open In Colab\"/></a>"
      ]
    },
    {
      "cell_type": "markdown",
      "metadata": {
        "id": "P25UnDhgTMG3"
      },
      "source": [
        "# Import and Preprocess Data"
      ]
    },
    {
      "cell_type": "code",
      "execution_count": null,
      "metadata": {
        "colab": {
          "base_uri": "https://localhost:8080/"
        },
        "id": "KmWHKbdum8e8",
        "outputId": "74c57cb3-99b9-46b6-d70f-eb38cf8f8cc5"
      },
      "outputs": [
        {
          "name": "stdout",
          "output_type": "stream",
          "text": [
            "Mounted at /content/drive\n"
          ]
        }
      ],
      "source": [
        "from google.colab import drive\n",
        "drive.mount('/content/drive')"
      ]
    },
    {
      "cell_type": "code",
      "execution_count": null,
      "metadata": {
        "id": "pwsQB5qyGbQT"
      },
      "outputs": [],
      "source": [
        "from tensorflow.keras.optimizers import RMSprop\n",
        "import os\n",
        "import zipfile\n",
        "import random\n",
        "import shutil\n",
        "import numpy as np\n",
        "import tensorflow as tf\n",
        "from tensorflow.keras.callbacks import EarlyStopping\n",
        "from tensorflow.keras.callbacks import Callback\n",
        "from tensorflow.keras.preprocessing.image import ImageDataGenerator\n",
        "from shutil import copyfile\n",
        "import matplotlib.pyplot as plt\n",
        "from tensorflow.keras import layers\n",
        "from tensorflow.keras import Model\n",
        "from sklearn.utils.class_weight import compute_class_weight"
      ]
    },
    {
      "cell_type": "code",
      "execution_count": null,
      "metadata": {
        "colab": {
          "base_uri": "https://localhost:8080/"
        },
        "id": "fHc7GgQ2AhC_",
        "outputId": "d1a8eb0e-e81d-46da-d69e-2d9a2b8d5561"
      },
      "outputs": [
        {
          "name": "stdout",
          "output_type": "stream",
          "text": [
            "Downloading...\n",
            "From: https://drive.google.com/uc?id=1tpvQ4P3t0MWGUr43Kq3B397zvC8mxU63\n",
            "To: /content/photos_batch2.zip\n",
            "100% 452M/452M [00:04<00:00, 91.9MB/s]\n"
          ]
        }
      ],
      "source": [
        "!gdown 1tpvQ4P3t0MWGUr43Kq3B397zvC8mxU63"
      ]
    },
    {
      "cell_type": "code",
      "execution_count": null,
      "metadata": {
        "colab": {
          "base_uri": "https://localhost:8080/"
        },
        "id": "bgMXyIUKr6ou",
        "outputId": "bc691c41-06fd-4c4c-87a0-5038ecaa46e8"
      },
      "outputs": [
        {
          "name": "stdout",
          "output_type": "stream",
          "text": [
            "Downloading...\n",
            "From: https://drive.google.com/uc?id=1OEF0KJoBXJdQNP_SPBAnHW_xfh8rvv5-\n",
            "To: /content/Salinan photos_revised.zip\n",
            "100% 410M/410M [00:05<00:00, 75.4MB/s]\n"
          ]
        }
      ],
      "source": [
        "!gdown 1OEF0KJoBXJdQNP_SPBAnHW_xfh8rvv5-"
      ]
    },
    {
      "cell_type": "code",
      "execution_count": null,
      "metadata": {
        "id": "tp9VbYeer7t7"
      },
      "outputs": [],
      "source": [
        "local_zip = '/content/Salinan photos_revised.zip'\n",
        "zip_ref   = zipfile.ZipFile(local_zip, 'r')\n",
        "zip_ref.extractall('/tmp')\n",
        "zip_ref.close()"
      ]
    },
    {
      "cell_type": "code",
      "execution_count": null,
      "metadata": {
        "id": "MCFMa0ulHvhe"
      },
      "outputs": [],
      "source": [
        "local_zip = '/content/photos_batch2.zip'\n",
        "zip_ref   = zipfile.ZipFile(local_zip, 'r')\n",
        "zip_ref.extractall('/tmp')\n",
        "zip_ref.close()"
      ]
    },
    {
      "cell_type": "code",
      "execution_count": null,
      "metadata": {
        "id": "wg_AhgZCGbQW"
      },
      "outputs": [],
      "source": [
        "path_ori = '/tmp/photos'"
      ]
    },
    {
      "cell_type": "code",
      "execution_count": null,
      "metadata": {
        "id": "nFJkjaV8GbQW"
      },
      "outputs": [],
      "source": [
        "# source_path_baterai = os.path.join(path_ori, 'batu baterai')\n",
        "source_path_cap = os.path.join(path_ori, 'cap')\n",
        "source_path_cookset = os.path.join(path_ori, 'cooking set hike')\n",
        "source_path_medis = os.path.join(path_ori, 'first aid kit')\n",
        "# source_path_gelas = os.path.join(path_ori, 'gelas plastik')\n",
        "source_path_topi = os.path.join(path_ori, 'hat')\n",
        "source_path_headlamp = os.path.join(path_ori, 'headlamp climbing')\n",
        "source_path_pisau = os.path.join(path_ori, 'knife')\n",
        "# source_path_lampu = os.path.join(path_ori, 'lampu tenda')\n",
        "# source_path_powerbank = os.path.join(path_ori, 'powerbank')\n",
        "source_path_jashujan = os.path.join(path_ori, 'raincoat')\n",
        "# source_path_sarungtangan = os.path.join(path_ori, 'sarung tangan')\n",
        "# source_path_socks = os.path.join(path_ori, 'socks')\n",
        "# source_path_handuk = os.path.join(path_ori, 'towel')\n",
        "# source_path_trashbag = os.path.join(path_ori, 'trash bag')\n",
        "source_path_pole = os.path.join(path_ori, 'trekking pole')\n",
        "source_path_flashlight = os.path.join(path_ori, 'flashlight')\n",
        "# source_path_botol = os.path.join(path_ori, 'botol air')\n",
        "source_path_jacket = os.path.join(path_ori, 'jackets')\n",
        "source_path_backpack = os.path.join(path_ori, 'carrier bag')\n",
        "source_path_matras = os.path.join(path_ori, 'matras camping')\n",
        "source_path_sandal = os.path.join(path_ori, 'outdoors sandals')\n",
        "source_path_gas = os.path.join(path_ori, 'portable gas')\n",
        "source_path_stove = os.path.join(path_ori, 'portable stove')\n",
        "source_path_shoes = os.path.join(path_ori, 'shoes')\n",
        "source_path_sleep = os.path.join(path_ori, 'sleeping bag')\n",
        "# source_path_tent = os.path.join(path_ori, 'tent bag')\n",
        "source_path_trousers = os.path.join(path_ori, 'trousers')\n",
        "# source_path_shirt = os.path.join(path_ori, 't-shirt')"
      ]
    },
    {
      "cell_type": "code",
      "execution_count": null,
      "metadata": {
        "colab": {
          "base_uri": "https://localhost:8080/"
        },
        "id": "bm0BUqkRGbQX",
        "outputId": "bb52b806-6984-4ec5-ad84-e269cbe86ac3"
      },
      "outputs": [
        {
          "name": "stdout",
          "output_type": "stream",
          "text": [
            "There are 430 images of Tracking Pole.\n",
            "There are 651 images of Gelas Plastik.\n"
          ]
        }
      ],
      "source": [
        "print(f\"There are {len(os.listdir(source_path_pole))} images of Tracking Pole.\")\n",
        "print(f\"There are {len(os.listdir(source_path_flashlight))} images of Gelas Plastik.\")"
      ]
    },
    {
      "cell_type": "code",
      "execution_count": null,
      "metadata": {
        "id": "Y9cQL2uWGbQY"
      },
      "outputs": [],
      "source": [
        "root_dir = '/tmp/capstone'\n",
        "\n",
        "# Empty directory to prevent FileExistsError is the function is run several times\n",
        "if os.path.exists(root_dir):\n",
        "  shutil.rmtree(root_dir)\n",
        "\n",
        "# GRADED FUNCTION: create_train_val_dirs\n",
        "def create_train_val_dirs(root_path):\n",
        "  \"\"\"\n",
        "  Creates directories for the train and test sets\n",
        "\n",
        "  Args:\n",
        "    root_path (string) - the base directory path to create subdirectories from\n",
        "\n",
        "  Returns:\n",
        "    None\n",
        "  \"\"\"\n",
        "\n",
        "  ### START CODE HERE\n",
        "\n",
        "  # HINT:\n",
        "  # Use os.makedirs to create your directories with intermediate subdirectories\n",
        "  # Don't hardcode the paths. Use os.path.join to append the new directories to the root_path parameter\n",
        "\n",
        "  rootie = os.makedirs(root_path)\n",
        "  train_dir = os.path.join(root_path, 'training')\n",
        "  validation_dir = os.path.join(root_path, 'validation')\n",
        "  os.makedirs(train_dir)\n",
        "  os.makedirs(validation_dir)\n",
        "  # Directory with training hike equipment pictures\n",
        "  # train_baterai_dir = os.path.join(train_dir, 'baterai')\n",
        "  # train_cap_dir = os.path.join(train_dir, 'cap')\n",
        "  train_cookset_dir = os.path.join(train_dir, 'cooking set hike')\n",
        "  train_aidkit_dir = os.path.join(train_dir, 'first aid kit')\n",
        "  # train_gelas_dir = os.path.join(train_dir, 'gelas plastik')\n",
        "  train_hat_dir = os.path.join(train_dir, 'hat')\n",
        "  train_headlamp_dir = os.path.join(train_dir, 'headlamp climbing')\n",
        "  train_knife_dir = os.path.join(train_dir, 'knife')\n",
        "  # train_lampu_dir = os.path.join(train_dir, 'lampu tenda')\n",
        "  # train_powerbank_dir = os.path.join(train_dir, 'powerbank')\n",
        "  train_raincoat_dir = os.path.join(train_dir, 'raincoat')\n",
        "  # train_gloves_dir = os.path.join(train_dir, 'sarung tangan')\n",
        "  # train_socks_dir = os.path.join(train_dir, 'socks')\n",
        "  # train_towel_dir = os.path.join(train_dir, 'towel')\n",
        "  # train_trashbag_dir = os.path.join(train_dir, 'trash bag')\n",
        "  train_pole_dir = os.path.join(train_dir, 'trekking pole')\n",
        "  train_flash_dir = os.path.join(train_dir, 'flashlight')\n",
        "  # train_botol_dir = os.path.join(train_dir, 'botol air')\n",
        "  train_jacket_dir = os.path.join(train_dir, 'jaket')\n",
        "  train_backpack_dir = os.path.join(train_dir, 'carrier bag')\n",
        "  train_matras_dir = os.path.join(train_dir, 'matras camping')\n",
        "  train_sandal_dir = os.path.join(train_dir, 'outdoor footwear')\n",
        "  # train_gas_dir = os.path.join(train_dir, 'portable gas')\n",
        "  train_stove_dir = os.path.join(train_dir, 'portable stove')\n",
        "  # train_shoes_dir = os.path.join(train_dir, 'shoes')\n",
        "  train_sleep_dir = os.path.join(train_dir, 'sleeping bag')\n",
        "  # train_tent_dir = os.path.join(train_dir, 'tent bag')\n",
        "  train_trousers_dir = os.path.join(train_dir, 'trousers')\n",
        "  # train_shirt_dir = os.path.join(train_dir, 't-shirt')\n",
        "  os.makedirs(train_flash_dir)\n",
        "  # os.makedirs(train_botol_dir)\n",
        "  os.makedirs(train_jacket_dir)\n",
        "  os.makedirs(train_backpack_dir)\n",
        "  os.makedirs(train_matras_dir)\n",
        "  os.makedirs(train_sandal_dir)\n",
        "  # os.makedirs(train_gas_dir)\n",
        "  os.makedirs(train_stove_dir)\n",
        "  # os.makedirs(train_shoes_dir)\n",
        "  os.makedirs(train_sleep_dir)\n",
        "  # os.makedirs(train_tent_dir)\n",
        "  os.makedirs(train_trousers_dir)\n",
        "  # os.makedirs(train_shirt_dir)\n",
        "  os.makedirs(train_aidkit_dir)\n",
        "  # os.makedirs(train_baterai_dir)\n",
        "  # os.makedirs(train_cap_dir)\n",
        "  os.makedirs(train_cookset_dir)\n",
        "  # os.makedirs(train_gelas_dir)\n",
        "  # os.makedirs(train_gloves_dir)\n",
        "  os.makedirs(train_hat_dir)\n",
        "  os.makedirs(train_headlamp_dir)\n",
        "  os.makedirs(train_knife_dir)\n",
        "  # os.makedirs(train_lampu_dir)\n",
        "  os.makedirs(train_pole_dir)\n",
        "  # os.makedirs(train_powerbank_dir)\n",
        "  os.makedirs(train_raincoat_dir)\n",
        "  # os.makedirs(train_socks_dir)\n",
        "  # os.makedirs(train_towel_dir)\n",
        "  # os.makedirs(train_trashbag_dir)\n",
        "  #Directory with validation hike equipment pictures\n",
        "  # val_baterai_dir = os.path.join(validation_dir, 'baterai')\n",
        "  # val_cap_dir = os.path.join(validation_dir, 'cap')\n",
        "  val_cookset_dir = os.path.join(validation_dir, 'cooking set hike')\n",
        "  val_aidkit_dir = os.path.join(validation_dir, 'first aid kit')\n",
        "  # val_gelas_dir = os.path.join(validation_dir, 'gelas plastik')\n",
        "  val_hat_dir = os.path.join(validation_dir, 'hat')\n",
        "  val_headlamp_dir = os.path.join(validation_dir, 'headlamp climbing')\n",
        "  val_knife_dir = os.path.join(validation_dir, 'knife')\n",
        "  # val_lampu_dir = os.path.join(validation_dir, 'lampu tenda')\n",
        "  # val_powerbank_dir = os.path.join(validation_dir, 'powerbank')\n",
        "  val_raincoat_dir = os.path.join(validation_dir, 'raincoat')\n",
        "  # val_gloves_dir = os.path.join(validation_dir, 'sarung tangan')\n",
        "  # val_socks_dir = os.path.join(validation_dir, 'socks')\n",
        "  # val_towel_dir = os.path.join(validation_dir, 'towel')\n",
        "  # val_trashbag_dir = os.path.join(validation_dir, 'trash bag')\n",
        "  val_pole_dir = os.path.join(validation_dir, 'trekking pole')\n",
        "  validation_flash_dir = os.path.join(validation_dir, 'flashlight')\n",
        "  # validation_botol_dir = os.path.join(validation_dir, 'botol air')\n",
        "  validation_jacket_dir = os.path.join(validation_dir, 'jaket')\n",
        "  validation_backpack_dir = os.path.join(validation_dir, 'carrier bag')\n",
        "  validation_matras_dir = os.path.join(validation_dir, 'matras camping')\n",
        "  validation_footwear_dir = os.path.join(validation_dir, 'outdoor footwear')\n",
        "  # validation_gas_dir = os.path.join(validation_dir, 'portable gas')\n",
        "  validation_stove_dir = os.path.join(validation_dir, 'portable stove')\n",
        "  # validation_shoes_dir = os.path.join(validation_dir, 'shoes')\n",
        "  validation_sleep_dir = os.path.join(validation_dir, 'sleeping bag')\n",
        "  # validation_tent_dir = os.path.join(validation_dir, 'tent bag')\n",
        "  validation_trousers_dir = os.path.join(validation_dir, 'trousers')\n",
        "  # validation_shirt_dir = os.path.join(validation_dir, 't-shirt')\n",
        "  os.makedirs(validation_flash_dir)\n",
        "  # os.makedirs(validation_botol_dir)\n",
        "  os.makedirs(validation_jacket_dir)\n",
        "  os.makedirs(validation_backpack_dir)\n",
        "  os.makedirs(validation_matras_dir)\n",
        "  os.makedirs(validation_footwear_dir)\n",
        "  # os.makedirs(validation_gas_dir)\n",
        "  os.makedirs(validation_stove_dir)\n",
        "  # os.makedirs(validation_shoes_dir)\n",
        "  os.makedirs(validation_sleep_dir)\n",
        "  # os.makedirs(validation_tent_dir)\n",
        "  os.makedirs(validation_trousers_dir)\n",
        "  # os.makedirs(validation_shirt_dir)\n",
        "  os.makedirs(val_aidkit_dir)\n",
        "  # os.makedirs(val_baterai_dir)\n",
        "  # os.makedirs(val_cap_dir)\n",
        "  os.makedirs(val_cookset_dir)\n",
        "  # os.makedirs(val_gelas_dir)\n",
        "  # os.makedirs(val_gloves_dir)\n",
        "  os.makedirs(val_hat_dir)\n",
        "  os.makedirs(val_headlamp_dir)\n",
        "  os.makedirs(val_knife_dir)\n",
        "  # os.makedirs(val_lampu_dir)\n",
        "  os.makedirs(val_pole_dir)\n",
        "  # os.makedirs(val_powerbank_dir)\n",
        "  os.makedirs(val_raincoat_dir)\n",
        "  # os.makedirs(val_socks_dir)\n",
        "  # os.makedirs(val_towel_dir)\n",
        "  # os.makedirs(val_trashbag_dir)\n",
        "\n",
        "\n",
        "\n",
        "\n",
        "try:\n",
        "  create_train_val_dirs(root_path=root_dir)\n",
        "except FileExistsError:\n",
        "  print(\"You should not be seeing this since the upper directory is removed beforehand\")"
      ]
    },
    {
      "cell_type": "code",
      "execution_count": null,
      "metadata": {
        "colab": {
          "base_uri": "https://localhost:8080/"
        },
        "id": "2sOP4bTQGbQb",
        "outputId": "489a1476-a443-4a44-c41c-ee3967e97732"
      },
      "outputs": [
        {
          "name": "stdout",
          "output_type": "stream",
          "text": [
            "/tmp/capstone/validation\n",
            "/tmp/capstone/training\n",
            "/tmp/capstone/validation/hat\n",
            "/tmp/capstone/validation/flashlight\n",
            "/tmp/capstone/validation/raincoat\n",
            "/tmp/capstone/validation/first aid kit\n",
            "/tmp/capstone/validation/portable stove\n",
            "/tmp/capstone/validation/cooking set hike\n",
            "/tmp/capstone/validation/knife\n",
            "/tmp/capstone/validation/jaket\n",
            "/tmp/capstone/validation/trekking pole\n",
            "/tmp/capstone/validation/trousers\n",
            "/tmp/capstone/validation/sleeping bag\n",
            "/tmp/capstone/validation/outdoor footwear\n",
            "/tmp/capstone/validation/headlamp climbing\n",
            "/tmp/capstone/validation/matras camping\n",
            "/tmp/capstone/validation/carrier bag\n",
            "/tmp/capstone/training/hat\n",
            "/tmp/capstone/training/flashlight\n",
            "/tmp/capstone/training/raincoat\n",
            "/tmp/capstone/training/first aid kit\n",
            "/tmp/capstone/training/portable stove\n",
            "/tmp/capstone/training/cooking set hike\n",
            "/tmp/capstone/training/knife\n",
            "/tmp/capstone/training/jaket\n",
            "/tmp/capstone/training/trekking pole\n",
            "/tmp/capstone/training/trousers\n",
            "/tmp/capstone/training/sleeping bag\n",
            "/tmp/capstone/training/outdoor footwear\n",
            "/tmp/capstone/training/headlamp climbing\n",
            "/tmp/capstone/training/matras camping\n",
            "/tmp/capstone/training/carrier bag\n"
          ]
        }
      ],
      "source": [
        "for rootdir, dirs, files in os.walk(root_dir):\n",
        "    for subdir in dirs:\n",
        "        print(os.path.join(rootdir, subdir))"
      ]
    },
    {
      "cell_type": "code",
      "execution_count": null,
      "metadata": {
        "id": "YBMOWM8HGbQe"
      },
      "outputs": [],
      "source": [
        "def split_data(SOURCE_DIR, TRAINING_DIR, VALIDATION_DIR, SPLIT_SIZE):\n",
        "  \"\"\"\n",
        "  Splits the data into train and test sets\n",
        "\n",
        "  Args:\n",
        "    SOURCE_DIR (string): directory path containing the images\n",
        "    TRAINING_DIR (string): directory path to be used for training\n",
        "    VALIDATION_DIR (string): directory path to be used for validation\n",
        "    SPLIT_SIZE (float): proportion of the dataset to be used for training\n",
        "\n",
        "  Returns:\n",
        "    None\n",
        "  \"\"\"\n",
        "  ### START CODE HERE\n",
        "  allFileNames = os.listdir(SOURCE_DIR)\n",
        "  valdiFile=[]\n",
        "  for i in allFileNames:\n",
        "    sizem = os.path.getsize(os.path.join(SOURCE_DIR, i))\n",
        "    if sizem > 0:\n",
        "      valdiFile.append(i)\n",
        "    else:\n",
        "      print(\"filename is zero length, so ignoring.\")\n",
        "  testi=random.sample(valdiFile, len(valdiFile))\n",
        "  split = int(SPLIT_SIZE * len(valdiFile))\n",
        "  trains = testi[:split]\n",
        "  valids= testi[split:]\n",
        "  for file_name in trains:\n",
        "    copyfile(os.path.join(SOURCE_DIR, file_name), os.path.join(TRAINING_DIR, file_name))\n",
        "  for file_name in valids:\n",
        "    copyfile(os.path.join(SOURCE_DIR, file_name), os.path.join(VALIDATION_DIR, file_name))\n",
        "\n",
        "\n",
        "  ### END CODE HERE"
      ]
    },
    {
      "cell_type": "code",
      "execution_count": null,
      "metadata": {
        "colab": {
          "base_uri": "https://localhost:8080/"
        },
        "id": "4RDKR5CxGbQf",
        "outputId": "4badfc7e-2f7c-49d8-95f2-f775e6b91cf0"
      },
      "outputs": [
        {
          "name": "stdout",
          "output_type": "stream",
          "text": [
            "There are 167 images of hat for training\n",
            "There are 1474 images of shoes for training\n",
            "There are 651 images of flashlight for training\n",
            "There are 537 images of t-shirt for training\n",
            "There are 284 images of tent bag for training\n",
            "There are 301 images of trash bag for training\n",
            "There are 484 images of portable gas for training\n",
            "There are 318 images of raincoat for training\n",
            "There are 521 images of outdoors sandals for training\n",
            "There are 260 images of first aid kit for training\n",
            "There are 644 images of powerbank for training\n",
            "There are 457 images of portable stove for training\n",
            "There are 179 images of cap for training\n",
            "There are 636 images of lampu tenda for training\n",
            "There are 512 images of gelas plastik for training\n",
            "There are 526 images of cooking set hike for training\n",
            "There are 893 images of sarung tangan for training\n",
            "There are 271 images of socks for training\n",
            "There are 313 images of knife for training\n",
            "There are 486 images of jackets for training\n",
            "There are 571 images of batu baterai for training\n",
            "There are 1298 images of botol air for training\n",
            "There are 231 images of towel for training\n",
            "There are 430 images of trekking pole for training\n",
            "There are 536 images of trousers for training\n",
            "There are 1221 images of sleeping bag for training\n",
            "There are 379 images of headlamp climbing for training\n",
            "There are 536 images of matras camping for training\n",
            "There are 238 images of carrier bag for training\n"
          ]
        }
      ],
      "source": [
        "cdir=os.listdir(path_ori)\n",
        "for i in cdir:\n",
        "    #print(len(os.listdir(path_ori+'//'+i)))\n",
        "    print(f\"There are {len(os.listdir(path_ori+'//'+i))} images of {i} for training\")"
      ]
    },
    {
      "cell_type": "code",
      "execution_count": null,
      "metadata": {
        "colab": {
          "base_uri": "https://localhost:8080/"
        },
        "id": "QN8SDLnIGbQg",
        "outputId": "851066e5-da89-4ebb-a642-d0519a894222"
      },
      "outputs": [
        {
          "name": "stdout",
          "output_type": "stream",
          "text": [
            "\n",
            "\n",
            "Original Flashlight's directory has 651 images\n",
            "Original Cap's directory has 179 images\n",
            "\n",
            "There are 311 images of hat for training\n",
            "There are 585 images of flashlight for training\n",
            "There are 286 images of raincoat for training\n",
            "There are 234 images of first aid kit for training\n",
            "There are 846 images of portable stove for training\n",
            "There are 473 images of cooking set hike for training\n",
            "There are 281 images of knife for training\n",
            "There are 437 images of jaket for training\n",
            "There are 387 images of trekking pole for training\n",
            "There are 482 images of trousers for training\n",
            "There are 1098 images of sleeping bag for training\n",
            "There are 1794 images of outdoor footwear for training\n",
            "There are 341 images of headlamp climbing for training\n",
            "There are 482 images of matras camping for training\n",
            "There are 214 images of carrier bag for training\n",
            "There are 35 images of hat for validation\n",
            "There are 66 images of flashlight for validation\n",
            "There are 32 images of raincoat for validation\n",
            "There are 26 images of first aid kit for validation\n",
            "There are 95 images of portable stove for validation\n",
            "There are 53 images of cooking set hike for validation\n",
            "There are 32 images of knife for validation\n",
            "There are 49 images of jaket for validation\n",
            "There are 43 images of trekking pole for validation\n",
            "There are 54 images of trousers for validation\n",
            "There are 123 images of sleeping bag for validation\n",
            "There are 201 images of outdoor footwear for validation\n",
            "There are 38 images of headlamp climbing for validation\n",
            "There are 54 images of matras camping for validation\n",
            "There are 24 images of carrier bag for validation\n"
          ]
        }
      ],
      "source": [
        "#dataset tambahan 16 kelas\n",
        "# BATERAI_SOURCE_DIR ='/tmp/photos/batu baterai'\n",
        "CAP_SOURCE_DIR ='/tmp/photos/cap'\n",
        "COOK_SOURCE_DIR ='/tmp/photos/cooking set hike'\n",
        "AIDKIT_SOURCE_DIR ='/tmp/photos/first aid kit'\n",
        "# GELAS_SOURCE_DIR ='/tmp/photos/gelas plastik'\n",
        "HAT_SOURCE_DIR ='/tmp/photos/hat'\n",
        "HEADLAMP_SOURCE_DIR ='/tmp/photos/headlamp climbing'\n",
        "KNIFE_SOURCE_DIR ='/tmp/photos/knife'\n",
        "# LAMPU_SOURCE_DIR ='/tmp/photos/lampu tenda'\n",
        "# POWER_SOURCE_DIR ='/tmp/photos/powerbank'\n",
        "RAIN_SOURCE_DIR ='/tmp/photos/raincoat'\n",
        "# SARUNG_SOURCE_DIR ='/tmp/photos/sarung tangan'\n",
        "# SOCKS_SOURCE_DIR ='/tmp/photos/socks'\n",
        "# TOWEL_SOURCE_DIR ='/tmp/photos/towel'\n",
        "# TRASH_SOURCE_DIR ='/tmp/photos/trash bag'\n",
        "POLE_SOURCE_DIR ='/tmp/photos/trekking pole'\n",
        "#dataset awal 13 kelas\n",
        "FLASH_SOURCE_DIR ='/tmp/photos/flashlight'\n",
        "# BOTOL_SOURCE_DIR ='/tmp/photos/botol air'\n",
        "JACKET_SOURCE_DIR ='/tmp/photos/jackets'\n",
        "BACKPACK_SOURCE_DIR ='/tmp/photos/carrier bag'\n",
        "MATRAS_SOURCE_DIR ='/tmp/photos/matras camping'\n",
        "SANDAL_SOURCE_DIR ='/tmp/photos/outdoors sandals'\n",
        "GAS_SOURCE_DIR ='/tmp/photos/portable gas'\n",
        "STOVE_SOURCE_DIR ='/tmp/photos/portable stove'\n",
        "SHOES_SOURCE_DIR ='/tmp/photos/shoes'\n",
        "SLEEP_SOURCE_DIR ='/tmp/photos/sleeping bag'\n",
        "# SHIRT_SOURCE_DIR ='/tmp/photos/t-shirt'\n",
        "# TENT_SOURCE_DIR ='/tmp/photos/tent bag'\n",
        "TROUSERS_SOURCE_DIR ='/tmp/photos/trousers'\n",
        "\n",
        "\n",
        "\n",
        "\n",
        "TRAINING_DIR = '/tmp/capstone/training'\n",
        "VALIDATION_DIR = '/tmp/capstone/validation'\n",
        "\n",
        "# TRAINING_BATERAI_DIR = os.path.join(TRAINING_DIR, \"baterai/\")\n",
        "# VALIDATION_BATERAI_DIR = os.path.join(VALIDATION_DIR, \"baterai/\")\n",
        "\n",
        "# TRAINING_CAP_DIR = os.path.join(TRAINING_DIR, \"cap/\")\n",
        "# VALIDATION_CAP_DIR = os.path.join(VALIDATION_DIR, \"cap/\")\n",
        "\n",
        "TRAINING_COOK_DIR = os.path.join(TRAINING_DIR, \"cooking set hike/\")\n",
        "VALIDATION_COOK_DIR = os.path.join(VALIDATION_DIR, \"cooking set hike/\")\n",
        "\n",
        "TRAINING_AIDKIT_DIR = os.path.join(TRAINING_DIR, \"first aid kit/\")\n",
        "VALIDATION_AIDKIT_DIR = os.path.join(VALIDATION_DIR, \"first aid kit/\")\n",
        "\n",
        "# TRAINING_GELAS_dir = os.path.join(TRAINING_DIR, 'gelas plastik/')\n",
        "# VALIDATION_GELAS_dir = os.path.join(VALIDATION_DIR, 'gelas plastik/')\n",
        "\n",
        "TRAINING_HAT_dir = os.path.join(TRAINING_DIR, 'hat/')\n",
        "VALIDATION_HAT_dir = os.path.join(VALIDATION_DIR, 'hat/')\n",
        "\n",
        "TRAINING_HEADLAMP_dir = os.path.join(TRAINING_DIR, 'headlamp climbing/')\n",
        "VALIDATION_HEADLAMP_dir = os.path.join(VALIDATION_DIR, 'headlamp climbing/')\n",
        "\n",
        "TRAINING_KNIFE_dir = os.path.join(TRAINING_DIR, 'knife/')\n",
        "VALIDATION_KNIFE_dir = os.path.join(VALIDATION_DIR, 'knife/')\n",
        "\n",
        "# TRAINING_LAMPU_dir = os.path.join(TRAINING_DIR, 'lampu tenda/')\n",
        "# VALIDATION_LAMPU_dir = os.path.join(VALIDATION_DIR, 'lampu tenda/')\n",
        "\n",
        "# TRAINING_POWER_dir = os.path.join(TRAINING_DIR, 'powerbank/')\n",
        "# VALIDATION_POWER_dir = os.path.join(VALIDATION_DIR, 'powerbank/')\n",
        "\n",
        "TRAINING_RAIN_dir = os.path.join(TRAINING_DIR, 'raincoat/')\n",
        "VALIDATION_RAIN_dir = os.path.join(VALIDATION_DIR, 'raincoat/')\n",
        "\n",
        "# TRAINING_SARUNG_dir = os.path.join(TRAINING_DIR, 'sarung tangan/')\n",
        "# VALIDATION_SARUNG_dir = os.path.join(VALIDATION_DIR, 'sarung tangan/')\n",
        "\n",
        "# TRAINING_SOCKS_dir = os.path.join(TRAINING_DIR, 'socks/')\n",
        "# VALIDATION_SOCKS_dir = os.path.join(VALIDATION_DIR, 'socks/')\n",
        "\n",
        "# TRAINING_TOWEL_dir = os.path.join(TRAINING_DIR, 'towel/')\n",
        "# VALIDATION_TOWEL_dir = os.path.join(VALIDATION_DIR, 'towel/')\n",
        "\n",
        "# TRAINING_TRASH_dir = os.path.join(TRAINING_DIR, 'trash bag/')\n",
        "# VALIDATION_TRASH_dir = os.path.join(VALIDATION_DIR, 'trash bag/')\n",
        "\n",
        "TRAINING_POLE_dir = os.path.join(TRAINING_DIR, 'trekking pole/')\n",
        "VALIDATION_POLE_dir = os.path.join(VALIDATION_DIR, 'trekking pole/')\n",
        "\n",
        "TRAINING_FLASHS_DIR = os.path.join(TRAINING_DIR, \"flashlight/\")\n",
        "VALIDATION_FLASHS_DIR = os.path.join(VALIDATION_DIR, \"flashlight/\")\n",
        "\n",
        "# TRAINING_BOTOLS_DIR = os.path.join(TRAINING_DIR, \"botol air/\")\n",
        "# VALIDATION_BOTOLS_DIR = os.path.join(VALIDATION_DIR, \"botol air/\")\n",
        "\n",
        "TRAINING_JACKET_DIR = os.path.join(TRAINING_DIR, \"jaket/\")\n",
        "VALIDATION_JACKET_DIR = os.path.join(VALIDATION_DIR, \"jaket/\")\n",
        "\n",
        "TRAINING_backpack_dir = os.path.join(TRAINING_DIR, 'carrier bag/')\n",
        "VALIDATION_backpack_dir = os.path.join(VALIDATION_DIR, 'carrier bag/')\n",
        "\n",
        "TRAINING_matras_dir = os.path.join(TRAINING_DIR, 'matras camping/')\n",
        "VALIDATION_matras_dir = os.path.join(VALIDATION_DIR, 'matras camping/')\n",
        "\n",
        "TRAINING_sandal_dir = os.path.join(TRAINING_DIR, 'outdoor footwear/')\n",
        "VALIDATION_sandal_dir = os.path.join(VALIDATION_DIR, 'outdoor footwear/')\n",
        "\n",
        "# TRAINING_gas_dir = os.path.join(TRAINING_DIR, 'portable gas/')\n",
        "# VALIDATION_gas_dir = os.path.join(VALIDATION_DIR, 'portable gas/')\n",
        "\n",
        "TRAINING_stove_dir = os.path.join(TRAINING_DIR, 'portable stove/')\n",
        "VALIDATION_stove_dir = os.path.join(VALIDATION_DIR, 'portable stove/')\n",
        "\n",
        "# TRAINING_shoes_dir = os.path.join(TRAINING_DIR, 'shoes/')\n",
        "# VALIDATION_shoes_dir = os.path.join(VALIDATION_DIR, 'shoes/')\n",
        "\n",
        "TRAINING_sleep_dir = os.path.join(TRAINING_DIR, 'sleeping bag/')\n",
        "VALIDATION_sleep_dir = os.path.join(VALIDATION_DIR, 'sleeping bag/')\n",
        "\n",
        "# TRAINING_tent_dir = os.path.join(TRAINING_DIR, 'tent bag/')\n",
        "# VALIDATION_tent_dir = os.path.join(VALIDATION_DIR, 'tent bag/')\n",
        "\n",
        "TRAINING_trousers_dir = os.path.join(TRAINING_DIR, 'trousers/')\n",
        "VALIDATION_trousers_dir = os.path.join(VALIDATION_DIR, 'trousers/')\n",
        "\n",
        "# TRAINING_shirt_dir = os.path.join(TRAINING_DIR, 't-shirt/')\n",
        "# VALIDATION_shirt_dir = os.path.join(VALIDATION_DIR, 't-shirt/')\n",
        "\n",
        "# Empty directories in case you run this cell multiple times\n",
        "# if len(os.listdir(TRAINING_BATERAI_DIR)) > 0:\n",
        "#   for file in os.scandir(TRAINING_BATERAI_DIR):\n",
        "#     os.remove(file.path)\n",
        "# if len(os.listdir(TRAINING_CAP_DIR)) > 0:\n",
        "#   for file in os.scandir(TRAINING_CAP_DIR):\n",
        "#     os.remove(file.path)\n",
        "if len(os.listdir(TRAINING_COOK_DIR)) > 0:\n",
        "  for file in os.scandir(TRAINING_COOK_DIR):\n",
        "    os.remove(file.path)\n",
        "if len(os.listdir(TRAINING_AIDKIT_DIR)) > 0:\n",
        "  for file in os.scandir(TRAINING_AIDKIT_DIR):\n",
        "    os.remove(file.path)\n",
        "# if len(os.listdir(TRAINING_GELAS_dir)) > 0:\n",
        "#   for file in os.scandir(TRAINING_GELAS_dir):\n",
        "#     os.remove(file.path)\n",
        "if len(os.listdir(TRAINING_HAT_dir)) > 0:\n",
        "  for file in os.scandir(TRAINING_HAT_dir):\n",
        "    os.remove(file.path)\n",
        "if len(os.listdir(TRAINING_HEADLAMP_dir)) > 0:\n",
        "  for file in os.scandir(TRAINING_HEADLAMP_dir):\n",
        "    os.remove(file.path)\n",
        "if len(os.listdir(TRAINING_KNIFE_dir)) > 0:\n",
        "  for file in os.scandir(TRAINING_KNIFE_dir):\n",
        "    os.remove(file.path)\n",
        "# if len(os.listdir(TRAINING_LAMPU_dir)) > 0:\n",
        "#   for file in os.scandir(TRAINING_LAMPU_dir):\n",
        "#     os.remove(file.path)\n",
        "# if len(os.listdir(TRAINING_POWER_dir)) > 0:\n",
        "#   for file in os.scandir(TRAINING_POWER_dir):\n",
        "#     os.remove(file.path)\n",
        "if len(os.listdir(TRAINING_RAIN_dir)) > 0:\n",
        "  for file in os.scandir(TRAINING_RAIN_dir):\n",
        "    os.remove(file.path)\n",
        "# if len(os.listdir(TRAINING_SARUNG_dir)) > 0:\n",
        "#   for file in os.scandir(TRAINING_SARUNG_dir):\n",
        "#     os.remove(file.path)\n",
        "# if len(os.listdir(TRAINING_TOWEL_dir)) > 0:\n",
        "#   for file in os.scandir(TRAINING_TOWEL_dir):\n",
        "#     os.remove(file.path)\n",
        "# if len(os.listdir(TRAINING_SOCKS_dir)) > 0:\n",
        "#   for file in os.scandir(TRAINING_SOCKS_dir):\n",
        "#     os.remove(file.path)\n",
        "# if len(os.listdir(TRAINING_TRASH_dir)) > 0:\n",
        "#   for file in os.scandir(TRAINING_TRASH_dir):\n",
        "#     os.remove(file.path)\n",
        "if len(os.listdir(TRAINING_POLE_dir)) > 0:\n",
        "  for file in os.scandir(TRAINING_POLE_dir):\n",
        "    os.remove(file.path)\n",
        "if len(os.listdir(TRAINING_FLASHS_DIR)) > 0:\n",
        "  for file in os.scandir(TRAINING_FLASHS_DIR):\n",
        "    os.remove(file.path)\n",
        "# if len(os.listdir(TRAINING_BOTOLS_DIR)) > 0:\n",
        "#   for file in os.scandir(TRAINING_BOTOLS_DIR):\n",
        "#     os.remove(file.path)\n",
        "if len(os.listdir(TRAINING_JACKET_DIR)) > 0:\n",
        "  for file in os.scandir(TRAINING_JACKET_DIR):\n",
        "    os.remove(file.path)\n",
        "if len(os.listdir(TRAINING_backpack_dir)) > 0:\n",
        "  for file in os.scandir(TRAINING_backpack_dir):\n",
        "    os.remove(file.path)\n",
        "if len(os.listdir(TRAINING_matras_dir)) > 0:\n",
        "  for file in os.scandir(TRAINING_matras_dir):\n",
        "    os.remove(file.path)\n",
        "if len(os.listdir(TRAINING_sandal_dir)) > 0:\n",
        "  for file in os.scandir(TRAINING_sandal_dir):\n",
        "    os.remove(file.path)\n",
        "# if len(os.listdir(TRAINING_shoes_dir)) > 0:\n",
        "#   for file in os.scandir(TRAINING_shoes_dir):\n",
        "#     os.remove(file.path)\n",
        "if len(os.listdir(TRAINING_sleep_dir)) > 0:\n",
        "  for file in os.scandir(TRAINING_sleep_dir):\n",
        "    os.remove(file.path)\n",
        "# if len(os.listdir(TRAINING_tent_dir)) > 0:\n",
        "#   for file in os.scandir(TRAINING_tent_dir):\n",
        "#     os.remove(file.path)\n",
        "if len(os.listdir(TRAINING_trousers_dir)) > 0:\n",
        "  for file in os.scandir(TRAINING_trousers_dir):\n",
        "    os.remove(file.path)\n",
        "# if len(os.listdir(TRAINING_shirt_dir)) > 0:\n",
        "#   for file in os.scandir(TRAINING_shirt_dir):\n",
        "#     os.remove(file.path)\n",
        "# if len(os.listdir(TRAINING_gas_dir)) > 0:\n",
        "#   for file in os.scandir(TRAINING_gas_dir):\n",
        "#     os.remove(file.path)\n",
        "if len(os.listdir(TRAINING_stove_dir)) > 0:\n",
        "  for file in os.scandir(TRAINING_stove_dir):\n",
        "    os.remove(file.path)\n",
        "# if len(os.listdir(VALIDATION_BATERAI_DIR)) > 0:\n",
        "#   for file in os.scandir(VALIDATION_BATERAI_DIR):\n",
        "#     os.remove(file.path)\n",
        "# if len(os.listdir(VALIDATION_CAP_DIR)) > 0:\n",
        "#   for file in os.scandir(VALIDATION_CAP_DIR):\n",
        "#     os.remove(file.path)\n",
        "if len(os.listdir(VALIDATION_COOK_DIR)) > 0:\n",
        "  for file in os.scandir(VALIDATION_COOK_DIR):\n",
        "    os.remove(file.path)\n",
        "if len(os.listdir(VALIDATION_AIDKIT_DIR)) > 0:\n",
        "  for file in os.scandir(VALIDATION_AIDKIT_DIR):\n",
        "    os.remove(file.path)\n",
        "# if len(os.listdir(VALIDATION_GELAS_dir)) > 0:\n",
        "#   for file in os.scandir(VALIDATION_GELAS_dir):\n",
        "#     os.remove(file.path)\n",
        "if len(os.listdir(VALIDATION_HAT_dir)) > 0:\n",
        "  for file in os.scandir(VALIDATION_HAT_dir):\n",
        "    os.remove(file.path)\n",
        "if len(os.listdir(VALIDATION_HEADLAMP_dir)) > 0:\n",
        "  for file in os.scandir(VALIDATION_HEADLAMP_dir):\n",
        "    os.remove(file.path)\n",
        "if len(os.listdir(VALIDATION_KNIFE_dir)) > 0:\n",
        "  for file in os.scandir(VALIDATION_KNIFE_dir):\n",
        "    os.remove(file.path)\n",
        "# if len(os.listdir(VALIDATION_LAMPU_dir)) > 0:\n",
        "#   for file in os.scandir(VALIDATION_LAMPU_dir):\n",
        "#     os.remove(file.path)\n",
        "# if len(os.listdir(VALIDATION_POWER_dir)) > 0:\n",
        "#   for file in os.scandir(VALIDATION_POWER_dir):\n",
        "#     os.remove(file.path)\n",
        "if len(os.listdir(VALIDATION_RAIN_dir)) > 0:\n",
        "  for file in os.scandir(VALIDATION_RAIN_dir):\n",
        "    os.remove(file.path)\n",
        "# if len(os.listdir(VALIDATION_SARUNG_dir)) > 0:\n",
        "#   for file in os.scandir(VALIDATION_SARUNG_dir):\n",
        "#     os.remove(file.path)\n",
        "# if len(os.listdir(VALIDATION_TOWEL_dir)) > 0:\n",
        "#   for file in os.scandir(VALIDATION_TOWEL_dir):\n",
        "#     os.remove(file.path)\n",
        "# if len(os.listdir(VALIDATION_SOCKS_dir)) > 0:\n",
        "#   for file in os.scandir(VALIDATION_SOCKS_dir):\n",
        "#     os.remove(file.path)\n",
        "# if len(os.listdir(VALIDATION_TRASH_dir)) > 0:\n",
        "#   for file in os.scandir(VALIDATION_TRASH_dir):\n",
        "#     os.remove(file.path)\n",
        "if len(os.listdir(VALIDATION_POLE_dir)) > 0:\n",
        "  for file in os.scandir(VALIDATION_POLE_dir):\n",
        "    os.remove(file.path)\n",
        "if len(os.listdir(VALIDATION_FLASHS_DIR)) > 0:\n",
        "  for file in os.scandir(VALIDATION_FLASHS_DIR):\n",
        "    os.remove(file.path)\n",
        "if len(os.listdir(VALIDATION_JACKET_DIR)) > 0:\n",
        "  for file in os.scandir(VALIDATION_JACKET_DIR):\n",
        "    os.remove(file.path)\n",
        "# if len(os.listdir(VALIDATION_BOTOLS_DIR)) > 0:\n",
        "#   for file in os.scandir(VALIDATION_BOTOLS_DIR):\n",
        "#     os.remove(file.path)\n",
        "if len(os.listdir(VALIDATION_backpack_dir)) > 0:\n",
        "  for file in os.scandir(VALIDATION_backpack_dir):\n",
        "    os.remove(file.path)\n",
        "if len(os.listdir(VALIDATION_matras_dir)) > 0:\n",
        "  for file in os.scandir(VALIDATION_matras_dir):\n",
        "    os.remove(file.path)\n",
        "if len(os.listdir(VALIDATION_sandal_dir)) > 0:\n",
        "  for file in os.scandir(VALIDATION_sandal_dir):\n",
        "    os.remove(file.path)\n",
        "# if len(os.listdir(VALIDATION_gas_dir)) > 0:\n",
        "#   for file in os.scandir(VALIDATION_gas_dir):\n",
        "#     os.remove(file.path)\n",
        "if len(os.listdir(VALIDATION_stove_dir)) > 0:\n",
        "  for file in os.scandir(VALIDATION_stove_dir):\n",
        "    os.remove(file.path)\n",
        "# if len(os.listdir(VALIDATION_shoes_dir)) > 0:\n",
        "#   for file in os.scandir(VALIDATION_shoes_dir):\n",
        "#     os.remove(file.path)\n",
        "if len(os.listdir(VALIDATION_sleep_dir)) > 0:\n",
        "  for file in os.scandir(VALIDATION_sleep_dir):\n",
        "    os.remove(file.path)\n",
        "# if len(os.listdir(VALIDATION_shirt_dir)) > 0:\n",
        "#   for file in os.scandir(VALIDATION_shirt_dir):\n",
        "#     os.remove(file.path)\n",
        "# if len(os.listdir(VALIDATION_tent_dir)) > 0:\n",
        "#   for file in os.scandir(VALIDATION_tent_dir):\n",
        "#     os.remove(file.path)\n",
        "if len(os.listdir(VALIDATION_trousers_dir)) > 0:\n",
        "  for file in os.scandir(VALIDATION_trousers_dir):\n",
        "    os.remove(file.path)\n",
        "\n",
        "# Define proportion of images used for training\n",
        "split_size = .9\n",
        "\n",
        "# Run the function\n",
        "# NOTE: Messages about zero length images should be printed out\n",
        "# split_data(BATERAI_SOURCE_DIR, TRAINING_BATERAI_DIR, VALIDATION_BATERAI_DIR, split_size)\n",
        "split_data(CAP_SOURCE_DIR, TRAINING_HAT_dir, VALIDATION_HAT_dir, split_size)\n",
        "split_data(COOK_SOURCE_DIR, TRAINING_COOK_DIR, VALIDATION_COOK_DIR, split_size)\n",
        "split_data(AIDKIT_SOURCE_DIR, TRAINING_AIDKIT_DIR, VALIDATION_AIDKIT_DIR, split_size)\n",
        "# split_data(GELAS_SOURCE_DIR, TRAINING_GELAS_dir, VALIDATION_GELAS_dir, split_size)\n",
        "split_data(HAT_SOURCE_DIR, TRAINING_HAT_dir, VALIDATION_HAT_dir, split_size)\n",
        "split_data(HEADLAMP_SOURCE_DIR, TRAINING_HEADLAMP_dir, VALIDATION_HEADLAMP_dir, split_size)\n",
        "split_data(KNIFE_SOURCE_DIR, TRAINING_KNIFE_dir, VALIDATION_KNIFE_dir, split_size)\n",
        "# split_data(LAMPU_SOURCE_DIR, TRAINING_LAMPU_dir, VALIDATION_LAMPU_dir, split_size)\n",
        "# split_data(POWER_SOURCE_DIR, TRAINING_POWER_dir, VALIDATION_POWER_dir, split_size)\n",
        "split_data(RAIN_SOURCE_DIR, TRAINING_RAIN_dir, VALIDATION_RAIN_dir, split_size)\n",
        "# split_data(SARUNG_SOURCE_DIR, TRAINING_SARUNG_dir, VALIDATION_SARUNG_dir, split_size)\n",
        "# split_data(SOCKS_SOURCE_DIR, TRAINING_SOCKS_dir, VALIDATION_SOCKS_dir, split_size)\n",
        "# split_data(TOWEL_SOURCE_DIR, TRAINING_TOWEL_dir, VALIDATION_TOWEL_dir, split_size)\n",
        "# split_data(TRASH_SOURCE_DIR, TRAINING_TRASH_dir, VALIDATION_TRASH_dir, split_size)\n",
        "split_data(POLE_SOURCE_DIR, TRAINING_POLE_dir, VALIDATION_POLE_dir, split_size)\n",
        "split_data(FLASH_SOURCE_DIR, TRAINING_FLASHS_DIR, VALIDATION_FLASHS_DIR, split_size)\n",
        "# split_data(BOTOL_SOURCE_DIR, TRAINING_BOTOLS_DIR, VALIDATION_BOTOLS_DIR, split_size)\n",
        "split_data(JACKET_SOURCE_DIR, TRAINING_JACKET_DIR, VALIDATION_JACKET_DIR, split_size)\n",
        "split_data(BACKPACK_SOURCE_DIR, TRAINING_backpack_dir, VALIDATION_backpack_dir, split_size)\n",
        "split_data(MATRAS_SOURCE_DIR, TRAINING_matras_dir, VALIDATION_matras_dir, split_size)\n",
        "split_data(SANDAL_SOURCE_DIR, TRAINING_sandal_dir, VALIDATION_sandal_dir, split_size)\n",
        "split_data(GAS_SOURCE_DIR, TRAINING_stove_dir, VALIDATION_stove_dir, split_size)\n",
        "split_data(STOVE_SOURCE_DIR, TRAINING_stove_dir, VALIDATION_stove_dir, split_size)\n",
        "split_data(SHOES_SOURCE_DIR, TRAINING_sandal_dir, VALIDATION_sandal_dir, split_size)\n",
        "split_data(SLEEP_SOURCE_DIR, TRAINING_sleep_dir, VALIDATION_sleep_dir, split_size)\n",
        "# split_data(TENT_SOURCE_DIR, TRAINING_tent_dir, VALIDATION_tent_dir, split_size)\n",
        "split_data(TROUSERS_SOURCE_DIR, TRAINING_trousers_dir, VALIDATION_trousers_dir, split_size)\n",
        "# split_data(SHIRT_SOURCE_DIR, TRAINING_shirt_dir, VALIDATION_shirt_dir, split_size)\n",
        "\n",
        "# Your function should perform copies rather than moving images so original directories should contain unchanged images\n",
        "print(f\"\\n\\nOriginal Flashlight's directory has {len(os.listdir(FLASH_SOURCE_DIR))} images\")\n",
        "print(f\"Original Cap's directory has {len(os.listdir(CAP_SOURCE_DIR))} images\\n\")\n",
        "\n",
        "# Training and validation splits. Check that the number of images matches the expected output.\n",
        "faris = os.listdir(TRAINING_DIR)\n",
        "kuni = os.listdir(VALIDATION_DIR)\n",
        "for i in faris:\n",
        "  print(f\"There are {len(os.listdir(TRAINING_DIR+'//'+i))} images of {i} for training\")\n",
        "\n",
        "for j in kuni:\n",
        "   print(f\"There are {len(os.listdir(VALIDATION_DIR+'//'+j))} images of {j} for validation\")"
      ]
    },
    {
      "cell_type": "code",
      "execution_count": null,
      "metadata": {
        "id": "QQBk_fJCGbQk"
      },
      "outputs": [],
      "source": [
        "def train_val_generators(TRAINING_DIR, VALIDATION_DIR):\n",
        "  \"\"\"\n",
        "  Creates the training and validation data generators\n",
        "\n",
        "  Args:\n",
        "    TRAINING_DIR (string): directory path containing the training images\n",
        "    VALIDATION_DIR (string): directory path containing the testing/validation images\n",
        "\n",
        "  Returns:\n",
        "    train_generator, validation_generator - tuple containing the generators\n",
        "  \"\"\"\n",
        "  ### START CODE HERE\n",
        "\n",
        "  # Instantiate the ImageDataGenerator class (don't forget to set the arguments to augment the images)\n",
        "  # train_datagen = ImageDataGenerator(rotation_range=30,\n",
        "  #                                    rescale=1./255,\n",
        "  #                                    shear_range=0.2,\n",
        "  #                                    zoom_range=0.2,\n",
        "  #                                    horizontal_flip=True)\n",
        "  train_datagen = ImageDataGenerator(\n",
        "    rotation_range=30,\n",
        "    rescale=1./255,\n",
        "    shear_range=0.2,\n",
        "    zoom_range=0.2,\n",
        "    horizontal_flip=True,\n",
        "    width_shift_range=0.1,\n",
        "    height_shift_range=0.1,\n",
        "    brightness_range=[0.8, 1.2])\n",
        "\n",
        "  # Pass in the appropriate arguments to the flow_from_directory method\n",
        "  train_generator = train_datagen.flow_from_directory(directory=TRAINING_DIR,\n",
        "                                                      batch_size=64,\n",
        "                                                      target_size=(256, 256))\n",
        "\n",
        "  # Instantiate the ImageDataGenerator class (don't forget to set the rescale argument)\n",
        "  validation_datagen = ImageDataGenerator(rescale=1/255)\n",
        "\n",
        "  # Pass in the appropriate arguments to the flow_from_directory method\n",
        "  validation_generator = validation_datagen.flow_from_directory(directory=VALIDATION_DIR,\n",
        "                                                                batch_size=25,\n",
        "                                                                target_size=(256, 256))\n",
        "  ### END CODE HERE\n",
        "  return train_generator, validation_generator"
      ]
    },
    {
      "cell_type": "code",
      "execution_count": null,
      "metadata": {
        "colab": {
          "base_uri": "https://localhost:8080/"
        },
        "id": "bFfl_z8VGbQl",
        "outputId": "1faef27b-2416-4f13-966e-cd3cb9d9a638"
      },
      "outputs": [
        {
          "name": "stdout",
          "output_type": "stream",
          "text": [
            "Found 7653 images belonging to 15 classes.\n",
            "Found 870 images belonging to 15 classes.\n"
          ]
        }
      ],
      "source": [
        "train_generator, validation_generator = train_val_generators(TRAINING_DIR, VALIDATION_DIR)"
      ]
    },
    {
      "cell_type": "code",
      "execution_count": null,
      "metadata": {
        "id": "c2DX9yDGX_4q"
      },
      "outputs": [],
      "source": [
        "y_train = train_generator.classes"
      ]
    },
    {
      "cell_type": "code",
      "execution_count": null,
      "metadata": {
        "id": "Rw-KSk0EYIg0"
      },
      "outputs": [],
      "source": [
        "class_weight = compute_class_weight(class_weight='balanced',\n",
        "                                    classes=np.unique(y_train),\n",
        "                                    y=y_train)\n",
        "class_weight = 1/class_weight\n",
        "\n",
        "weight = {i : class_weight[i] for i in range(15)}"
      ]
    },
    {
      "cell_type": "code",
      "execution_count": null,
      "metadata": {
        "id": "a-3rYg9WrUaf"
      },
      "outputs": [],
      "source": [
        "class myCallback(tf.keras.callbacks.Callback):\n",
        "  def on_epoch_end(self, epoch, logs={}):\n",
        "    if(logs.get('accuracy')>0.999):\n",
        "      print(\"\\nReached 99.9% accuracy so cancelling training!\")\n",
        "      self.model.stop_training = True"
      ]
    },
    {
      "cell_type": "code",
      "execution_count": null,
      "metadata": {
        "id": "B3M0IC-FdNTm"
      },
      "outputs": [],
      "source": [
        "early_stopping = EarlyStopping(patience=5)\n",
        "\n",
        "class LearningRateScheduler(Callback):\n",
        "    def __init__(self, schedule):\n",
        "        super(LearningRateScheduler, self).__init__()\n",
        "        self.schedule = schedule\n",
        "\n",
        "    def on_epoch_begin(self, epoch, logs=None):\n",
        "        if not hasattr(self.model.optimizer, 'lr'):\n",
        "            raise ValueError('Optimizer must have a \"lr\" attribute.')\n",
        "        lr = float(tf.keras.backend.get_value(self.model.optimizer.lr))\n",
        "        scheduled_lr = self.schedule(epoch, lr)\n",
        "        tf.keras.backend.set_value(self.model.optimizer.lr, scheduled_lr)\n",
        "        print(f'\\nLearning rate for epoch {epoch+1} is set to {scheduled_lr}')\n",
        "\n",
        "def learning_rate_schedule(epoch, lr):\n",
        "    if epoch < 4:\n",
        "        return lr  # Keep the initial learning rate for the first 4 epochs\n",
        "    else:\n",
        "        return lr * tf.math.exp(-0.1)  # Reduce the learning rate by a factor of 10 every 1 epoch\n",
        "\n",
        "lr_scheduler = LearningRateScheduler(learning_rate_schedule)\n",
        "callbacks = [lr_scheduler]"
      ]
    },
    {
      "cell_type": "markdown",
      "metadata": {
        "id": "ohZ1pjdsTeS2"
      },
      "source": [
        "# Model InceptionV3"
      ]
    },
    {
      "cell_type": "code",
      "execution_count": null,
      "metadata": {
        "id": "rX1gaCwMp2il"
      },
      "outputs": [],
      "source": [
        "from tensorflow.keras.applications.inception_v3 import InceptionV3"
      ]
    },
    {
      "cell_type": "code",
      "execution_count": null,
      "metadata": {
        "id": "yNuBZ1-sqEGy"
      },
      "outputs": [],
      "source": [
        "def create_pre_trained_model(local_weights_file):\n",
        "  \"\"\"\n",
        "  Initializes an InceptionV3 model.\n",
        "\n",
        "  Args:\n",
        "    local_weights_file (string): path pointing to a pretrained weights H5 file\n",
        "\n",
        "  Returns:\n",
        "    pre_trained_model: the initialized InceptionV3 model\n",
        "  \"\"\"\n",
        "  ### START CODE HERE\n",
        "  pre_trained_model = InceptionV3(input_shape = (256, 256, 3),\n",
        "                                include_top = False,\n",
        "                                weights = None)\n",
        "\n",
        "  pre_trained_model.load_weights(local_weights_file)\n",
        "\n",
        "  pre_trained_model.trainable = True\n",
        "\n",
        "\n",
        "  for layer in pre_trained_model.layers[:40]:\n",
        "    layer.trainable = False\n",
        "\n",
        "  ### END CODE HERE\n",
        "\n",
        "  return pre_trained_model"
      ]
    },
    {
      "cell_type": "code",
      "execution_count": null,
      "metadata": {
        "colab": {
          "base_uri": "https://localhost:8080/"
        },
        "id": "MHD_loxzqUHw",
        "outputId": "034e499b-69a8-4f6c-bd86-fc02b263e8cb"
      },
      "outputs": [
        {
          "name": "stdout",
          "output_type": "stream",
          "text": [
            "--2023-06-12 14:57:05--  https://storage.googleapis.com/mledu-datasets/inception_v3_weights_tf_dim_ordering_tf_kernels_notop.h5\n",
            "Resolving storage.googleapis.com (storage.googleapis.com)... 142.251.18.128, 142.250.153.128, 142.250.145.128, ...\n",
            "Connecting to storage.googleapis.com (storage.googleapis.com)|142.251.18.128|:443... connected.\n",
            "HTTP request sent, awaiting response... 200 OK\n",
            "Length: 87910968 (84M) [application/x-hdf]\n",
            "Saving to: ‘/tmp/inception_v3_weights_tf_dim_ordering_tf_kernels_notop.h5’\n",
            "\n",
            "/tmp/inception_v3_w 100%[===================>]  83.84M  26.2MB/s    in 3.2s    \n",
            "\n",
            "2023-06-12 14:57:09 (26.2 MB/s) - ‘/tmp/inception_v3_weights_tf_dim_ordering_tf_kernels_notop.h5’ saved [87910968/87910968]\n",
            "\n"
          ]
        }
      ],
      "source": [
        "!wget --no-check-certificate \\\n",
        "    https://storage.googleapis.com/mledu-datasets/inception_v3_weights_tf_dim_ordering_tf_kernels_notop.h5 \\\n",
        "    -O /tmp/inception_v3_weights_tf_dim_ordering_tf_kernels_notop.h5\n",
        "local_weights_file = '/tmp/inception_v3_weights_tf_dim_ordering_tf_kernels_notop.h5'"
      ]
    },
    {
      "cell_type": "code",
      "execution_count": null,
      "metadata": {
        "colab": {
          "base_uri": "https://localhost:8080/"
        },
        "id": "hbKJyv65qL7C",
        "outputId": "beb4ec5d-f981-4df0-b7a9-b51c54a4f524"
      },
      "outputs": [
        {
          "name": "stdout",
          "output_type": "stream",
          "text": [
            "Model: \"inception_v3\"\n",
            "__________________________________________________________________________________________________\n",
            " Layer (type)                   Output Shape         Param #     Connected to                     \n",
            "==================================================================================================\n",
            " input_2 (InputLayer)           [(None, 256, 256, 3  0           []                               \n",
            "                                )]                                                                \n",
            "                                                                                                  \n",
            " conv2d_94 (Conv2D)             (None, 127, 127, 32  864         ['input_2[0][0]']                \n",
            "                                )                                                                 \n",
            "                                                                                                  \n",
            " batch_normalization_96 (BatchN  (None, 127, 127, 32  96         ['conv2d_94[0][0]']              \n",
            " ormalization)                  )                                                                 \n",
            "                                                                                                  \n",
            " activation_94 (Activation)     (None, 127, 127, 32  0           ['batch_normalization_96[0][0]'] \n",
            "                                )                                                                 \n",
            "                                                                                                  \n",
            " conv2d_95 (Conv2D)             (None, 125, 125, 32  9216        ['activation_94[0][0]']          \n",
            "                                )                                                                 \n",
            "                                                                                                  \n",
            " batch_normalization_97 (BatchN  (None, 125, 125, 32  96         ['conv2d_95[0][0]']              \n",
            " ormalization)                  )                                                                 \n",
            "                                                                                                  \n",
            " activation_95 (Activation)     (None, 125, 125, 32  0           ['batch_normalization_97[0][0]'] \n",
            "                                )                                                                 \n",
            "                                                                                                  \n",
            " conv2d_96 (Conv2D)             (None, 125, 125, 64  18432       ['activation_95[0][0]']          \n",
            "                                )                                                                 \n",
            "                                                                                                  \n",
            " batch_normalization_98 (BatchN  (None, 125, 125, 64  192        ['conv2d_96[0][0]']              \n",
            " ormalization)                  )                                                                 \n",
            "                                                                                                  \n",
            " activation_96 (Activation)     (None, 125, 125, 64  0           ['batch_normalization_98[0][0]'] \n",
            "                                )                                                                 \n",
            "                                                                                                  \n",
            " max_pooling2d_4 (MaxPooling2D)  (None, 62, 62, 64)  0           ['activation_96[0][0]']          \n",
            "                                                                                                  \n",
            " conv2d_97 (Conv2D)             (None, 62, 62, 80)   5120        ['max_pooling2d_4[0][0]']        \n",
            "                                                                                                  \n",
            " batch_normalization_99 (BatchN  (None, 62, 62, 80)  240         ['conv2d_97[0][0]']              \n",
            " ormalization)                                                                                    \n",
            "                                                                                                  \n",
            " activation_97 (Activation)     (None, 62, 62, 80)   0           ['batch_normalization_99[0][0]'] \n",
            "                                                                                                  \n",
            " conv2d_98 (Conv2D)             (None, 60, 60, 192)  138240      ['activation_97[0][0]']          \n",
            "                                                                                                  \n",
            " batch_normalization_100 (Batch  (None, 60, 60, 192)  576        ['conv2d_98[0][0]']              \n",
            " Normalization)                                                                                   \n",
            "                                                                                                  \n",
            " activation_98 (Activation)     (None, 60, 60, 192)  0           ['batch_normalization_100[0][0]']\n",
            "                                                                                                  \n",
            " max_pooling2d_5 (MaxPooling2D)  (None, 29, 29, 192)  0          ['activation_98[0][0]']          \n",
            "                                                                                                  \n",
            " conv2d_102 (Conv2D)            (None, 29, 29, 64)   12288       ['max_pooling2d_5[0][0]']        \n",
            "                                                                                                  \n",
            " batch_normalization_104 (Batch  (None, 29, 29, 64)  192         ['conv2d_102[0][0]']             \n",
            " Normalization)                                                                                   \n",
            "                                                                                                  \n",
            " activation_102 (Activation)    (None, 29, 29, 64)   0           ['batch_normalization_104[0][0]']\n",
            "                                                                                                  \n",
            " conv2d_100 (Conv2D)            (None, 29, 29, 48)   9216        ['max_pooling2d_5[0][0]']        \n",
            "                                                                                                  \n",
            " conv2d_103 (Conv2D)            (None, 29, 29, 96)   55296       ['activation_102[0][0]']         \n",
            "                                                                                                  \n",
            " batch_normalization_102 (Batch  (None, 29, 29, 48)  144         ['conv2d_100[0][0]']             \n",
            " Normalization)                                                                                   \n",
            "                                                                                                  \n",
            " batch_normalization_105 (Batch  (None, 29, 29, 96)  288         ['conv2d_103[0][0]']             \n",
            " Normalization)                                                                                   \n",
            "                                                                                                  \n",
            " activation_100 (Activation)    (None, 29, 29, 48)   0           ['batch_normalization_102[0][0]']\n",
            "                                                                                                  \n",
            " activation_103 (Activation)    (None, 29, 29, 96)   0           ['batch_normalization_105[0][0]']\n",
            "                                                                                                  \n",
            " average_pooling2d_9 (AveragePo  (None, 29, 29, 192)  0          ['max_pooling2d_5[0][0]']        \n",
            " oling2D)                                                                                         \n",
            "                                                                                                  \n",
            " conv2d_99 (Conv2D)             (None, 29, 29, 64)   12288       ['max_pooling2d_5[0][0]']        \n",
            "                                                                                                  \n",
            " conv2d_101 (Conv2D)            (None, 29, 29, 64)   76800       ['activation_100[0][0]']         \n",
            "                                                                                                  \n",
            " conv2d_104 (Conv2D)            (None, 29, 29, 96)   82944       ['activation_103[0][0]']         \n",
            "                                                                                                  \n",
            " conv2d_105 (Conv2D)            (None, 29, 29, 32)   6144        ['average_pooling2d_9[0][0]']    \n",
            "                                                                                                  \n",
            " batch_normalization_101 (Batch  (None, 29, 29, 64)  192         ['conv2d_99[0][0]']              \n",
            " Normalization)                                                                                   \n",
            "                                                                                                  \n",
            " batch_normalization_103 (Batch  (None, 29, 29, 64)  192         ['conv2d_101[0][0]']             \n",
            " Normalization)                                                                                   \n",
            "                                                                                                  \n",
            " batch_normalization_106 (Batch  (None, 29, 29, 96)  288         ['conv2d_104[0][0]']             \n",
            " Normalization)                                                                                   \n",
            "                                                                                                  \n",
            " batch_normalization_107 (Batch  (None, 29, 29, 32)  96          ['conv2d_105[0][0]']             \n",
            " Normalization)                                                                                   \n",
            "                                                                                                  \n",
            " activation_99 (Activation)     (None, 29, 29, 64)   0           ['batch_normalization_101[0][0]']\n",
            "                                                                                                  \n",
            " activation_101 (Activation)    (None, 29, 29, 64)   0           ['batch_normalization_103[0][0]']\n",
            "                                                                                                  \n",
            " activation_104 (Activation)    (None, 29, 29, 96)   0           ['batch_normalization_106[0][0]']\n",
            "                                                                                                  \n",
            " activation_105 (Activation)    (None, 29, 29, 32)   0           ['batch_normalization_107[0][0]']\n",
            "                                                                                                  \n",
            " mixed0 (Concatenate)           (None, 29, 29, 256)  0           ['activation_99[0][0]',          \n",
            "                                                                  'activation_101[0][0]',         \n",
            "                                                                  'activation_104[0][0]',         \n",
            "                                                                  'activation_105[0][0]']         \n",
            "                                                                                                  \n",
            " conv2d_109 (Conv2D)            (None, 29, 29, 64)   16384       ['mixed0[0][0]']                 \n",
            "                                                                                                  \n",
            " batch_normalization_111 (Batch  (None, 29, 29, 64)  192         ['conv2d_109[0][0]']             \n",
            " Normalization)                                                                                   \n",
            "                                                                                                  \n",
            " activation_109 (Activation)    (None, 29, 29, 64)   0           ['batch_normalization_111[0][0]']\n",
            "                                                                                                  \n",
            " conv2d_107 (Conv2D)            (None, 29, 29, 48)   12288       ['mixed0[0][0]']                 \n",
            "                                                                                                  \n",
            " conv2d_110 (Conv2D)            (None, 29, 29, 96)   55296       ['activation_109[0][0]']         \n",
            "                                                                                                  \n",
            " batch_normalization_109 (Batch  (None, 29, 29, 48)  144         ['conv2d_107[0][0]']             \n",
            " Normalization)                                                                                   \n",
            "                                                                                                  \n",
            " batch_normalization_112 (Batch  (None, 29, 29, 96)  288         ['conv2d_110[0][0]']             \n",
            " Normalization)                                                                                   \n",
            "                                                                                                  \n",
            " activation_107 (Activation)    (None, 29, 29, 48)   0           ['batch_normalization_109[0][0]']\n",
            "                                                                                                  \n",
            " activation_110 (Activation)    (None, 29, 29, 96)   0           ['batch_normalization_112[0][0]']\n",
            "                                                                                                  \n",
            " average_pooling2d_10 (AverageP  (None, 29, 29, 256)  0          ['mixed0[0][0]']                 \n",
            " ooling2D)                                                                                        \n",
            "                                                                                                  \n",
            " conv2d_106 (Conv2D)            (None, 29, 29, 64)   16384       ['mixed0[0][0]']                 \n",
            "                                                                                                  \n",
            " conv2d_108 (Conv2D)            (None, 29, 29, 64)   76800       ['activation_107[0][0]']         \n",
            "                                                                                                  \n",
            " conv2d_111 (Conv2D)            (None, 29, 29, 96)   82944       ['activation_110[0][0]']         \n",
            "                                                                                                  \n",
            " conv2d_112 (Conv2D)            (None, 29, 29, 64)   16384       ['average_pooling2d_10[0][0]']   \n",
            "                                                                                                  \n",
            " batch_normalization_108 (Batch  (None, 29, 29, 64)  192         ['conv2d_106[0][0]']             \n",
            " Normalization)                                                                                   \n",
            "                                                                                                  \n",
            " batch_normalization_110 (Batch  (None, 29, 29, 64)  192         ['conv2d_108[0][0]']             \n",
            " Normalization)                                                                                   \n",
            "                                                                                                  \n",
            " batch_normalization_113 (Batch  (None, 29, 29, 96)  288         ['conv2d_111[0][0]']             \n",
            " Normalization)                                                                                   \n",
            "                                                                                                  \n",
            " batch_normalization_114 (Batch  (None, 29, 29, 64)  192         ['conv2d_112[0][0]']             \n",
            " Normalization)                                                                                   \n",
            "                                                                                                  \n",
            " activation_106 (Activation)    (None, 29, 29, 64)   0           ['batch_normalization_108[0][0]']\n",
            "                                                                                                  \n",
            " activation_108 (Activation)    (None, 29, 29, 64)   0           ['batch_normalization_110[0][0]']\n",
            "                                                                                                  \n",
            " activation_111 (Activation)    (None, 29, 29, 96)   0           ['batch_normalization_113[0][0]']\n",
            "                                                                                                  \n",
            " activation_112 (Activation)    (None, 29, 29, 64)   0           ['batch_normalization_114[0][0]']\n",
            "                                                                                                  \n",
            " mixed1 (Concatenate)           (None, 29, 29, 288)  0           ['activation_106[0][0]',         \n",
            "                                                                  'activation_108[0][0]',         \n",
            "                                                                  'activation_111[0][0]',         \n",
            "                                                                  'activation_112[0][0]']         \n",
            "                                                                                                  \n",
            " conv2d_116 (Conv2D)            (None, 29, 29, 64)   18432       ['mixed1[0][0]']                 \n",
            "                                                                                                  \n",
            " batch_normalization_118 (Batch  (None, 29, 29, 64)  192         ['conv2d_116[0][0]']             \n",
            " Normalization)                                                                                   \n",
            "                                                                                                  \n",
            " activation_116 (Activation)    (None, 29, 29, 64)   0           ['batch_normalization_118[0][0]']\n",
            "                                                                                                  \n",
            " conv2d_114 (Conv2D)            (None, 29, 29, 48)   13824       ['mixed1[0][0]']                 \n",
            "                                                                                                  \n",
            " conv2d_117 (Conv2D)            (None, 29, 29, 96)   55296       ['activation_116[0][0]']         \n",
            "                                                                                                  \n",
            " batch_normalization_116 (Batch  (None, 29, 29, 48)  144         ['conv2d_114[0][0]']             \n",
            " Normalization)                                                                                   \n",
            "                                                                                                  \n",
            " batch_normalization_119 (Batch  (None, 29, 29, 96)  288         ['conv2d_117[0][0]']             \n",
            " Normalization)                                                                                   \n",
            "                                                                                                  \n",
            " activation_114 (Activation)    (None, 29, 29, 48)   0           ['batch_normalization_116[0][0]']\n",
            "                                                                                                  \n",
            " activation_117 (Activation)    (None, 29, 29, 96)   0           ['batch_normalization_119[0][0]']\n",
            "                                                                                                  \n",
            " average_pooling2d_11 (AverageP  (None, 29, 29, 288)  0          ['mixed1[0][0]']                 \n",
            " ooling2D)                                                                                        \n",
            "                                                                                                  \n",
            " conv2d_113 (Conv2D)            (None, 29, 29, 64)   18432       ['mixed1[0][0]']                 \n",
            "                                                                                                  \n",
            " conv2d_115 (Conv2D)            (None, 29, 29, 64)   76800       ['activation_114[0][0]']         \n",
            "                                                                                                  \n",
            " conv2d_118 (Conv2D)            (None, 29, 29, 96)   82944       ['activation_117[0][0]']         \n",
            "                                                                                                  \n",
            " conv2d_119 (Conv2D)            (None, 29, 29, 64)   18432       ['average_pooling2d_11[0][0]']   \n",
            "                                                                                                  \n",
            " batch_normalization_115 (Batch  (None, 29, 29, 64)  192         ['conv2d_113[0][0]']             \n",
            " Normalization)                                                                                   \n",
            "                                                                                                  \n",
            " batch_normalization_117 (Batch  (None, 29, 29, 64)  192         ['conv2d_115[0][0]']             \n",
            " Normalization)                                                                                   \n",
            "                                                                                                  \n",
            " batch_normalization_120 (Batch  (None, 29, 29, 96)  288         ['conv2d_118[0][0]']             \n",
            " Normalization)                                                                                   \n",
            "                                                                                                  \n",
            " batch_normalization_121 (Batch  (None, 29, 29, 64)  192         ['conv2d_119[0][0]']             \n",
            " Normalization)                                                                                   \n",
            "                                                                                                  \n",
            " activation_113 (Activation)    (None, 29, 29, 64)   0           ['batch_normalization_115[0][0]']\n",
            "                                                                                                  \n",
            " activation_115 (Activation)    (None, 29, 29, 64)   0           ['batch_normalization_117[0][0]']\n",
            "                                                                                                  \n",
            " activation_118 (Activation)    (None, 29, 29, 96)   0           ['batch_normalization_120[0][0]']\n",
            "                                                                                                  \n",
            " activation_119 (Activation)    (None, 29, 29, 64)   0           ['batch_normalization_121[0][0]']\n",
            "                                                                                                  \n",
            " mixed2 (Concatenate)           (None, 29, 29, 288)  0           ['activation_113[0][0]',         \n",
            "                                                                  'activation_115[0][0]',         \n",
            "                                                                  'activation_118[0][0]',         \n",
            "                                                                  'activation_119[0][0]']         \n",
            "                                                                                                  \n",
            " conv2d_121 (Conv2D)            (None, 29, 29, 64)   18432       ['mixed2[0][0]']                 \n",
            "                                                                                                  \n",
            " batch_normalization_123 (Batch  (None, 29, 29, 64)  192         ['conv2d_121[0][0]']             \n",
            " Normalization)                                                                                   \n",
            "                                                                                                  \n",
            " activation_121 (Activation)    (None, 29, 29, 64)   0           ['batch_normalization_123[0][0]']\n",
            "                                                                                                  \n",
            " conv2d_122 (Conv2D)            (None, 29, 29, 96)   55296       ['activation_121[0][0]']         \n",
            "                                                                                                  \n",
            " batch_normalization_124 (Batch  (None, 29, 29, 96)  288         ['conv2d_122[0][0]']             \n",
            " Normalization)                                                                                   \n",
            "                                                                                                  \n",
            " activation_122 (Activation)    (None, 29, 29, 96)   0           ['batch_normalization_124[0][0]']\n",
            "                                                                                                  \n",
            " conv2d_120 (Conv2D)            (None, 14, 14, 384)  995328      ['mixed2[0][0]']                 \n",
            "                                                                                                  \n",
            " conv2d_123 (Conv2D)            (None, 14, 14, 96)   82944       ['activation_122[0][0]']         \n",
            "                                                                                                  \n",
            " batch_normalization_122 (Batch  (None, 14, 14, 384)  1152       ['conv2d_120[0][0]']             \n",
            " Normalization)                                                                                   \n",
            "                                                                                                  \n",
            " batch_normalization_125 (Batch  (None, 14, 14, 96)  288         ['conv2d_123[0][0]']             \n",
            " Normalization)                                                                                   \n",
            "                                                                                                  \n",
            " activation_120 (Activation)    (None, 14, 14, 384)  0           ['batch_normalization_122[0][0]']\n",
            "                                                                                                  \n",
            " activation_123 (Activation)    (None, 14, 14, 96)   0           ['batch_normalization_125[0][0]']\n",
            "                                                                                                  \n",
            " max_pooling2d_6 (MaxPooling2D)  (None, 14, 14, 288)  0          ['mixed2[0][0]']                 \n",
            "                                                                                                  \n",
            " mixed3 (Concatenate)           (None, 14, 14, 768)  0           ['activation_120[0][0]',         \n",
            "                                                                  'activation_123[0][0]',         \n",
            "                                                                  'max_pooling2d_6[0][0]']        \n",
            "                                                                                                  \n",
            " conv2d_128 (Conv2D)            (None, 14, 14, 128)  98304       ['mixed3[0][0]']                 \n",
            "                                                                                                  \n",
            " batch_normalization_130 (Batch  (None, 14, 14, 128)  384        ['conv2d_128[0][0]']             \n",
            " Normalization)                                                                                   \n",
            "                                                                                                  \n",
            " activation_128 (Activation)    (None, 14, 14, 128)  0           ['batch_normalization_130[0][0]']\n",
            "                                                                                                  \n",
            " conv2d_129 (Conv2D)            (None, 14, 14, 128)  114688      ['activation_128[0][0]']         \n",
            "                                                                                                  \n",
            " batch_normalization_131 (Batch  (None, 14, 14, 128)  384        ['conv2d_129[0][0]']             \n",
            " Normalization)                                                                                   \n",
            "                                                                                                  \n",
            " activation_129 (Activation)    (None, 14, 14, 128)  0           ['batch_normalization_131[0][0]']\n",
            "                                                                                                  \n",
            " conv2d_125 (Conv2D)            (None, 14, 14, 128)  98304       ['mixed3[0][0]']                 \n",
            "                                                                                                  \n",
            " conv2d_130 (Conv2D)            (None, 14, 14, 128)  114688      ['activation_129[0][0]']         \n",
            "                                                                                                  \n",
            " batch_normalization_127 (Batch  (None, 14, 14, 128)  384        ['conv2d_125[0][0]']             \n",
            " Normalization)                                                                                   \n",
            "                                                                                                  \n",
            " batch_normalization_132 (Batch  (None, 14, 14, 128)  384        ['conv2d_130[0][0]']             \n",
            " Normalization)                                                                                   \n",
            "                                                                                                  \n",
            " activation_125 (Activation)    (None, 14, 14, 128)  0           ['batch_normalization_127[0][0]']\n",
            "                                                                                                  \n",
            " activation_130 (Activation)    (None, 14, 14, 128)  0           ['batch_normalization_132[0][0]']\n",
            "                                                                                                  \n",
            " conv2d_126 (Conv2D)            (None, 14, 14, 128)  114688      ['activation_125[0][0]']         \n",
            "                                                                                                  \n",
            " conv2d_131 (Conv2D)            (None, 14, 14, 128)  114688      ['activation_130[0][0]']         \n",
            "                                                                                                  \n",
            " batch_normalization_128 (Batch  (None, 14, 14, 128)  384        ['conv2d_126[0][0]']             \n",
            " Normalization)                                                                                   \n",
            "                                                                                                  \n",
            " batch_normalization_133 (Batch  (None, 14, 14, 128)  384        ['conv2d_131[0][0]']             \n",
            " Normalization)                                                                                   \n",
            "                                                                                                  \n",
            " activation_126 (Activation)    (None, 14, 14, 128)  0           ['batch_normalization_128[0][0]']\n",
            "                                                                                                  \n",
            " activation_131 (Activation)    (None, 14, 14, 128)  0           ['batch_normalization_133[0][0]']\n",
            "                                                                                                  \n",
            " average_pooling2d_12 (AverageP  (None, 14, 14, 768)  0          ['mixed3[0][0]']                 \n",
            " ooling2D)                                                                                        \n",
            "                                                                                                  \n",
            " conv2d_124 (Conv2D)            (None, 14, 14, 192)  147456      ['mixed3[0][0]']                 \n",
            "                                                                                                  \n",
            " conv2d_127 (Conv2D)            (None, 14, 14, 192)  172032      ['activation_126[0][0]']         \n",
            "                                                                                                  \n",
            " conv2d_132 (Conv2D)            (None, 14, 14, 192)  172032      ['activation_131[0][0]']         \n",
            "                                                                                                  \n",
            " conv2d_133 (Conv2D)            (None, 14, 14, 192)  147456      ['average_pooling2d_12[0][0]']   \n",
            "                                                                                                  \n",
            " batch_normalization_126 (Batch  (None, 14, 14, 192)  576        ['conv2d_124[0][0]']             \n",
            " Normalization)                                                                                   \n",
            "                                                                                                  \n",
            " batch_normalization_129 (Batch  (None, 14, 14, 192)  576        ['conv2d_127[0][0]']             \n",
            " Normalization)                                                                                   \n",
            "                                                                                                  \n",
            " batch_normalization_134 (Batch  (None, 14, 14, 192)  576        ['conv2d_132[0][0]']             \n",
            " Normalization)                                                                                   \n",
            "                                                                                                  \n",
            " batch_normalization_135 (Batch  (None, 14, 14, 192)  576        ['conv2d_133[0][0]']             \n",
            " Normalization)                                                                                   \n",
            "                                                                                                  \n",
            " activation_124 (Activation)    (None, 14, 14, 192)  0           ['batch_normalization_126[0][0]']\n",
            "                                                                                                  \n",
            " activation_127 (Activation)    (None, 14, 14, 192)  0           ['batch_normalization_129[0][0]']\n",
            "                                                                                                  \n",
            " activation_132 (Activation)    (None, 14, 14, 192)  0           ['batch_normalization_134[0][0]']\n",
            "                                                                                                  \n",
            " activation_133 (Activation)    (None, 14, 14, 192)  0           ['batch_normalization_135[0][0]']\n",
            "                                                                                                  \n",
            " mixed4 (Concatenate)           (None, 14, 14, 768)  0           ['activation_124[0][0]',         \n",
            "                                                                  'activation_127[0][0]',         \n",
            "                                                                  'activation_132[0][0]',         \n",
            "                                                                  'activation_133[0][0]']         \n",
            "                                                                                                  \n",
            " conv2d_138 (Conv2D)            (None, 14, 14, 160)  122880      ['mixed4[0][0]']                 \n",
            "                                                                                                  \n",
            " batch_normalization_140 (Batch  (None, 14, 14, 160)  480        ['conv2d_138[0][0]']             \n",
            " Normalization)                                                                                   \n",
            "                                                                                                  \n",
            " activation_138 (Activation)    (None, 14, 14, 160)  0           ['batch_normalization_140[0][0]']\n",
            "                                                                                                  \n",
            " conv2d_139 (Conv2D)            (None, 14, 14, 160)  179200      ['activation_138[0][0]']         \n",
            "                                                                                                  \n",
            " batch_normalization_141 (Batch  (None, 14, 14, 160)  480        ['conv2d_139[0][0]']             \n",
            " Normalization)                                                                                   \n",
            "                                                                                                  \n",
            " activation_139 (Activation)    (None, 14, 14, 160)  0           ['batch_normalization_141[0][0]']\n",
            "                                                                                                  \n",
            " conv2d_135 (Conv2D)            (None, 14, 14, 160)  122880      ['mixed4[0][0]']                 \n",
            "                                                                                                  \n",
            " conv2d_140 (Conv2D)            (None, 14, 14, 160)  179200      ['activation_139[0][0]']         \n",
            "                                                                                                  \n",
            " batch_normalization_137 (Batch  (None, 14, 14, 160)  480        ['conv2d_135[0][0]']             \n",
            " Normalization)                                                                                   \n",
            "                                                                                                  \n",
            " batch_normalization_142 (Batch  (None, 14, 14, 160)  480        ['conv2d_140[0][0]']             \n",
            " Normalization)                                                                                   \n",
            "                                                                                                  \n",
            " activation_135 (Activation)    (None, 14, 14, 160)  0           ['batch_normalization_137[0][0]']\n",
            "                                                                                                  \n",
            " activation_140 (Activation)    (None, 14, 14, 160)  0           ['batch_normalization_142[0][0]']\n",
            "                                                                                                  \n",
            " conv2d_136 (Conv2D)            (None, 14, 14, 160)  179200      ['activation_135[0][0]']         \n",
            "                                                                                                  \n",
            " conv2d_141 (Conv2D)            (None, 14, 14, 160)  179200      ['activation_140[0][0]']         \n",
            "                                                                                                  \n",
            " batch_normalization_138 (Batch  (None, 14, 14, 160)  480        ['conv2d_136[0][0]']             \n",
            " Normalization)                                                                                   \n",
            "                                                                                                  \n",
            " batch_normalization_143 (Batch  (None, 14, 14, 160)  480        ['conv2d_141[0][0]']             \n",
            " Normalization)                                                                                   \n",
            "                                                                                                  \n",
            " activation_136 (Activation)    (None, 14, 14, 160)  0           ['batch_normalization_138[0][0]']\n",
            "                                                                                                  \n",
            " activation_141 (Activation)    (None, 14, 14, 160)  0           ['batch_normalization_143[0][0]']\n",
            "                                                                                                  \n",
            " average_pooling2d_13 (AverageP  (None, 14, 14, 768)  0          ['mixed4[0][0]']                 \n",
            " ooling2D)                                                                                        \n",
            "                                                                                                  \n",
            " conv2d_134 (Conv2D)            (None, 14, 14, 192)  147456      ['mixed4[0][0]']                 \n",
            "                                                                                                  \n",
            " conv2d_137 (Conv2D)            (None, 14, 14, 192)  215040      ['activation_136[0][0]']         \n",
            "                                                                                                  \n",
            " conv2d_142 (Conv2D)            (None, 14, 14, 192)  215040      ['activation_141[0][0]']         \n",
            "                                                                                                  \n",
            " conv2d_143 (Conv2D)            (None, 14, 14, 192)  147456      ['average_pooling2d_13[0][0]']   \n",
            "                                                                                                  \n",
            " batch_normalization_136 (Batch  (None, 14, 14, 192)  576        ['conv2d_134[0][0]']             \n",
            " Normalization)                                                                                   \n",
            "                                                                                                  \n",
            " batch_normalization_139 (Batch  (None, 14, 14, 192)  576        ['conv2d_137[0][0]']             \n",
            " Normalization)                                                                                   \n",
            "                                                                                                  \n",
            " batch_normalization_144 (Batch  (None, 14, 14, 192)  576        ['conv2d_142[0][0]']             \n",
            " Normalization)                                                                                   \n",
            "                                                                                                  \n",
            " batch_normalization_145 (Batch  (None, 14, 14, 192)  576        ['conv2d_143[0][0]']             \n",
            " Normalization)                                                                                   \n",
            "                                                                                                  \n",
            " activation_134 (Activation)    (None, 14, 14, 192)  0           ['batch_normalization_136[0][0]']\n",
            "                                                                                                  \n",
            " activation_137 (Activation)    (None, 14, 14, 192)  0           ['batch_normalization_139[0][0]']\n",
            "                                                                                                  \n",
            " activation_142 (Activation)    (None, 14, 14, 192)  0           ['batch_normalization_144[0][0]']\n",
            "                                                                                                  \n",
            " activation_143 (Activation)    (None, 14, 14, 192)  0           ['batch_normalization_145[0][0]']\n",
            "                                                                                                  \n",
            " mixed5 (Concatenate)           (None, 14, 14, 768)  0           ['activation_134[0][0]',         \n",
            "                                                                  'activation_137[0][0]',         \n",
            "                                                                  'activation_142[0][0]',         \n",
            "                                                                  'activation_143[0][0]']         \n",
            "                                                                                                  \n",
            " conv2d_148 (Conv2D)            (None, 14, 14, 160)  122880      ['mixed5[0][0]']                 \n",
            "                                                                                                  \n",
            " batch_normalization_150 (Batch  (None, 14, 14, 160)  480        ['conv2d_148[0][0]']             \n",
            " Normalization)                                                                                   \n",
            "                                                                                                  \n",
            " activation_148 (Activation)    (None, 14, 14, 160)  0           ['batch_normalization_150[0][0]']\n",
            "                                                                                                  \n",
            " conv2d_149 (Conv2D)            (None, 14, 14, 160)  179200      ['activation_148[0][0]']         \n",
            "                                                                                                  \n",
            " batch_normalization_151 (Batch  (None, 14, 14, 160)  480        ['conv2d_149[0][0]']             \n",
            " Normalization)                                                                                   \n",
            "                                                                                                  \n",
            " activation_149 (Activation)    (None, 14, 14, 160)  0           ['batch_normalization_151[0][0]']\n",
            "                                                                                                  \n",
            " conv2d_145 (Conv2D)            (None, 14, 14, 160)  122880      ['mixed5[0][0]']                 \n",
            "                                                                                                  \n",
            " conv2d_150 (Conv2D)            (None, 14, 14, 160)  179200      ['activation_149[0][0]']         \n",
            "                                                                                                  \n",
            " batch_normalization_147 (Batch  (None, 14, 14, 160)  480        ['conv2d_145[0][0]']             \n",
            " Normalization)                                                                                   \n",
            "                                                                                                  \n",
            " batch_normalization_152 (Batch  (None, 14, 14, 160)  480        ['conv2d_150[0][0]']             \n",
            " Normalization)                                                                                   \n",
            "                                                                                                  \n",
            " activation_145 (Activation)    (None, 14, 14, 160)  0           ['batch_normalization_147[0][0]']\n",
            "                                                                                                  \n",
            " activation_150 (Activation)    (None, 14, 14, 160)  0           ['batch_normalization_152[0][0]']\n",
            "                                                                                                  \n",
            " conv2d_146 (Conv2D)            (None, 14, 14, 160)  179200      ['activation_145[0][0]']         \n",
            "                                                                                                  \n",
            " conv2d_151 (Conv2D)            (None, 14, 14, 160)  179200      ['activation_150[0][0]']         \n",
            "                                                                                                  \n",
            " batch_normalization_148 (Batch  (None, 14, 14, 160)  480        ['conv2d_146[0][0]']             \n",
            " Normalization)                                                                                   \n",
            "                                                                                                  \n",
            " batch_normalization_153 (Batch  (None, 14, 14, 160)  480        ['conv2d_151[0][0]']             \n",
            " Normalization)                                                                                   \n",
            "                                                                                                  \n",
            " activation_146 (Activation)    (None, 14, 14, 160)  0           ['batch_normalization_148[0][0]']\n",
            "                                                                                                  \n",
            " activation_151 (Activation)    (None, 14, 14, 160)  0           ['batch_normalization_153[0][0]']\n",
            "                                                                                                  \n",
            " average_pooling2d_14 (AverageP  (None, 14, 14, 768)  0          ['mixed5[0][0]']                 \n",
            " ooling2D)                                                                                        \n",
            "                                                                                                  \n",
            " conv2d_144 (Conv2D)            (None, 14, 14, 192)  147456      ['mixed5[0][0]']                 \n",
            "                                                                                                  \n",
            " conv2d_147 (Conv2D)            (None, 14, 14, 192)  215040      ['activation_146[0][0]']         \n",
            "                                                                                                  \n",
            " conv2d_152 (Conv2D)            (None, 14, 14, 192)  215040      ['activation_151[0][0]']         \n",
            "                                                                                                  \n",
            " conv2d_153 (Conv2D)            (None, 14, 14, 192)  147456      ['average_pooling2d_14[0][0]']   \n",
            "                                                                                                  \n",
            " batch_normalization_146 (Batch  (None, 14, 14, 192)  576        ['conv2d_144[0][0]']             \n",
            " Normalization)                                                                                   \n",
            "                                                                                                  \n",
            " batch_normalization_149 (Batch  (None, 14, 14, 192)  576        ['conv2d_147[0][0]']             \n",
            " Normalization)                                                                                   \n",
            "                                                                                                  \n",
            " batch_normalization_154 (Batch  (None, 14, 14, 192)  576        ['conv2d_152[0][0]']             \n",
            " Normalization)                                                                                   \n",
            "                                                                                                  \n",
            " batch_normalization_155 (Batch  (None, 14, 14, 192)  576        ['conv2d_153[0][0]']             \n",
            " Normalization)                                                                                   \n",
            "                                                                                                  \n",
            " activation_144 (Activation)    (None, 14, 14, 192)  0           ['batch_normalization_146[0][0]']\n",
            "                                                                                                  \n",
            " activation_147 (Activation)    (None, 14, 14, 192)  0           ['batch_normalization_149[0][0]']\n",
            "                                                                                                  \n",
            " activation_152 (Activation)    (None, 14, 14, 192)  0           ['batch_normalization_154[0][0]']\n",
            "                                                                                                  \n",
            " activation_153 (Activation)    (None, 14, 14, 192)  0           ['batch_normalization_155[0][0]']\n",
            "                                                                                                  \n",
            " mixed6 (Concatenate)           (None, 14, 14, 768)  0           ['activation_144[0][0]',         \n",
            "                                                                  'activation_147[0][0]',         \n",
            "                                                                  'activation_152[0][0]',         \n",
            "                                                                  'activation_153[0][0]']         \n",
            "                                                                                                  \n",
            " conv2d_158 (Conv2D)            (None, 14, 14, 192)  147456      ['mixed6[0][0]']                 \n",
            "                                                                                                  \n",
            " batch_normalization_160 (Batch  (None, 14, 14, 192)  576        ['conv2d_158[0][0]']             \n",
            " Normalization)                                                                                   \n",
            "                                                                                                  \n",
            " activation_158 (Activation)    (None, 14, 14, 192)  0           ['batch_normalization_160[0][0]']\n",
            "                                                                                                  \n",
            " conv2d_159 (Conv2D)            (None, 14, 14, 192)  258048      ['activation_158[0][0]']         \n",
            "                                                                                                  \n",
            " batch_normalization_161 (Batch  (None, 14, 14, 192)  576        ['conv2d_159[0][0]']             \n",
            " Normalization)                                                                                   \n",
            "                                                                                                  \n",
            " activation_159 (Activation)    (None, 14, 14, 192)  0           ['batch_normalization_161[0][0]']\n",
            "                                                                                                  \n",
            " conv2d_155 (Conv2D)            (None, 14, 14, 192)  147456      ['mixed6[0][0]']                 \n",
            "                                                                                                  \n",
            " conv2d_160 (Conv2D)            (None, 14, 14, 192)  258048      ['activation_159[0][0]']         \n",
            "                                                                                                  \n",
            " batch_normalization_157 (Batch  (None, 14, 14, 192)  576        ['conv2d_155[0][0]']             \n",
            " Normalization)                                                                                   \n",
            "                                                                                                  \n",
            " batch_normalization_162 (Batch  (None, 14, 14, 192)  576        ['conv2d_160[0][0]']             \n",
            " Normalization)                                                                                   \n",
            "                                                                                                  \n",
            " activation_155 (Activation)    (None, 14, 14, 192)  0           ['batch_normalization_157[0][0]']\n",
            "                                                                                                  \n",
            " activation_160 (Activation)    (None, 14, 14, 192)  0           ['batch_normalization_162[0][0]']\n",
            "                                                                                                  \n",
            " conv2d_156 (Conv2D)            (None, 14, 14, 192)  258048      ['activation_155[0][0]']         \n",
            "                                                                                                  \n",
            " conv2d_161 (Conv2D)            (None, 14, 14, 192)  258048      ['activation_160[0][0]']         \n",
            "                                                                                                  \n",
            " batch_normalization_158 (Batch  (None, 14, 14, 192)  576        ['conv2d_156[0][0]']             \n",
            " Normalization)                                                                                   \n",
            "                                                                                                  \n",
            " batch_normalization_163 (Batch  (None, 14, 14, 192)  576        ['conv2d_161[0][0]']             \n",
            " Normalization)                                                                                   \n",
            "                                                                                                  \n",
            " activation_156 (Activation)    (None, 14, 14, 192)  0           ['batch_normalization_158[0][0]']\n",
            "                                                                                                  \n",
            " activation_161 (Activation)    (None, 14, 14, 192)  0           ['batch_normalization_163[0][0]']\n",
            "                                                                                                  \n",
            " average_pooling2d_15 (AverageP  (None, 14, 14, 768)  0          ['mixed6[0][0]']                 \n",
            " ooling2D)                                                                                        \n",
            "                                                                                                  \n",
            " conv2d_154 (Conv2D)            (None, 14, 14, 192)  147456      ['mixed6[0][0]']                 \n",
            "                                                                                                  \n",
            " conv2d_157 (Conv2D)            (None, 14, 14, 192)  258048      ['activation_156[0][0]']         \n",
            "                                                                                                  \n",
            " conv2d_162 (Conv2D)            (None, 14, 14, 192)  258048      ['activation_161[0][0]']         \n",
            "                                                                                                  \n",
            " conv2d_163 (Conv2D)            (None, 14, 14, 192)  147456      ['average_pooling2d_15[0][0]']   \n",
            "                                                                                                  \n",
            " batch_normalization_156 (Batch  (None, 14, 14, 192)  576        ['conv2d_154[0][0]']             \n",
            " Normalization)                                                                                   \n",
            "                                                                                                  \n",
            " batch_normalization_159 (Batch  (None, 14, 14, 192)  576        ['conv2d_157[0][0]']             \n",
            " Normalization)                                                                                   \n",
            "                                                                                                  \n",
            " batch_normalization_164 (Batch  (None, 14, 14, 192)  576        ['conv2d_162[0][0]']             \n",
            " Normalization)                                                                                   \n",
            "                                                                                                  \n",
            " batch_normalization_165 (Batch  (None, 14, 14, 192)  576        ['conv2d_163[0][0]']             \n",
            " Normalization)                                                                                   \n",
            "                                                                                                  \n",
            " activation_154 (Activation)    (None, 14, 14, 192)  0           ['batch_normalization_156[0][0]']\n",
            "                                                                                                  \n",
            " activation_157 (Activation)    (None, 14, 14, 192)  0           ['batch_normalization_159[0][0]']\n",
            "                                                                                                  \n",
            " activation_162 (Activation)    (None, 14, 14, 192)  0           ['batch_normalization_164[0][0]']\n",
            "                                                                                                  \n",
            " activation_163 (Activation)    (None, 14, 14, 192)  0           ['batch_normalization_165[0][0]']\n",
            "                                                                                                  \n",
            " mixed7 (Concatenate)           (None, 14, 14, 768)  0           ['activation_154[0][0]',         \n",
            "                                                                  'activation_157[0][0]',         \n",
            "                                                                  'activation_162[0][0]',         \n",
            "                                                                  'activation_163[0][0]']         \n",
            "                                                                                                  \n",
            " conv2d_166 (Conv2D)            (None, 14, 14, 192)  147456      ['mixed7[0][0]']                 \n",
            "                                                                                                  \n",
            " batch_normalization_168 (Batch  (None, 14, 14, 192)  576        ['conv2d_166[0][0]']             \n",
            " Normalization)                                                                                   \n",
            "                                                                                                  \n",
            " activation_166 (Activation)    (None, 14, 14, 192)  0           ['batch_normalization_168[0][0]']\n",
            "                                                                                                  \n",
            " conv2d_167 (Conv2D)            (None, 14, 14, 192)  258048      ['activation_166[0][0]']         \n",
            "                                                                                                  \n",
            " batch_normalization_169 (Batch  (None, 14, 14, 192)  576        ['conv2d_167[0][0]']             \n",
            " Normalization)                                                                                   \n",
            "                                                                                                  \n",
            " activation_167 (Activation)    (None, 14, 14, 192)  0           ['batch_normalization_169[0][0]']\n",
            "                                                                                                  \n",
            " conv2d_164 (Conv2D)            (None, 14, 14, 192)  147456      ['mixed7[0][0]']                 \n",
            "                                                                                                  \n",
            " conv2d_168 (Conv2D)            (None, 14, 14, 192)  258048      ['activation_167[0][0]']         \n",
            "                                                                                                  \n",
            " batch_normalization_166 (Batch  (None, 14, 14, 192)  576        ['conv2d_164[0][0]']             \n",
            " Normalization)                                                                                   \n",
            "                                                                                                  \n",
            " batch_normalization_170 (Batch  (None, 14, 14, 192)  576        ['conv2d_168[0][0]']             \n",
            " Normalization)                                                                                   \n",
            "                                                                                                  \n",
            " activation_164 (Activation)    (None, 14, 14, 192)  0           ['batch_normalization_166[0][0]']\n",
            "                                                                                                  \n",
            " activation_168 (Activation)    (None, 14, 14, 192)  0           ['batch_normalization_170[0][0]']\n",
            "                                                                                                  \n",
            " conv2d_165 (Conv2D)            (None, 6, 6, 320)    552960      ['activation_164[0][0]']         \n",
            "                                                                                                  \n",
            " conv2d_169 (Conv2D)            (None, 6, 6, 192)    331776      ['activation_168[0][0]']         \n",
            "                                                                                                  \n",
            " batch_normalization_167 (Batch  (None, 6, 6, 320)   960         ['conv2d_165[0][0]']             \n",
            " Normalization)                                                                                   \n",
            "                                                                                                  \n",
            " batch_normalization_171 (Batch  (None, 6, 6, 192)   576         ['conv2d_169[0][0]']             \n",
            " Normalization)                                                                                   \n",
            "                                                                                                  \n",
            " activation_165 (Activation)    (None, 6, 6, 320)    0           ['batch_normalization_167[0][0]']\n",
            "                                                                                                  \n",
            " activation_169 (Activation)    (None, 6, 6, 192)    0           ['batch_normalization_171[0][0]']\n",
            "                                                                                                  \n",
            " max_pooling2d_7 (MaxPooling2D)  (None, 6, 6, 768)   0           ['mixed7[0][0]']                 \n",
            "                                                                                                  \n",
            " mixed8 (Concatenate)           (None, 6, 6, 1280)   0           ['activation_165[0][0]',         \n",
            "                                                                  'activation_169[0][0]',         \n",
            "                                                                  'max_pooling2d_7[0][0]']        \n",
            "                                                                                                  \n",
            " conv2d_174 (Conv2D)            (None, 6, 6, 448)    573440      ['mixed8[0][0]']                 \n",
            "                                                                                                  \n",
            " batch_normalization_176 (Batch  (None, 6, 6, 448)   1344        ['conv2d_174[0][0]']             \n",
            " Normalization)                                                                                   \n",
            "                                                                                                  \n",
            " activation_174 (Activation)    (None, 6, 6, 448)    0           ['batch_normalization_176[0][0]']\n",
            "                                                                                                  \n",
            " conv2d_171 (Conv2D)            (None, 6, 6, 384)    491520      ['mixed8[0][0]']                 \n",
            "                                                                                                  \n",
            " conv2d_175 (Conv2D)            (None, 6, 6, 384)    1548288     ['activation_174[0][0]']         \n",
            "                                                                                                  \n",
            " batch_normalization_173 (Batch  (None, 6, 6, 384)   1152        ['conv2d_171[0][0]']             \n",
            " Normalization)                                                                                   \n",
            "                                                                                                  \n",
            " batch_normalization_177 (Batch  (None, 6, 6, 384)   1152        ['conv2d_175[0][0]']             \n",
            " Normalization)                                                                                   \n",
            "                                                                                                  \n",
            " activation_171 (Activation)    (None, 6, 6, 384)    0           ['batch_normalization_173[0][0]']\n",
            "                                                                                                  \n",
            " activation_175 (Activation)    (None, 6, 6, 384)    0           ['batch_normalization_177[0][0]']\n",
            "                                                                                                  \n",
            " conv2d_172 (Conv2D)            (None, 6, 6, 384)    442368      ['activation_171[0][0]']         \n",
            "                                                                                                  \n",
            " conv2d_173 (Conv2D)            (None, 6, 6, 384)    442368      ['activation_171[0][0]']         \n",
            "                                                                                                  \n",
            " conv2d_176 (Conv2D)            (None, 6, 6, 384)    442368      ['activation_175[0][0]']         \n",
            "                                                                                                  \n",
            " conv2d_177 (Conv2D)            (None, 6, 6, 384)    442368      ['activation_175[0][0]']         \n",
            "                                                                                                  \n",
            " average_pooling2d_16 (AverageP  (None, 6, 6, 1280)  0           ['mixed8[0][0]']                 \n",
            " ooling2D)                                                                                        \n",
            "                                                                                                  \n",
            " conv2d_170 (Conv2D)            (None, 6, 6, 320)    409600      ['mixed8[0][0]']                 \n",
            "                                                                                                  \n",
            " batch_normalization_174 (Batch  (None, 6, 6, 384)   1152        ['conv2d_172[0][0]']             \n",
            " Normalization)                                                                                   \n",
            "                                                                                                  \n",
            " batch_normalization_175 (Batch  (None, 6, 6, 384)   1152        ['conv2d_173[0][0]']             \n",
            " Normalization)                                                                                   \n",
            "                                                                                                  \n",
            " batch_normalization_178 (Batch  (None, 6, 6, 384)   1152        ['conv2d_176[0][0]']             \n",
            " Normalization)                                                                                   \n",
            "                                                                                                  \n",
            " batch_normalization_179 (Batch  (None, 6, 6, 384)   1152        ['conv2d_177[0][0]']             \n",
            " Normalization)                                                                                   \n",
            "                                                                                                  \n",
            " conv2d_178 (Conv2D)            (None, 6, 6, 192)    245760      ['average_pooling2d_16[0][0]']   \n",
            "                                                                                                  \n",
            " batch_normalization_172 (Batch  (None, 6, 6, 320)   960         ['conv2d_170[0][0]']             \n",
            " Normalization)                                                                                   \n",
            "                                                                                                  \n",
            " activation_172 (Activation)    (None, 6, 6, 384)    0           ['batch_normalization_174[0][0]']\n",
            "                                                                                                  \n",
            " activation_173 (Activation)    (None, 6, 6, 384)    0           ['batch_normalization_175[0][0]']\n",
            "                                                                                                  \n",
            " activation_176 (Activation)    (None, 6, 6, 384)    0           ['batch_normalization_178[0][0]']\n",
            "                                                                                                  \n",
            " activation_177 (Activation)    (None, 6, 6, 384)    0           ['batch_normalization_179[0][0]']\n",
            "                                                                                                  \n",
            " batch_normalization_180 (Batch  (None, 6, 6, 192)   576         ['conv2d_178[0][0]']             \n",
            " Normalization)                                                                                   \n",
            "                                                                                                  \n",
            " activation_170 (Activation)    (None, 6, 6, 320)    0           ['batch_normalization_172[0][0]']\n",
            "                                                                                                  \n",
            " mixed9_0 (Concatenate)         (None, 6, 6, 768)    0           ['activation_172[0][0]',         \n",
            "                                                                  'activation_173[0][0]']         \n",
            "                                                                                                  \n",
            " concatenate_2 (Concatenate)    (None, 6, 6, 768)    0           ['activation_176[0][0]',         \n",
            "                                                                  'activation_177[0][0]']         \n",
            "                                                                                                  \n",
            " activation_178 (Activation)    (None, 6, 6, 192)    0           ['batch_normalization_180[0][0]']\n",
            "                                                                                                  \n",
            " mixed9 (Concatenate)           (None, 6, 6, 2048)   0           ['activation_170[0][0]',         \n",
            "                                                                  'mixed9_0[0][0]',               \n",
            "                                                                  'concatenate_2[0][0]',          \n",
            "                                                                  'activation_178[0][0]']         \n",
            "                                                                                                  \n",
            " conv2d_183 (Conv2D)            (None, 6, 6, 448)    917504      ['mixed9[0][0]']                 \n",
            "                                                                                                  \n",
            " batch_normalization_185 (Batch  (None, 6, 6, 448)   1344        ['conv2d_183[0][0]']             \n",
            " Normalization)                                                                                   \n",
            "                                                                                                  \n",
            " activation_183 (Activation)    (None, 6, 6, 448)    0           ['batch_normalization_185[0][0]']\n",
            "                                                                                                  \n",
            " conv2d_180 (Conv2D)            (None, 6, 6, 384)    786432      ['mixed9[0][0]']                 \n",
            "                                                                                                  \n",
            " conv2d_184 (Conv2D)            (None, 6, 6, 384)    1548288     ['activation_183[0][0]']         \n",
            "                                                                                                  \n",
            " batch_normalization_182 (Batch  (None, 6, 6, 384)   1152        ['conv2d_180[0][0]']             \n",
            " Normalization)                                                                                   \n",
            "                                                                                                  \n",
            " batch_normalization_186 (Batch  (None, 6, 6, 384)   1152        ['conv2d_184[0][0]']             \n",
            " Normalization)                                                                                   \n",
            "                                                                                                  \n",
            " activation_180 (Activation)    (None, 6, 6, 384)    0           ['batch_normalization_182[0][0]']\n",
            "                                                                                                  \n",
            " activation_184 (Activation)    (None, 6, 6, 384)    0           ['batch_normalization_186[0][0]']\n",
            "                                                                                                  \n",
            " conv2d_181 (Conv2D)            (None, 6, 6, 384)    442368      ['activation_180[0][0]']         \n",
            "                                                                                                  \n",
            " conv2d_182 (Conv2D)            (None, 6, 6, 384)    442368      ['activation_180[0][0]']         \n",
            "                                                                                                  \n",
            " conv2d_185 (Conv2D)            (None, 6, 6, 384)    442368      ['activation_184[0][0]']         \n",
            "                                                                                                  \n",
            " conv2d_186 (Conv2D)            (None, 6, 6, 384)    442368      ['activation_184[0][0]']         \n",
            "                                                                                                  \n",
            " average_pooling2d_17 (AverageP  (None, 6, 6, 2048)  0           ['mixed9[0][0]']                 \n",
            " ooling2D)                                                                                        \n",
            "                                                                                                  \n",
            " conv2d_179 (Conv2D)            (None, 6, 6, 320)    655360      ['mixed9[0][0]']                 \n",
            "                                                                                                  \n",
            " batch_normalization_183 (Batch  (None, 6, 6, 384)   1152        ['conv2d_181[0][0]']             \n",
            " Normalization)                                                                                   \n",
            "                                                                                                  \n",
            " batch_normalization_184 (Batch  (None, 6, 6, 384)   1152        ['conv2d_182[0][0]']             \n",
            " Normalization)                                                                                   \n",
            "                                                                                                  \n",
            " batch_normalization_187 (Batch  (None, 6, 6, 384)   1152        ['conv2d_185[0][0]']             \n",
            " Normalization)                                                                                   \n",
            "                                                                                                  \n",
            " batch_normalization_188 (Batch  (None, 6, 6, 384)   1152        ['conv2d_186[0][0]']             \n",
            " Normalization)                                                                                   \n",
            "                                                                                                  \n",
            " conv2d_187 (Conv2D)            (None, 6, 6, 192)    393216      ['average_pooling2d_17[0][0]']   \n",
            "                                                                                                  \n",
            " batch_normalization_181 (Batch  (None, 6, 6, 320)   960         ['conv2d_179[0][0]']             \n",
            " Normalization)                                                                                   \n",
            "                                                                                                  \n",
            " activation_181 (Activation)    (None, 6, 6, 384)    0           ['batch_normalization_183[0][0]']\n",
            "                                                                                                  \n",
            " activation_182 (Activation)    (None, 6, 6, 384)    0           ['batch_normalization_184[0][0]']\n",
            "                                                                                                  \n",
            " activation_185 (Activation)    (None, 6, 6, 384)    0           ['batch_normalization_187[0][0]']\n",
            "                                                                                                  \n",
            " activation_186 (Activation)    (None, 6, 6, 384)    0           ['batch_normalization_188[0][0]']\n",
            "                                                                                                  \n",
            " batch_normalization_189 (Batch  (None, 6, 6, 192)   576         ['conv2d_187[0][0]']             \n",
            " Normalization)                                                                                   \n",
            "                                                                                                  \n",
            " activation_179 (Activation)    (None, 6, 6, 320)    0           ['batch_normalization_181[0][0]']\n",
            "                                                                                                  \n",
            " mixed9_1 (Concatenate)         (None, 6, 6, 768)    0           ['activation_181[0][0]',         \n",
            "                                                                  'activation_182[0][0]']         \n",
            "                                                                                                  \n",
            " concatenate_3 (Concatenate)    (None, 6, 6, 768)    0           ['activation_185[0][0]',         \n",
            "                                                                  'activation_186[0][0]']         \n",
            "                                                                                                  \n",
            " activation_187 (Activation)    (None, 6, 6, 192)    0           ['batch_normalization_189[0][0]']\n",
            "                                                                                                  \n",
            " mixed10 (Concatenate)          (None, 6, 6, 2048)   0           ['activation_179[0][0]',         \n",
            "                                                                  'mixed9_1[0][0]',               \n",
            "                                                                  'concatenate_3[0][0]',          \n",
            "                                                                  'activation_187[0][0]']         \n",
            "                                                                                                  \n",
            "==================================================================================================\n",
            "Total params: 21,802,784\n",
            "Trainable params: 21,340,640\n",
            "Non-trainable params: 462,144\n",
            "__________________________________________________________________________________________________\n"
          ]
        }
      ],
      "source": [
        "pre_trained_model = create_pre_trained_model(local_weights_file)\n",
        "\n",
        "# Print the model summary\n",
        "pre_trained_model.summary()"
      ]
    },
    {
      "cell_type": "code",
      "execution_count": null,
      "metadata": {
        "id": "D-JSjeW8yV83"
      },
      "outputs": [],
      "source": [
        "# grader-required-cell\n",
        "\n",
        "# GRADED FUNCTION: output_of_last_layer\n",
        "def output_of_last_layer(pre_trained_model):\n",
        "  \"\"\"\n",
        "  Gets the last layer output of a model\n",
        "\n",
        "  Args:\n",
        "    pre_trained_model (tf.keras Model): model to get the last layer output from\n",
        "\n",
        "  Returns:\n",
        "    last_output: output of the model's last layer\n",
        "  \"\"\"\n",
        "  ### START CODE HERE\n",
        "  last_desired_layer = pre_trained_model.get_layer('mixed7')\n",
        "  print('last layer output shape: ', last_desired_layer.output_shape)\n",
        "  last_output = last_desired_layer.output\n",
        "  print('last layer output: ', last_output)\n",
        "  ### END CODE HERE\n",
        "\n",
        "  return last_output"
      ]
    },
    {
      "cell_type": "code",
      "execution_count": null,
      "metadata": {
        "colab": {
          "base_uri": "https://localhost:8080/"
        },
        "id": "ZhRxBvBz134F",
        "outputId": "aabc6c8c-9f87-483a-a3e4-be1477307068"
      },
      "outputs": [
        {
          "name": "stdout",
          "output_type": "stream",
          "text": [
            "last layer output shape:  (None, 14, 14, 768)\n",
            "last layer output:  KerasTensor(type_spec=TensorSpec(shape=(None, 14, 14, 768), dtype=tf.float32, name=None), name='mixed7/concat:0', description=\"created by layer 'mixed7'\")\n"
          ]
        }
      ],
      "source": [
        "last_output = output_of_last_layer(pre_trained_model)"
      ]
    },
    {
      "cell_type": "code",
      "execution_count": null,
      "metadata": {
        "id": "eC4Jw_xxGbQm"
      },
      "outputs": [],
      "source": [
        "def create_model(pre_trained_model, last_output):\n",
        "  # # current best model\n",
        "  # x = layers.Flatten()(last_output)\n",
        "  # # Add a fully connected layer with 1024 hidden units and ReLU activation\n",
        "  # x = layers.Dense(1024, activation='relu')(x)\n",
        "  # # Add a dropout rate of 0.2\n",
        "  # x = layers.Dropout(0.2)(x)\n",
        "  # x = layers.Dense(29, activation='softmax')(x)\n",
        "  ######\n",
        "  # new model\n",
        "  x = layers.BatchNormalization(renorm=True)(last_output)\n",
        "  x = layers.GlobalAveragePooling2D()(x)\n",
        "  x = layers.Dense(1024, activation='relu')(x)\n",
        "  x = layers.Dropout(0.2)(x)\n",
        "  x = layers.Dense(1024, activation='relu')(x)\n",
        "  x = layers.Dropout(0.2)(x)\n",
        "  x = layers.Dense(15, activation='softmax')(x)\n",
        "\n",
        "  # Create the complete model by using the Model class\n",
        "  model = Model(pre_trained_model.input, x)\n",
        "\n",
        "  model.compile(optimizer=tf.keras.optimizers.Adam(1e-5),\n",
        "                loss=tf.keras.losses.CategoricalCrossentropy(from_logits=False),\n",
        "                metrics=['accuracy'])\n",
        "\n",
        "  ### END CODE HERE\n",
        "  # model.summary()\n",
        "\n",
        "  return model"
      ]
    },
    {
      "cell_type": "code",
      "execution_count": null,
      "metadata": {
        "id": "UGGetJF9KXCw"
      },
      "outputs": [],
      "source": [
        "model = create_model(pre_trained_model, last_output)"
      ]
    },
    {
      "cell_type": "code",
      "execution_count": null,
      "metadata": {
        "colab": {
          "base_uri": "https://localhost:8080/"
        },
        "id": "hi9JKiBuKc6u",
        "outputId": "a16fb595-07c1-436c-baf5-3692c7e0b280"
      },
      "outputs": [
        {
          "name": "stdout",
          "output_type": "stream",
          "text": [
            "There are 10,833,071 total parameters in this model.\n",
            "There are 10,382,703 trainable parameters in this model.\n"
          ]
        }
      ],
      "source": [
        "total_params = model.count_params()\n",
        "num_trainable_params = sum([w.shape.num_elements() for w in model.trainable_weights])\n",
        "\n",
        "print(f\"There are {total_params:,} total parameters in this model.\")\n",
        "print(f\"There are {num_trainable_params:,} trainable parameters in this model.\")"
      ]
    },
    {
      "cell_type": "code",
      "execution_count": null,
      "metadata": {
        "id": "4aElo_RMM_mK"
      },
      "outputs": [],
      "source": [
        "model.compile(optimizer=tf.keras.optimizers.Adam(3e-4),\n",
        "                loss=tf.keras.losses.CategoricalCrossentropy(from_logits=False),\n",
        "                metrics=['accuracy'])"
      ]
    },
    {
      "cell_type": "code",
      "execution_count": null,
      "metadata": {
        "colab": {
          "background_save": true,
          "base_uri": "https://localhost:8080/"
        },
        "id": "1Ly2A15WGbQm",
        "outputId": "32df7341-a696-4c77-e3cd-0845bb89ab5c"
      },
      "outputs": [
        {
          "name": "stdout",
          "output_type": "stream",
          "text": [
            "Epoch 1/10\n",
            "119/119 [==============================] - 197s 2s/step - loss: 0.0968 - accuracy: 0.9615 - val_loss: 0.4162 - val_accuracy: 0.9176\n",
            "Epoch 2/10\n",
            "119/119 [==============================] - 195s 2s/step - loss: 0.1000 - accuracy: 0.9628 - val_loss: 0.4956 - val_accuracy: 0.8871\n",
            "Epoch 3/10\n",
            "119/119 [==============================] - 197s 2s/step - loss: 0.0889 - accuracy: 0.9668 - val_loss: 0.6062 - val_accuracy: 0.8647\n",
            "Epoch 4/10\n",
            "119/119 [==============================] - 193s 2s/step - loss: 0.1204 - accuracy: 0.9589 - val_loss: 0.8454 - val_accuracy: 0.8400\n",
            "Epoch 5/10\n",
            "119/119 [==============================] - 192s 2s/step - loss: 0.1393 - accuracy: 0.9516 - val_loss: 0.5081 - val_accuracy: 0.8871\n",
            "Epoch 6/10\n",
            "119/119 [==============================] - 193s 2s/step - loss: 0.1360 - accuracy: 0.9528 - val_loss: 0.8196 - val_accuracy: 0.8329\n"
          ]
        }
      ],
      "source": [
        "STEP_SIZE_TRAIN = train_generator.n//train_generator.batch_size\n",
        "STEP_SIZE_VALID = validation_generator.n//validation_generator.batch_size\n",
        "\n",
        "# Train the model\n",
        "# Note that this may take some time.\n",
        "history = model.fit(train_generator,\n",
        "                    epochs=10,\n",
        "                    steps_per_epoch=STEP_SIZE_TRAIN,\n",
        "                    validation_data=validation_generator,\n",
        "                    validation_steps=STEP_SIZE_VALID,\n",
        "                    # callbacks= [early_stopping, lr_scheduler],\n",
        "                    callbacks= [early_stopping],\n",
        "                    class_weight=weight)"
      ]
    },
    {
      "cell_type": "code",
      "execution_count": null,
      "metadata": {
        "colab": {
          "base_uri": "https://localhost:8080/",
          "height": 939
        },
        "id": "-2TOb3TqGbQn",
        "outputId": "74412e9d-33b7-4ee3-bc09-8234c7967b93"
      },
      "outputs": [
        {
          "data": {
            "image/png": "[encoded data removed]",
            "text/plain": [
              "<Figure size 640x480 with 1 Axes>"
            ]
          },
          "metadata": {},
          "output_type": "display_data"
        },
        {
          "data": {
            "text/plain": [
              "<Figure size 640x480 with 0 Axes>"
            ]
          },
          "metadata": {},
          "output_type": "display_data"
        },
        {
          "name": "stdout",
          "output_type": "stream",
          "text": [
            "\n"
          ]
        },
        {
          "data": {
            "image/png": "[encoded data removed]",
            "text/plain": [
              "<Figure size 640x480 with 1 Axes>"
            ]
          },
          "metadata": {},
          "output_type": "display_data"
        },
        {
          "data": {
            "text/plain": [
              "<Figure size 640x480 with 0 Axes>"
            ]
          },
          "metadata": {},
          "output_type": "display_data"
        }
      ],
      "source": [
        "#-----------------------------------------------------------\n",
        "# Retrieve a list of list results on training and test data\n",
        "# sets for each training epoch\n",
        "#-----------------------------------------------------------\n",
        "acc=history.history['accuracy']\n",
        "val_acc=history.history['val_accuracy']\n",
        "loss=history.history['loss']\n",
        "val_loss=history.history['val_loss']\n",
        "\n",
        "epochs=range(len(acc)) # Get number of epochs\n",
        "\n",
        "#------------------------------------------------\n",
        "# Plot training and validation accuracy per epoch\n",
        "#------------------------------------------------\n",
        "plt.plot(epochs, acc, 'r', label='Training accuracy')\n",
        "plt.plot(epochs, val_acc, 'b', label='Validation accuracy')\n",
        "plt.title('Training and validation accuracy')\n",
        "plt.legend(loc=0)\n",
        "plt.figure()\n",
        "plt.show()\n",
        "print(\"\")\n",
        "\n",
        "#------------------------------------------------\n",
        "# Plot training and validation loss per epoch\n",
        "#------------------------------------------------\n",
        "plt.plot(epochs, loss, 'r', label=\"Training Loss\")\n",
        "plt.plot(epochs, val_loss, 'b', label=\"Validation Loss\")\n",
        "plt.title('Training and Validation Loss')\n",
        "plt.legend(loc=0)\n",
        "plt.figure()\n",
        "plt.show()"
      ]
    },
    {
      "cell_type": "code",
      "execution_count": null,
      "metadata": {
        "colab": {
          "base_uri": "https://localhost:8080/"
        },
        "id": "d2o9i8B9ypin",
        "outputId": "d1215bb3-1ea7-4ab3-c02a-8df4f0aaa98b"
      },
      "outputs": [
        {
          "name": "stdout",
          "output_type": "stream",
          "text": [
            "35/35 [==============================] - 9s 251ms/step - loss: 1.0913 - accuracy: 0.6554\n",
            "Validation loss: 1.0913\n",
            "Validation accuracy: 0.6554\n"
          ]
        }
      ],
      "source": [
        "validation_loss, validation_accuracy = model.evaluate(validation_generator)\n",
        "print(f\"Validation loss: {validation_loss:.4f}\")\n",
        "print(f\"Validation accuracy: {validation_accuracy:.4f}\")"
      ]
    },
    {
      "cell_type": "code",
      "execution_count": null,
      "metadata": {
        "id": "bEZNeHcQCne5"
      },
      "outputs": [],
      "source": [
        "# model.load_weights(checkpoint_filepath)"
      ]
    },
    {
      "cell_type": "code",
      "execution_count": null,
      "metadata": {
        "id": "vnFdXmX2OwSR"
      },
      "outputs": [],
      "source": [
        "model.save('/content/drive/MyDrive/Capstone_ModelV3_3.h5')\n",
        "# v3_1 ada di m050"
      ]
    },
    {
      "cell_type": "code",
      "execution_count": null,
      "metadata": {
        "colab": {
          "base_uri": "https://localhost:8080/"
        },
        "id": "naWuty3wDm_x",
        "outputId": "a31f6fd0-dfb6-4055-93fb-68dfbc193261"
      },
      "outputs": [
        {
          "name": "stderr",
          "output_type": "stream",
          "text": [
            "WARNING:absl:Found untraced functions such as _jit_compiled_convolution_op, _jit_compiled_convolution_op, _jit_compiled_convolution_op, _jit_compiled_convolution_op, _jit_compiled_convolution_op while saving (showing 5 of 70). These functions will not be directly callable after loading.\n"
          ]
        }
      ],
      "source": [
        "model.save('/content/drive/MyDrive/My_Model')"
      ]
    },
    {
      "cell_type": "code",
      "execution_count": null,
      "metadata": {
        "id": "TJgByB9wmT1M"
      },
      "outputs": [],
      "source": [
        "export_dir = '/content/drive/MyDrive/saved_model'"
      ]
    },
    {
      "cell_type": "code",
      "execution_count": null,
      "metadata": {
        "id": "9d7iZxhbnaXI"
      },
      "outputs": [],
      "source": [
        "tf.saved_model.save(model, export_dir)"
      ]
    },
    {
      "cell_type": "code",
      "execution_count": null,
      "metadata": {
        "id": "N7MOYCx1oH_q"
      },
      "outputs": [],
      "source": [
        "mode = \"default\"\n",
        "\n",
        "if mode == 'Storage':\n",
        "    optimization = tf.lite.Optimize.OPTIMIZE_FOR_SIZE\n",
        "elif mode == 'Speed':\n",
        "    optimization = tf.lite.Optimize.OPTIMIZE_FOR_LATENCY\n",
        "else:\n",
        "    optimization = tf.lite.Optimize.DEFAULT"
      ]
    },
    {
      "cell_type": "code",
      "execution_count": null,
      "metadata": {
        "id": "TtM8yKTVTpD3"
      },
      "outputs": [],
      "source": [
        "# Convert the model.\n",
        "import pathlib\n",
        "converter = tf.lite.TFLiteConverter.from_saved_model(export_dir)\n",
        "converter.optimizations = [optimization]\n",
        "tflite_model = converter.convert()"
      ]
    },
    {
      "cell_type": "code",
      "execution_count": null,
      "metadata": {
        "colab": {
          "base_uri": "https://localhost:8080/"
        },
        "id": "4idYulcNHTdO",
        "outputId": "9202b57c-1189-41dc-b74c-dc8c9a9c187e"
      },
      "outputs": [
        {
          "data": {
            "text/plain": [
              "11007256"
            ]
          },
          "execution_count": 78,
          "metadata": {},
          "output_type": "execute_result"
        }
      ],
      "source": [
        "tflite_model_file = pathlib.Path('/content/drive/MyDrive/model_v2.tflite')\n",
        "tflite_model_file.write_bytes(tflite_model)"
      ]
    },
    {
      "cell_type": "code",
      "execution_count": null,
      "metadata": {
        "colab": {
          "base_uri": "https://localhost:8080/"
        },
        "id": "U7YTh3amD7e9",
        "outputId": "e3d4bcde-f1f9-4368-9e21-6fa95bb97953"
      },
      "outputs": [
        {
          "name": "stdout",
          "output_type": "stream",
          "text": [
            "  adding: content/My_Model/ (stored 0%)\n",
            "  adding: content/My_Model/keras_metadata.pb (deflated 96%)\n",
            "  adding: content/My_Model/assets/ (stored 0%)\n",
            "  adding: content/My_Model/fingerprint.pb (stored 0%)\n",
            "  adding: content/My_Model/variables/ (stored 0%)\n",
            "  adding: content/My_Model/variables/variables.index (deflated 78%)\n",
            "  adding: content/My_Model/variables/variables.data-00000-of-00001 (deflated 9%)\n",
            "  adding: content/My_Model/saved_model.pb (deflated 92%)\n"
          ]
        }
      ],
      "source": [
        "!zip -r /content/drive/MyDrive/model_capstonev2.zip /content/My_Model"
      ]
    },
    {
      "cell_type": "code",
      "execution_count": null,
      "metadata": {
        "colab": {
          "base_uri": "https://localhost:8080/",
          "height": 34
        },
        "id": "ka8p1_JgEDdG",
        "outputId": "f156cfdb-1be1-49b2-99fb-4ae7aafd6788"
      },
      "outputs": [
        {
          "data": {
            "application/javascript": [
              "\n",
              "    async function download(id, filename, size) {\n",
              "      if (!google.colab.kernel.accessAllowed) {\n",
              "        return;\n",
              "      }\n",
              "      const div = document.createElement('div');\n",
              "      const label = document.createElement('label');\n",
              "      label.textContent = `Downloading \"${filename}\": `;\n",
              "      div.appendChild(label);\n",
              "      const progress = document.createElement('progress');\n",
              "      progress.max = size;\n",
              "      div.appendChild(progress);\n",
              "      document.body.appendChild(div);\n",
              "\n",
              "      const buffers = [];\n",
              "      let downloaded = 0;\n",
              "\n",
              "      const channel = await google.colab.kernel.comms.open(id);\n",
              "      // Send a message to notify the kernel that we're ready.\n",
              "      channel.send({})\n",
              "\n",
              "      for await (const message of channel.messages) {\n",
              "        // Send a message to notify the kernel that we're ready.\n",
              "        channel.send({})\n",
              "        if (message.buffers) {\n",
              "          for (const buffer of message.buffers) {\n",
              "            buffers.push(buffer);\n",
              "            downloaded += buffer.byteLength;\n",
              "            progress.value = downloaded;\n",
              "          }\n",
              "        }\n",
              "      }\n",
              "      const blob = new Blob(buffers, {type: 'application/binary'});\n",
              "      const a = document.createElement('a');\n",
              "      a.href = window.URL.createObjectURL(blob);\n",
              "      a.download = filename;\n",
              "      div.appendChild(a);\n",
              "      a.click();\n",
              "      div.remove();\n",
              "    }\n",
              "  "
            ],
            "text/plain": [
              "<IPython.core.display.Javascript object>"
            ]
          },
          "metadata": {},
          "output_type": "display_data"
        },
        {
          "data": {
            "application/javascript": [
              "download(\"download_df2155ea-201b-4c5e-bf22-dd4e8fb4ec31\", \"file.zip\", 1792199911)"
            ],
            "text/plain": [
              "<IPython.core.display.Javascript object>"
            ]
          },
          "metadata": {},
          "output_type": "display_data"
        }
      ],
      "source": [
        "from google.colab import files\n",
        "files.download(\"/content/file.zip\")"
      ]
    },
    {
      "cell_type": "markdown",
      "metadata": {
        "id": "Hqzu99lGNOxl"
      },
      "source": [
        "# Testing"
      ]
    },
    {
      "cell_type": "code",
      "execution_count": null,
      "metadata": {
        "colab": {
          "base_uri": "https://localhost:8080/"
        },
        "id": "fzt6YcHhGbQn",
        "outputId": "c7858643-42dc-4104-ff85-2ba930a0bb18"
      },
      "outputs": [
        {
          "name": "stdout",
          "output_type": "stream",
          "text": [
            "Label Mappings for classes present in the training and validation datasets\n",
            "\n",
            "0 : carrier bag\n",
            "1 : cooking set hike\n",
            "2 : first aid kit\n",
            "3 : flashlight\n",
            "4 : hat\n",
            "5 : headlamp climbing\n",
            "6 : jaket\n",
            "7 : knife\n",
            "8 : matras camping\n",
            "9 : outdoor sandals\n",
            "10 : portable stove\n",
            "11 : raincoat\n",
            "12 : sleeping bag\n",
            "13 : trekking pole\n",
            "14 : trousers\n"
          ]
        }
      ],
      "source": [
        "labels = {value: key for key, value in train_generator.class_indices.items()}\n",
        "\n",
        "print(\"Label Mappings for classes present in the training and validation datasets\\n\")\n",
        "for key, value in labels.items():\n",
        "    print(f\"{key} : {value}\")"
      ]
    },
    {
      "cell_type": "code",
      "execution_count": null,
      "metadata": {
        "colab": {
          "base_uri": "https://localhost:8080/",
          "height": 560
        },
        "id": "MDxAVHP9GbQn",
        "outputId": "65af8986-cfd2-45d0-eba7-76b077dd846f"
      },
      "outputs": [
        {
          "data": {
            "text/html": [
              "\n",
              "     <input type=\"file\" id=\"files-048e5c26-4c51-4d0f-a09c-054517f78f38\" name=\"files[]\" multiple disabled\n",
              "        style=\"border:none\" />\n",
              "     <output id=\"result-048e5c26-4c51-4d0f-a09c-054517f78f38\">\n",
              "      Upload widget is only available when the cell has been executed in the\n",
              "      current browser session. Please rerun this cell to enable.\n",
              "      </output>\n",
              "      <script>// Copyright 2017 Google LLC\n",
              "//\n",
              "// Licensed under the Apache License, Version 2.0 (the \"License\");\n",
              "// you may not use this file except in compliance with the License.\n",
              "// You may obtain a copy of the License at\n",
              "//\n",
              "//      http://www.apache.org/licenses/LICENSE-2.0\n",
              "//\n",
              "// Unless required by applicable law or agreed to in writing, software\n",
              "// distributed under the License is distributed on an \"AS IS\" BASIS,\n",
              "// WITHOUT WARRANTIES OR CONDITIONS OF ANY KIND, either express or implied.\n",
              "// See the License for the specific language governing permissions and\n",
              "// limitations under the License.\n",
              "\n",
              "/**\n",
              " * @fileoverview Helpers for google.colab Python module.\n",
              " */\n",
              "(function(scope) {\n",
              "function span(text, styleAttributes = {}) {\n",
              "  const element = document.createElement('span');\n",
              "  element.textContent = text;\n",
              "  for (const key of Object.keys(styleAttributes)) {\n",
              "    element.style[key] = styleAttributes[key];\n",
              "  }\n",
              "  return element;\n",
              "}\n",
              "\n",
              "// Max number of bytes which will be uploaded at a time.\n",
              "const MAX_PAYLOAD_SIZE = 100 * 1024;\n",
              "\n",
              "function _uploadFiles(inputId, outputId) {\n",
              "  const steps = uploadFilesStep(inputId, outputId);\n",
              "  const outputElement = document.getElementById(outputId);\n",
              "  // Cache steps on the outputElement to make it available for the next call\n",
              "  // to uploadFilesContinue from Python.\n",
              "  outputElement.steps = steps;\n",
              "\n",
              "  return _uploadFilesContinue(outputId);\n",
              "}\n",
              "\n",
              "// This is roughly an async generator (not supported in the browser yet),\n",
              "// where there are multiple asynchronous steps and the Python side is going\n",
              "// to poll for completion of each step.\n",
              "// This uses a Promise to block the python side on completion of each step,\n",
              "// then passes the result of the previous step as the input to the next step.\n",
              "function _uploadFilesContinue(outputId) {\n",
              "  const outputElement = document.getElementById(outputId);\n",
              "  const steps = outputElement.steps;\n",
              "\n",
              "  const next = steps.next(outputElement.lastPromiseValue);\n",
              "  return Promise.resolve(next.value.promise).then((value) => {\n",
              "    // Cache the last promise value to make it available to the next\n",
              "    // step of the generator.\n",
              "    outputElement.lastPromiseValue = value;\n",
              "    return next.value.response;\n",
              "  });\n",
              "}\n",
              "\n",
              "/**\n",
              " * Generator function which is called between each async step of the upload\n",
              " * process.\n",
              " * @param {string} inputId Element ID of the input file picker element.\n",
              " * @param {string} outputId Element ID of the output display.\n",
              " * @return {!Iterable<!Object>} Iterable of next steps.\n",
              " */\n",
              "function* uploadFilesStep(inputId, outputId) {\n",
              "  const inputElement = document.getElementById(inputId);\n",
              "  inputElement.disabled = false;\n",
              "\n",
              "  const outputElement = document.getElementById(outputId);\n",
              "  outputElement.innerHTML = '';\n",
              "\n",
              "  const pickedPromise = new Promise((resolve) => {\n",
              "    inputElement.addEventListener('change', (e) => {\n",
              "      resolve(e.target.files);\n",
              "    });\n",
              "  });\n",
              "\n",
              "  const cancel = document.createElement('button');\n",
              "  inputElement.parentElement.appendChild(cancel);\n",
              "  cancel.textContent = 'Cancel upload';\n",
              "  const cancelPromise = new Promise((resolve) => {\n",
              "    cancel.onclick = () => {\n",
              "      resolve(null);\n",
              "    };\n",
              "  });\n",
              "\n",
              "  // Wait for the user to pick the files.\n",
              "  const files = yield {\n",
              "    promise: Promise.race([pickedPromise, cancelPromise]),\n",
              "    response: {\n",
              "      action: 'starting',\n",
              "    }\n",
              "  };\n",
              "\n",
              "  cancel.remove();\n",
              "\n",
              "  // Disable the input element since further picks are not allowed.\n",
              "  inputElement.disabled = true;\n",
              "\n",
              "  if (!files) {\n",
              "    return {\n",
              "      response: {\n",
              "        action: 'complete',\n",
              "      }\n",
              "    };\n",
              "  }\n",
              "\n",
              "  for (const file of files) {\n",
              "    const li = document.createElement('li');\n",
              "    li.append(span(file.name, {fontWeight: 'bold'}));\n",
              "    li.append(span(\n",
              "        `(${file.type || 'n/a'}) - ${file.size} bytes, ` +\n",
              "        `last modified: ${\n",
              "            file.lastModifiedDate ? file.lastModifiedDate.toLocaleDateString() :\n",
              "                                    'n/a'} - `));\n",
              "    const percent = span('0% done');\n",
              "    li.appendChild(percent);\n",
              "\n",
              "    outputElement.appendChild(li);\n",
              "\n",
              "    const fileDataPromise = new Promise((resolve) => {\n",
              "      const reader = new FileReader();\n",
              "      reader.onload = (e) => {\n",
              "        resolve(e.target.result);\n",
              "      };\n",
              "      reader.readAsArrayBuffer(file);\n",
              "    });\n",
              "    // Wait for the data to be ready.\n",
              "    let fileData = yield {\n",
              "      promise: fileDataPromise,\n",
              "      response: {\n",
              "        action: 'continue',\n",
              "      }\n",
              "    };\n",
              "\n",
              "    // Use a chunked sending to avoid message size limits. See b/62115660.\n",
              "    let position = 0;\n",
              "    do {\n",
              "      const length = Math.min(fileData.byteLength - position, MAX_PAYLOAD_SIZE);\n",
              "      const chunk = new Uint8Array(fileData, position, length);\n",
              "      position += length;\n",
              "\n",
              "      const base64 = btoa(String.fromCharCode.apply(null, chunk));\n",
              "      yield {\n",
              "        response: {\n",
              "          action: 'append',\n",
              "          file: file.name,\n",
              "          data: base64,\n",
              "        },\n",
              "      };\n",
              "\n",
              "      let percentDone = fileData.byteLength === 0 ?\n",
              "          100 :\n",
              "          Math.round((position / fileData.byteLength) * 100);\n",
              "      percent.textContent = `${percentDone}% done`;\n",
              "\n",
              "    } while (position < fileData.byteLength);\n",
              "  }\n",
              "\n",
              "  // All done.\n",
              "  yield {\n",
              "    response: {\n",
              "      action: 'complete',\n",
              "    }\n",
              "  };\n",
              "}\n",
              "\n",
              "scope.google = scope.google || {};\n",
              "scope.google.colab = scope.google.colab || {};\n",
              "scope.google.colab._files = {\n",
              "  _uploadFiles,\n",
              "  _uploadFilesContinue,\n",
              "};\n",
              "})(self);\n",
              "</script> "
            ],
            "text/plain": [
              "<IPython.core.display.HTML object>"
            ]
          },
          "metadata": {},
          "output_type": "display_data"
        },
        {
          "name": "stdout",
          "output_type": "stream",
          "text": [
            "Saving first aid kit.jpg to first aid kit (1).jpg\n",
            "Saving gelas.png to gelas (1).png\n",
            "Saving gunting.jpg to gunting.jpg\n",
            "Saving headlamp.jpg to headlamp (1).jpg\n",
            "Saving knife.jpg to knife (1).jpg\n",
            "Saving lampu tenda.jpg to lampu tenda (1).jpg\n",
            "Saving outdoorssandals25.jpeg to outdoorssandals25 (1).jpeg\n",
            "Saving outdoorssandals26.jpeg to outdoorssandals26 (1).jpeg\n",
            "Saving outdoorssandals27.jpeg to outdoorssandals27 (1).jpeg\n",
            "Saving sandal.jpg to sandal (1).jpg\n",
            "Saving shoes.jpg to shoes (1).jpg\n",
            "Saving shoes1.jpg to shoes1 (1).jpg\n",
            "Saving shoes2.jpg to shoes2 (1).jpg\n",
            "Saving shoes3.jpg to shoes3 (1).jpg\n",
            "Saving trash bag.jpg to trash bag (1).jpg\n"
          ]
        }
      ],
      "source": [
        "from tensorflow.keras.preprocessing.image import load_img, img_to_array\n",
        "import numpy as np\n",
        "from google.colab import files\n",
        "TESTDI = uploaded=files.upload()\n",
        "IMG_SIZE = 256\n"
      ]
    },
    {
      "cell_type": "code",
      "execution_count": null,
      "metadata": {
        "colab": {
          "base_uri": "https://localhost:8080/"
        },
        "id": "GYXbJ32GGbQo",
        "outputId": "36808fd3-1d73-4915-d65d-28a2ae0f413f"
      },
      "outputs": [
        {
          "name": "stdout",
          "output_type": "stream",
          "text": [
            "1/1 [==============================] - 0s 36ms/step\n",
            "file /content/first aid kit.jpg adalah first aid kit \n",
            "1/1 [==============================] - 0s 40ms/step\n",
            "file /content/gelas.png adalah gelas plastik \n",
            "1/1 [==============================] - 0s 35ms/step\n",
            "file /content/gunting.jpg adalah knife \n",
            "1/1 [==============================] - 0s 34ms/step\n",
            "file /content/headlamp.jpg adalah headlamp climbing \n",
            "1/1 [==============================] - 0s 35ms/step\n",
            "file /content/knife.jpg adalah knife \n",
            "1/1 [==============================] - 0s 22ms/step\n",
            "file /content/lampu tenda.jpg adalah lampu tenda \n",
            "1/1 [==============================] - 0s 22ms/step\n",
            "file /content/outdoorssandals25.jpeg adalah outdoor sandals \n",
            "1/1 [==============================] - 0s 24ms/step\n",
            "file /content/outdoorssandals26.jpeg adalah outdoor sandals \n",
            "1/1 [==============================] - 0s 23ms/step\n",
            "file /content/outdoorssandals27.jpeg adalah shoes \n",
            "1/1 [==============================] - 0s 24ms/step\n",
            "file /content/sandal.jpg adalah shoes \n",
            "1/1 [==============================] - 0s 25ms/step\n",
            "file /content/shoes.jpg adalah shoes \n",
            "1/1 [==============================] - 0s 27ms/step\n",
            "file /content/shoes1.jpg adalah shoes \n",
            "1/1 [==============================] - 0s 22ms/step\n",
            "file /content/shoes2.jpg adalah shoes \n",
            "1/1 [==============================] - 0s 23ms/step\n",
            "file /content/shoes3.jpg adalah shoes \n",
            "1/1 [==============================] - 0s 29ms/step\n",
            "file /content/trash bag.jpg adalah trash bag \n"
          ]
        }
      ],
      "source": [
        "for her in TESTDI:\n",
        "    pathi='/content/'+ her\n",
        "    img=load_img(pathi, target_size=(256, 256))\n",
        "    x=img_to_array(img)\n",
        "    x /= 255\n",
        "    x=np.expand_dims(x, axis=0)\n",
        "    images = np.vstack([x])\n",
        "    classes = model.predict(images, batch_size=10)\n",
        "    predicted_label = labels[np.argmax(classes[0])]\n",
        "    print(f\"file {pathi} adalah {predicted_label} \")\n",
        "\n",
        "\n"
      ]
    },
    {
      "cell_type": "code",
      "execution_count": null,
      "metadata": {
        "colab": {
          "base_uri": "https://localhost:8080/",
          "height": 1000
        },
        "id": "IZokUkoHJ4hQ",
        "outputId": "04d99d3d-2dcc-41bc-eefe-68db250bee3b"
      },
      "outputs": [
        {
          "ename": "IndexError",
          "evalue": "ignored",
          "output_type": "error",
          "traceback": [
            "\u001b[0;31m---------------------------------------------------------------------------\u001b[0m",
            "\u001b[0;31mIndexError\u001b[0m                                Traceback (most recent call last)",
            "\u001b[0;32m<ipython-input-63-adca8e5bc35a>\u001b[0m in \u001b[0;36m<cell line: 4>\u001b[0;34m()\u001b[0m\n\u001b[1;32m      5\u001b[0m     \u001b[0;32mfor\u001b[0m \u001b[0mj\u001b[0m \u001b[0;32min\u001b[0m \u001b[0mrange\u001b[0m\u001b[0;34m(\u001b[0m\u001b[0;36m5\u001b[0m\u001b[0;34m)\u001b[0m\u001b[0;34m:\u001b[0m\u001b[0;34m\u001b[0m\u001b[0;34m\u001b[0m\u001b[0m\n\u001b[1;32m      6\u001b[0m         \u001b[0max\u001b[0m\u001b[0;34m[\u001b[0m\u001b[0mi\u001b[0m\u001b[0;34m,\u001b[0m \u001b[0mj\u001b[0m\u001b[0;34m]\u001b[0m\u001b[0;34m.\u001b[0m\u001b[0mset_title\u001b[0m\u001b[0;34m(\u001b[0m\u001b[0;34mf\"{predicted_label}\"\u001b[0m\u001b[0;34m)\u001b[0m\u001b[0;34m\u001b[0m\u001b[0;34m\u001b[0m\u001b[0m\n\u001b[0;32m----> 7\u001b[0;31m         \u001b[0max\u001b[0m\u001b[0;34m[\u001b[0m\u001b[0mi\u001b[0m\u001b[0;34m,\u001b[0m \u001b[0mj\u001b[0m\u001b[0;34m]\u001b[0m\u001b[0;34m.\u001b[0m\u001b[0mimshow\u001b[0m\u001b[0;34m(\u001b[0m\u001b[0mimages\u001b[0m\u001b[0;34m[\u001b[0m\u001b[0mj\u001b[0m\u001b[0;34m]\u001b[0m\u001b[0;34m)\u001b[0m\u001b[0;34m\u001b[0m\u001b[0;34m\u001b[0m\u001b[0m\n\u001b[0m\u001b[1;32m      8\u001b[0m         \u001b[0max\u001b[0m\u001b[0;34m[\u001b[0m\u001b[0mi\u001b[0m\u001b[0;34m,\u001b[0m \u001b[0mj\u001b[0m\u001b[0;34m]\u001b[0m\u001b[0;34m.\u001b[0m\u001b[0maxis\u001b[0m\u001b[0;34m(\u001b[0m\u001b[0;34m\"off\"\u001b[0m\u001b[0;34m)\u001b[0m\u001b[0;34m\u001b[0m\u001b[0;34m\u001b[0m\u001b[0m\n\u001b[1;32m      9\u001b[0m         \u001b[0midx\u001b[0m \u001b[0;34m+=\u001b[0m \u001b[0;36m1\u001b[0m\u001b[0;34m\u001b[0m\u001b[0;34m\u001b[0m\u001b[0m\n",
            "\u001b[0;31mIndexError\u001b[0m: index 1 is out of bounds for axis 0 with size 1"
          ]
        },
        {
          "data": {
            "image/png": "[encoded data removed]",
            "text/plain": [
              "<Figure size 1200x1000 with 10 Axes>"
            ]
          },
          "metadata": {},
          "output_type": "display_data"
        }
      ],
      "source": [
        "fig, ax = plt.subplots(nrows=2, ncols=5, figsize=(12, 10))\n",
        "idx = 0\n",
        "\n",
        "for i in range(2):\n",
        "    for j in range(5):\n",
        "        ax[i, j].set_title(f\"{predicted_label}\")\n",
        "        ax[i, j].imshow(images[j])\n",
        "        ax[i, j].axis(\"off\")\n",
        "        idx += 1\n",
        "\n",
        "plt.tight_layout()\n",
        "plt.suptitle(\"Test Dataset Predictions\", fontsize=20)\n",
        "plt.show()"
      ]
    },
    {
      "cell_type": "code",
      "execution_count": null,
      "metadata": {
        "id": "uLOi4AyNGbQo"
      },
      "outputs": [],
      "source": [
        "filesi=os.listdir(source_path_flashlight)"
      ]
    },
    {
      "cell_type": "markdown",
      "metadata": {
        "id": "RFFmRbbVLJBs"
      },
      "source": [
        "# Load InceptionV3 Saved Model"
      ]
    },
    {
      "cell_type": "code",
      "execution_count": null,
      "metadata": {
        "colab": {
          "base_uri": "https://localhost:8080/"
        },
        "id": "f5Gafyvadj3Z",
        "outputId": "6ba2661b-2e15-49e3-ab98-37dfa7eea82f"
      },
      "outputs": [
        {
          "name": "stdout",
          "output_type": "stream",
          "text": [
            "Downloading...\n",
            "From: https://drive.google.com/uc?id=1hp4pS3W4RbIR_H9OBNVz6nHB8Iz1GXL5\n",
            "To: /content/Capstone_Model.h5\n",
            "100% 1.96G/1.96G [00:45<00:00, 42.7MB/s]\n"
          ]
        }
      ],
      "source": [
        "# layer.trainable=True\n",
        "# location drive/u/2\n",
        "!gdown 1hp4pS3W4RbIR_H9OBNVz6nHB8Iz1GXL5"
      ]
    },
    {
      "cell_type": "code",
      "execution_count": null,
      "metadata": {
        "colab": {
          "base_uri": "https://localhost:8080/"
        },
        "id": "X8Y3Kf0NQDNf",
        "outputId": "3803fe62-7241-481b-ce71-3e612d95660c"
      },
      "outputs": [
        {
          "name": "stdout",
          "output_type": "stream",
          "text": [
            "Downloading...\n",
            "From: https://drive.google.com/uc?id=1jrBy-GF-vsVuCcT9q8U9p0W9IfKNtja5\n",
            "To: /content/Capstone_Model.h5\n",
            "100% 1.89G/1.89G [00:31<00:00, 60.7MB/s]\n"
          ]
        }
      ],
      "source": [
        "# layer.trainable=False\n",
        "!gdown 1jrBy-GF-vsVuCcT9q8U9p0W9IfKNtja5"
      ]
    },
    {
      "cell_type": "code",
      "execution_count": null,
      "metadata": {
        "colab": {
          "base_uri": "https://localhost:8080/"
        },
        "id": "leKrPtqW6MkT",
        "outputId": "e5ae9d67-7b44-48d0-9699-edada2207d3d"
      },
      "outputs": [
        {
          "name": "stdout",
          "output_type": "stream",
          "text": [
            "Downloading...\n",
            "From: https://drive.google.com/uc?id=13HsTYnHr7Fw4CuUOcrc7NfpsWi6orZlI\n",
            "To: /content/Capstone_Model.h5\n",
            "100% 40.4M/40.4M [00:00<00:00, 73.9MB/s]\n"
          ]
        }
      ],
      "source": [
        "# layer.trainable = False with new combination layer\n",
        "!gdown 13HsTYnHr7Fw4CuUOcrc7NfpsWi6orZlI"
      ]
    },
    {
      "cell_type": "code",
      "execution_count": null,
      "metadata": {
        "colab": {
          "base_uri": "https://localhost:8080/"
        },
        "id": "MkmTaF8cZPui",
        "outputId": "5f86d9f5-1810-4843-fca2-1e434e83c5b1"
      },
      "outputs": [
        {
          "name": "stdout",
          "output_type": "stream",
          "text": [
            "Downloading...\n",
            "From: https://drive.google.com/uc?id=1-2EQutnGut_m-2w-jgOc8EsNbfEJ9OUU\n",
            "To: /content/Capstone_ModelV3_3.h5\n",
            "100% 127M/127M [00:08<00:00, 15.7MB/s]\n"
          ]
        }
      ],
      "source": [
        "# model2 ver 2\n",
        "# !gdown 17ZhmQ8aByco8teS49OdrqIrZEV8hezcT\n",
        "\n",
        "# model ver 2.1\n",
        "# !gdown 1PDkMWyJUfZ3PGaheXiMVaApLNnoKIKVQ\n",
        "\n",
        "# model ver 2.2\n",
        "# !gdown 1P1cAdEMi0w5pZPL4zTEAXlaQx5PHfqYB\n",
        "\n",
        "# model cer 2.3\n",
        "# !gdown 1IBC2vIF9gxGlX1CmY68QP5tzpix7ROuw\n",
        "\n",
        "# model ver 3.3\n",
        "!gdown 1-2EQutnGut_m-2w-jgOc8EsNbfEJ9OUU"
      ]
    },
    {
      "cell_type": "code",
      "execution_count": null,
      "metadata": {
        "id": "X2DAIO2ILfDP"
      },
      "outputs": [],
      "source": [
        "model_path = '/content/Capstone_ModelV3_3.h5'"
      ]
    },
    {
      "cell_type": "code",
      "execution_count": null,
      "metadata": {
        "id": "Oid8mA14Lv_C"
      },
      "outputs": [],
      "source": [
        "model = tf.keras.models.load_model(model_path)"
      ]
    },
    {
      "cell_type": "code",
      "execution_count": null,
      "metadata": {
        "id": "ti6LX9j46lxO"
      },
      "outputs": [],
      "source": [
        "loaded_model.compile(optimizer=tf.keras.optimizers.Adam(),\n",
        "                loss=tf.keras.losses.CategoricalCrossentropy(from_logits=False),\n",
        "                metrics=['accuracy'])"
      ]
    },
    {
      "cell_type": "code",
      "execution_count": null,
      "metadata": {
        "colab": {
          "base_uri": "https://localhost:8080/"
        },
        "id": "_VltiUeF6YBS",
        "outputId": "0a2b9aa0-75a8-4c52-96e6-9e70f8047c68"
      },
      "outputs": [
        {
          "name": "stdout",
          "output_type": "stream",
          "text": [
            "Epoch 1/10\n",
            "106/492 [=====>........................] - ETA: 3:30 - loss: 0.8846 - accuracy: 0.7460"
          ]
        }
      ],
      "source": [
        "history = loaded_model.fit(train_generator,\n",
        "                    epochs=10,\n",
        "                    steps_per_epoch=len(train_generator),\n",
        "                    validation_data=validation_generator,\n",
        "                    validation_steps=int(0.15*len(validation_generator)),\n",
        "                    callbacks= [my_callback],\n",
        "                    class_weight=weight)"
      ]
    },
    {
      "cell_type": "code",
      "execution_count": null,
      "metadata": {
        "id": "L66rnrY8XM6L"
      },
      "outputs": [],
      "source": [
        "loaded_model.save('/content/drive/MyDrive/Capstone_Modelv3.h5')"
      ]
    },
    {
      "cell_type": "code",
      "execution_count": null,
      "metadata": {
        "colab": {
          "base_uri": "https://localhost:8080/"
        },
        "id": "aeozel4iNnsH",
        "outputId": "50df1cd9-1443-42a3-d616-149669191884"
      },
      "outputs": [
        {
          "name": "stdout",
          "output_type": "stream",
          "text": [
            " 25/492 [>.............................] - ETA: 3:49 - loss: 0.1773 - accuracy: 0.9488"
          ]
        },
        {
          "name": "stderr",
          "output_type": "stream",
          "text": [
            "/usr/local/lib/python3.10/dist-packages/PIL/Image.py:975: UserWarning: Palette images with Transparency expressed in bytes should be converted to RGBA images\n",
            "  warnings.warn(\n"
          ]
        },
        {
          "name": "stdout",
          "output_type": "stream",
          "text": [
            "492/492 [==============================] - 270s 531ms/step - loss: 0.1386 - accuracy: 0.9583\n"
          ]
        },
        {
          "data": {
            "text/plain": [
              "[0.13862411677837372, 0.9582892656326294]"
            ]
          },
          "execution_count": 23,
          "metadata": {},
          "output_type": "execute_result"
        }
      ],
      "source": [
        "model.evaluate(train_generator)"
      ]
    },
    {
      "cell_type": "code",
      "execution_count": null,
      "metadata": {
        "colab": {
          "base_uri": "https://localhost:8080/"
        },
        "id": "_iTpdbLGQlvY",
        "outputId": "99c043a9-d416-4a87-b5c0-095825ea7af8"
      },
      "outputs": [
        {
          "name": "stdout",
          "output_type": "stream",
          "text": [
            "55/55 [==============================] - 13s 234ms/step - loss: 0.1067 - accuracy: 0.9672\n"
          ]
        },
        {
          "data": {
            "text/plain": [
              "[0.10669269412755966, 0.9671533107757568]"
            ]
          },
          "execution_count": 24,
          "metadata": {},
          "output_type": "execute_result"
        }
      ],
      "source": [
        "model.evaluate(validation_generator)"
      ]
    }
  ],
  "metadata": {
    "accelerator": "GPU",
    "colab": {
      "provenance": [],
      "toc_visible": true,
      "include_colab_link": true
    },
    "gpuClass": "standard",
    "kernelspec": {
      "display_name": "base",
      "language": "python",
      "name": "python3"
    },
    "language_info": {
      "codemirror_mode": {
        "name": "ipython",
        "version": 3
      },
      "file_extension": ".py",
      "mimetype": "text/x-python",
      "name": "python",
      "nbconvert_exporter": "python",
      "pygments_lexer": "ipython3",
      "version": "3.8.8"
    }
  },
  "nbformat": 4,
  "nbformat_minor": 0
}